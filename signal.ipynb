{
 "cells": [
  {
   "cell_type": "code",
   "execution_count": 1,
   "metadata": {},
   "outputs": [],
   "source": [
    "import serial  # 引用pySerial模組\n",
    "import time\n",
    "import numpy as np\n",
    "from time import sleep\n",
    "from keyboard import is_pressed, read_key\n",
    "import socketio\n",
    "\n",
    "BAUD_RATE = 115200    # 設定傳輸速率\n",
    "COM_PORT = 'COM3'    # 指定通訊埠名稱\n",
    "CHANNEL_NUMBER = 4\n",
    "SAMPLE_TIME = 1 / 500\n",
    "NOARDUINO = False\n",
    "\n",
    "record_path = './data/lick2.npy'\n",
    "server_url = 'http://localhost:3000'"
   ]
  },
  {
   "cell_type": "code",
   "execution_count": 24,
   "metadata": {},
   "outputs": [],
   "source": [
    "class reciever():\n",
    "    def __init__(self, url, port, baud_rate, record = None) -> None: \n",
    "        if isinstance(record, loader):\n",
    "            self._serial = record\n",
    "        else:\n",
    "            self._serial = serial.Serial(port, baud_rate)# 初始化序列通訊埠\n",
    "        self._sio = socketio.Client()\n",
    "        self._sio.connect(url)\n",
    "        try:\n",
    "            assert isinstance(self._sio, socketio.Client)\n",
    "            print(\"Connected to Socket server.\")\n",
    "        except:\n",
    "            raise Exception(\"Maybe server is not online.\")\n",
    "    \n",
    "    def run(self):\n",
    "        try:\n",
    "            while True:\n",
    "                while self._serial.in_waiting:          # 若收到序列資料…\n",
    "                    data_raw = self._serial.readline()  # 讀取一行\n",
    "                    rcv = data_raw.decode(errors='surrogateescape').rstrip() # 用預設的UTF-8解碼\n",
    "                    try:\n",
    "                        self._sio.emit(\"ArduinoSignal\", rcv)\n",
    "                        print(rcv)\n",
    "                    except KeyboardInterrupt:\n",
    "                        break\n",
    "                    except:\n",
    "                        pass\n",
    "                    finally:\n",
    "                        if isinstance(self._serial, loader):\n",
    "                            sleep(SAMPLE_TIME) \n",
    "\n",
    "        except KeyboardInterrupt:\n",
    "            self._serial.close()    # 清除序列通訊物件\n",
    "            self._sio.disconnect()\n",
    "            print('Serial disconnected.')\n",
    "            \n",
    "class recorder():\n",
    "    def __init__(self, port, baud_rate, record_name, record_path = './data') -> None: \n",
    "        self._serial = serial.Serial(port, baud_rate)# 初始化序列通訊埠\n",
    "        self.X = None\n",
    "        self.y = []\n",
    "        self._record_path = record_path + '/' + record_name\n",
    "        self.keyclass = {0:'undefined action', 1:'up', 2:'down', 3:'left', 4:'right'} \n",
    "    \n",
    "    def run(self):\n",
    "        try:\n",
    "            while True:\n",
    "                while self._serial.in_waiting:          # 若收到序列資料…\n",
    "                    data_raw = self._serial.readline()  # 讀取一行\n",
    "                    rcv = data_raw.decode(errors='surrogateescape').rstrip() # 用預設的UTF-8解碼\n",
    "                    try:\n",
    "                        data = np.array(rcv.split(',')).astype(np.float32)\n",
    "                        if data.shape[0] < 4:\n",
    "                            continue\n",
    "                        \n",
    "                        if is_pressed('w'):\n",
    "                            self.y.append(1)\n",
    "                        elif is_pressed('s'):\n",
    "                            self.y.append(2)\n",
    "                        elif is_pressed('a'):\n",
    "                            self.y.append(3)\n",
    "                        elif is_pressed('d'):\n",
    "                            self.y.append(4)\n",
    "                        else:\n",
    "                            self.y.append(0)\n",
    "                        \n",
    "                        if isinstance(self.X, np.ndarray):\n",
    "                            self.X = np.concatenate([self.X, data[np.newaxis, :].copy()], axis=0)\n",
    "                        else:\n",
    "                            self.X = data[np.newaxis, :].copy()\n",
    "                            \n",
    "                        print(self.keyclass[self.y[-1]].ljust(len('undefined action')), end='\\r')\n",
    "                            \n",
    "                    except KeyboardInterrupt:\n",
    "                        break\n",
    "                    except:\n",
    "                        pass\n",
    "\n",
    "        except KeyboardInterrupt:\n",
    "            np.save(self._record_path + '_X', self.X)\n",
    "            print(\"Saved file {}.\".format(self._record_path + '_X'))\n",
    "            np.save(self._record_path + '_y', np.array(self.y).astype(np.int32))\n",
    "            print(\"Saved file {}.\".format(self._record_path + '_y'))\n",
    "            self._serial.close()    # 清除序列通訊物件\n",
    "            print('Serial disconnected.')\n",
    "            \n",
    "class loader():\n",
    "    def __init__(self, path) -> None:\n",
    "        self.data = np.load(path)\n",
    "        self.in_waiting = True\n",
    "        self.__i = 0\n",
    "        \n",
    "    def readline(self):\n",
    "        try:\n",
    "            ret = self.data[self.__i, :].astype(np.str_).tolist()\n",
    "            return \",\".join(ret).encode(encoding='UTF-8')\n",
    "        except KeyboardInterrupt:\n",
    "            self.in_waiting = False\n",
    "        except:\n",
    "            self.__i = 0\n",
    "            ret = self.data[self.__i, :].astype(np.str_).tolist()\n",
    "            return \",\".join(ret).encode(encoding='UTF-8')\n",
    "        finally:\n",
    "            self.__i += 1\n",
    "    \n",
    "    def close(self):\n",
    "        pass"
   ]
  },
  {
   "cell_type": "code",
   "execution_count": null,
   "metadata": {},
   "outputs": [],
   "source": [
    "if NOARDUINO:\n",
    "    arduino = reciever(server_url, COM_PORT, BAUD_RATE, loader(record_path))\n",
    "else:\n",
    "    arduino = reciever(server_url, COM_PORT, BAUD_RATE)\n",
    "arduino.run()"
   ]
  },
  {
   "cell_type": "code",
   "execution_count": 27,
   "metadata": {},
   "outputs": [
    {
     "name": "stdout",
     "output_type": "stream",
     "text": [
      "Saved file ./data/test_X.\n",
      "Saved file ./data/test_y.\n",
      "Serial disconnected.\n"
     ]
    }
   ],
   "source": [
    "record_name = 'test'\n",
    "arduino = recorder(COM_PORT, BAUD_RATE, record_name)\n",
    "arduino.run()"
   ]
  },
  {
   "cell_type": "code",
   "execution_count": 19,
   "metadata": {},
   "outputs": [],
   "source": [
    "a = np.load('./data/test_X.npy')\n",
    "b = np.load('./data/test_y.npy')"
   ]
  }
 ],
 "metadata": {
  "kernelspec": {
   "display_name": "Python 3",
   "language": "python",
   "name": "python3"
  },
  "language_info": {
   "codemirror_mode": {
    "name": "ipython",
    "version": 3
   },
   "file_extension": ".py",
   "mimetype": "text/x-python",
   "name": "python",
   "nbconvert_exporter": "python",
   "pygments_lexer": "ipython3",
   "version": "3.10.7"
  },
  "orig_nbformat": 4,
  "vscode": {
   "interpreter": {
    "hash": "369f2c481f4da34e4445cda3fffd2e751bd1c4d706f27375911949ba6bb62e1c"
   }
  }
 },
 "nbformat": 4,
 "nbformat_minor": 2
}
