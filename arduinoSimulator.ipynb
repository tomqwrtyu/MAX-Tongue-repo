{
 "cells": [
  {
   "cell_type": "code",
   "execution_count": 4,
   "metadata": {},
   "outputs": [],
   "source": [
    "import serial  # 引用pySerial模組\n",
    "import time\n",
    "import numpy as np\n",
    "from time import sleep\n",
    "import socketio\n",
    "\n",
    "BAUD_RATE = 115200    # 設定傳輸速率\n",
    "COM_PORT = 'COM3'    # 指定通訊埠名稱\n",
    "CHANNEL_NUMBER = 3\n",
    "SAMPLE_TIME = 1 / 500\n",
    "WINDOW_SIZE = 300\n",
    "\n",
    "record_path = './data/lick2.npy'\n",
    "server_url = 'http://localhost:3000'"
   ]
  },
  {
   "cell_type": "code",
   "execution_count": 2,
   "metadata": {},
   "outputs": [],
   "source": [
    "class reciever():\n",
    "    def __init__(self, url, port, baud_rate, record = None) -> None: \n",
    "        super().__init__()\n",
    "        if isinstance(record, loader):\n",
    "            self._serial = record\n",
    "        else:\n",
    "            self._serial = serial.Serial(port, baud_rate)# 初始化序列通訊埠\n",
    "        self._sio = socketio.Client()\n",
    "        self._sio.connect(url)\n",
    "        try:\n",
    "            assert isinstance(self._sio, socketio.Client)\n",
    "            print(\"Connected to Socket server.\")\n",
    "        except:\n",
    "            raise Exception(\"Maybe server is not online.\")\n",
    "    \n",
    "    def run(self):\n",
    "        try:\n",
    "            while True:\n",
    "                while self._serial.in_waiting:          # 若收到序列資料…\n",
    "                    data_raw = self._serial.readline()  # 讀取一行\n",
    "                    rcv = data_raw.decode(errors='surrogateescape').rstrip() # 用預設的UTF-8解碼\n",
    "                    try:\n",
    "                        self._sio.emit(\"ArduinoSignal\", rcv)\n",
    "                        print(rcv)\n",
    "                    except KeyboardInterrupt:\n",
    "                        break\n",
    "                    except:\n",
    "                        pass\n",
    "                    finally:\n",
    "                        if isinstance(self._serial, loader):\n",
    "                            sleep(SAMPLE_TIME) \n",
    "\n",
    "        except KeyboardInterrupt:\n",
    "            self._serial.close()    # 清除序列通訊物件\n",
    "            self._sio.disconnect()\n",
    "            print('Serial disconnected.')\n",
    "        \n",
    "            \n",
    "class loader():\n",
    "    def __init__(self, path) -> None:\n",
    "        self.data = np.load(path)\n",
    "        self.in_waiting = True\n",
    "        self.__i = 0\n",
    "        \n",
    "    def readline(self):\n",
    "        try:\n",
    "            ret = self.data[self.__i, :].astype(np.str_).tolist()\n",
    "            return \",\".join(ret).encode(encoding='UTF-8')\n",
    "        except KeyboardInterrupt:\n",
    "            self.in_waiting = False\n",
    "        except:\n",
    "            self.__i = 0\n",
    "            ret = self.data[self.__i, :].astype(np.str_).tolist()\n",
    "            return \",\".join(ret).encode(encoding='UTF-8')\n",
    "        finally:\n",
    "            self.__i += 1\n",
    "    \n",
    "    def close(self):\n",
    "        pass"
   ]
  },
  {
   "cell_type": "code",
   "execution_count": null,
   "metadata": {},
   "outputs": [],
   "source": [
    "arduino = reciever(server_url, COM_PORT, BAUD_RATE, loader(record_path))\n",
    "arduino.run()"
   ]
  }
 ],
 "metadata": {
  "kernelspec": {
   "display_name": "Python 3",
   "language": "python",
   "name": "python3"
  },
  "language_info": {
   "codemirror_mode": {
    "name": "ipython",
    "version": 3
   },
   "file_extension": ".py",
   "mimetype": "text/x-python",
   "name": "python",
   "nbconvert_exporter": "python",
   "pygments_lexer": "ipython3",
   "version": "3.10.7 (tags/v3.10.7:6cc6b13, Sep  5 2022, 14:08:36) [MSC v.1933 64 bit (AMD64)]"
  },
  "orig_nbformat": 4,
  "vscode": {
   "interpreter": {
    "hash": "369f2c481f4da34e4445cda3fffd2e751bd1c4d706f27375911949ba6bb62e1c"
   }
  }
 },
 "nbformat": 4,
 "nbformat_minor": 2
}
