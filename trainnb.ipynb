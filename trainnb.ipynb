{
 "cells": [
  {
   "cell_type": "code",
   "execution_count": 9,
   "metadata": {},
   "outputs": [],
   "source": [
    "import pandas as pd\n",
    "import numpy as np\n",
    "import tensorflow as tf\n",
    "import tensorflow_addons as tfa\n",
    "from sklearn.model_selection import train_test_split\n",
    "import plotly.express as px\n",
    "import emd\n",
    "tf.keras.mixed_precision.set_global_policy('mixed_float16')\n",
    "\n",
    "BATCH_SIZE = 32\n",
    "CHANNEL_NUMBER = 3\n",
    "WINDOW_SIZE = 300\n",
    "SLIDING_STEP = int(WINDOW_SIZE * 0.4)\n",
    "CLASS_NUMBER = 2\n",
    "if CLASS_NUMBER < 3:\n",
    "    CLASS_NUMBER = 1\n",
    "\n",
    "def slicingAndNormalize(arr):\n",
    "    def normalizer(X):\n",
    "        mean = np.average(X, axis=1)\n",
    "        std = np.std(X, axis=1)\n",
    "        ret = (X.copy() - mean) / std\n",
    "        return ret\n",
    "    \n",
    "    totalLength = arr.shape[0]\n",
    "    if totalLength <= WINDOW_SIZE:\n",
    "        return arr\n",
    "    ret = normalizer((arr[:WINDOW_SIZE, :])[np.newaxis, :])\n",
    "    \n",
    "    i = SLIDING_STEP\n",
    "    while (totalLength - i) > WINDOW_SIZE:\n",
    "        new = normalizer((arr[i:(i + WINDOW_SIZE), :])[np.newaxis, :])\n",
    "        ret = np.concatenate([ret, new], axis=0)\n",
    "        i += SLIDING_STEP\n",
    "    return ret\n",
    "\n",
    "def slicing(arr):\n",
    "    totalLength = arr.shape[0]\n",
    "    if totalLength <= WINDOW_SIZE:\n",
    "        return arr\n",
    "    ret = (arr[:WINDOW_SIZE, :])[np.newaxis, :]\n",
    "    \n",
    "    i = SLIDING_STEP\n",
    "    while (totalLength - i) > WINDOW_SIZE:\n",
    "        new = (arr[i:(i + WINDOW_SIZE), :])[np.newaxis, :]\n",
    "        ret = np.concatenate([ret, new], axis=0)\n",
    "        i += SLIDING_STEP\n",
    "    return ret\n",
    "\n",
    "def emdSignal(sig):\n",
    "    dataNumber = sig.shape[0]\n",
    "    channel = sig.shape[-1]\n",
    "    ret = None\n",
    "    \n",
    "    for i in range(dataNumber):\n",
    "        temp = None\n",
    "        \n",
    "        for c in range(channel):\n",
    "            raw = sig[i, :, c]\n",
    "            imf = emd.sift.sift(raw, max_imfs=4, imf_opts={'sd_thresh': 0.1})\n",
    "            \n",
    "            if imf.shape[-1] < 4:\n",
    "                compensate = np.zeros((WINDOW_SIZE, 4 - imf.shape[-1]))\n",
    "                imf = np.concatenate([imf, compensate], axis = 1)\n",
    "            \n",
    "            if not type(temp) == np.ndarray: \n",
    "                temp = imf\n",
    "            else: \n",
    "                temp = np.concatenate([temp, imf], axis = 1)\n",
    "            \n",
    "        if type(temp) == np.ndarray: \n",
    "            if not type(ret) == np.ndarray: \n",
    "                ret = temp[np.newaxis, :]\n",
    "            else: \n",
    "                ret = np.concatenate([ret, temp[np.newaxis, :]], axis = 0)\n",
    "                \n",
    "    return ret\n",
    "\n",
    "def buildModel(shape):\n",
    "    model = tf.keras.Sequential([\n",
    "        tf.keras.layers.Input(shape = shape),\n",
    "        tf.keras.layers.Conv1D(80, 40, padding='same', activation='relu'),\n",
    "        tf.keras.layers.BatchNormalization(axis=1),\n",
    "        tf.keras.layers.MaxPool1D(padding='same'),\n",
    "        tf.keras.layers.Dropout(0.1),\n",
    "        tf.keras.layers.Conv1D(100, 50, padding='same', activation='relu'),\n",
    "        tf.keras.layers.BatchNormalization(axis=1),\n",
    "        tf.keras.layers.MaxPool1D(padding='same'),\n",
    "        tf.keras.layers.Dropout(0.1),\n",
    "        tf.keras.layers.Conv1D(120, 60, padding='same', activation='relu'),\n",
    "        tf.keras.layers.BatchNormalization(axis=1),\n",
    "        tf.keras.layers.MaxPool1D(padding='same'),\n",
    "        tf.keras.layers.Dropout(0.1),\n",
    "        tf.keras.layers.Flatten(),\n",
    "        tf.keras.layers.Dense(128, activation='relu'),\n",
    "        tf.keras.layers.Dense(CLASS_NUMBER)]#, activation='softmax' if CLASS_NUMBER > 2 else 'sigmoid')]\n",
    "    )\n",
    "    model.compile(optimizer='adam',\n",
    "                loss=tf.keras.losses.CategoricalCrossentropy(from_logits=True) if CLASS_NUMBER > 2 else tf.keras.losses.BinaryCrossentropy(from_logits=True),\n",
    "                metrics=[tf.keras.metrics.CategoricalAccuracy(),\n",
    "                         tf.keras.metrics.Precision(thresholds = 0.5),\n",
    "                         tf.keras.metrics.Recall(thresholds= 0.5),\n",
    "                         tfa.metrics.F1Score(num_classes=CLASS_NUMBER, threshold= 0.5)])\n",
    "    model.summary()\n",
    "    return model"
   ]
  },
  {
   "cell_type": "code",
   "execution_count": 2,
   "metadata": {},
   "outputs": [
    {
     "name": "stdout",
     "output_type": "stream",
     "text": [
      "(81, 300, 12)\n"
     ]
    }
   ],
   "source": [
    "trainFile = './data/lick.npy'\n",
    "X = slicing(np.load(trainFile))\n",
    "X = emdSignal(X)\n",
    "print(X.shape)\n",
    "y = np.array( [0, 1, 0, 0, 1, 0, 0, 1, 0, 1,\n",
    "               1, 1, 0, 1, 0, 1, 1, 0, 0, 1,\n",
    "               1, 1, 0, 0, 0, 1, 1, 1, 0, 1,\n",
    "               0, 1, 1, 0, 1, 1, 1, 1, 0, 0,\n",
    "               1, 1, 1, 1, 0, 1, 0, 0, 1, 1,\n",
    "               0, 1, 0, 1, 1, 0, 1, 1, 0, 1,\n",
    "               1, 0, 0, 1, 0, 1, 0, 1, 0, 0,\n",
    "               1, 1, 0, 1, 1, 0, 0, 1, 1, 1,\n",
    "               0])"
   ]
  },
  {
   "cell_type": "code",
   "execution_count": null,
   "metadata": {},
   "outputs": [],
   "source": [
    "threeChan = X[18]\n",
    "f = threeChan[:, 0].T\n",
    "s = threeChan[:, 1].T\n",
    "t = threeChan[:, 2].T\n",
    "imf = emd.sift.sift(f, max_imfs=4, imf_opts={'sd_thresh': 0.1})\n",
    "print(imf.shape)\n",
    "emd.plotting.plot_imfs(imf)"
   ]
  },
  {
   "cell_type": "code",
   "execution_count": 3,
   "metadata": {},
   "outputs": [],
   "source": [
    "X_train, X_test, y_train, y_test = train_test_split(X, y, test_size=0.25, random_state=777)"
   ]
  },
  {
   "cell_type": "code",
   "execution_count": null,
   "metadata": {},
   "outputs": [],
   "source": [
    "n += 1\n",
    "print(n, n*SLIDING_STEP, n*SLIDING_STEP + WINDOW_SIZE)\n",
    "px.line(X[n]).show()"
   ]
  },
  {
   "cell_type": "code",
   "execution_count": 10,
   "metadata": {},
   "outputs": [
    {
     "name": "stdout",
     "output_type": "stream",
     "text": [
      "Model: \"sequential_3\"\n",
      "_________________________________________________________________\n",
      " Layer (type)                Output Shape              Param #   \n",
      "=================================================================\n",
      " conv1d_9 (Conv1D)           (None, 300, 80)           38480     \n",
      "                                                                 \n",
      " batch_normalization_9 (Batc  (None, 300, 80)          1200      \n",
      " hNormalization)                                                 \n",
      "                                                                 \n",
      " max_pooling1d_9 (MaxPooling  (None, 150, 80)          0         \n",
      " 1D)                                                             \n",
      "                                                                 \n",
      " dropout_9 (Dropout)         (None, 150, 80)           0         \n",
      "                                                                 \n",
      " conv1d_10 (Conv1D)          (None, 150, 100)          400100    \n",
      "                                                                 \n",
      " batch_normalization_10 (Bat  (None, 150, 100)         600       \n",
      " chNormalization)                                                \n",
      "                                                                 \n",
      " max_pooling1d_10 (MaxPoolin  (None, 75, 100)          0         \n",
      " g1D)                                                            \n",
      "                                                                 \n",
      " dropout_10 (Dropout)        (None, 75, 100)           0         \n",
      "                                                                 \n",
      " conv1d_11 (Conv1D)          (None, 75, 120)           720120    \n",
      "                                                                 \n",
      " batch_normalization_11 (Bat  (None, 75, 120)          300       \n",
      " chNormalization)                                                \n",
      "                                                                 \n",
      " max_pooling1d_11 (MaxPoolin  (None, 38, 120)          0         \n",
      " g1D)                                                            \n",
      "                                                                 \n",
      " dropout_11 (Dropout)        (None, 38, 120)           0         \n",
      "                                                                 \n",
      " flatten_3 (Flatten)         (None, 4560)              0         \n",
      "                                                                 \n",
      " dense_6 (Dense)             (None, 128)               583808    \n",
      "                                                                 \n",
      " dense_7 (Dense)             (None, 1)                 129       \n",
      "                                                                 \n",
      "=================================================================\n",
      "Total params: 1,744,737\n",
      "Trainable params: 1,743,687\n",
      "Non-trainable params: 1,050\n",
      "_________________________________________________________________\n",
      "Epoch 1/100\n",
      "2/2 [==============================] - 2s 403ms/step - loss: 1.0688 - categorical_accuracy: 1.0000 - precision_2: 0.6000 - recall_2: 0.3333 - f1_score: 0.4286 - val_loss: 12.2891 - val_categorical_accuracy: 1.0000 - val_precision_2: 1.0000 - val_recall_2: 0.1000 - val_f1_score: 0.1818\n",
      "Epoch 2/100\n",
      "2/2 [==============================] - 0s 85ms/step - loss: 1.4844 - categorical_accuracy: 1.0000 - precision_2: 0.9048 - recall_2: 0.5278 - f1_score: 0.6667 - val_loss: 44.4688 - val_categorical_accuracy: 1.0000 - val_precision_2: 0.0000e+00 - val_recall_2: 0.0000e+00 - val_f1_score: 0.0000e+00\n",
      "Epoch 3/100\n",
      "2/2 [==============================] - 0s 84ms/step - loss: 1.3348 - categorical_accuracy: 1.0000 - precision_2: 0.6957 - recall_2: 0.8889 - f1_score: 0.7805 - val_loss: 47.5312 - val_categorical_accuracy: 1.0000 - val_precision_2: 0.0000e+00 - val_recall_2: 0.0000e+00 - val_f1_score: 0.0000e+00\n",
      "Epoch 4/100\n",
      "2/2 [==============================] - 0s 58ms/step - loss: 1.0722 - categorical_accuracy: 1.0000 - precision_2: 1.0000 - recall_2: 0.3889 - f1_score: 0.5600 - val_loss: 14.1094 - val_categorical_accuracy: 1.0000 - val_precision_2: 1.0000 - val_recall_2: 0.1000 - val_f1_score: 0.1818\n",
      "Epoch 5/100\n",
      "2/2 [==============================] - 0s 63ms/step - loss: 0.4547 - categorical_accuracy: 1.0000 - precision_2: 0.8140 - recall_2: 0.9722 - f1_score: 0.8861 - val_loss: 7.7070 - val_categorical_accuracy: 1.0000 - val_precision_2: 0.5294 - val_recall_2: 0.9000 - val_f1_score: 0.6667\n",
      "Epoch 6/100\n",
      "2/2 [==============================] - 0s 60ms/step - loss: 0.6051 - categorical_accuracy: 1.0000 - precision_2: 0.7838 - recall_2: 0.8056 - f1_score: 0.7945 - val_loss: 6.2383 - val_categorical_accuracy: 1.0000 - val_precision_2: 1.0000 - val_recall_2: 0.1000 - val_f1_score: 0.1818\n",
      "Epoch 7/100\n",
      "2/2 [==============================] - 0s 56ms/step - loss: 0.4070 - categorical_accuracy: 1.0000 - precision_2: 0.8966 - recall_2: 0.7222 - f1_score: 0.8000 - val_loss: 14.6875 - val_categorical_accuracy: 1.0000 - val_precision_2: 0.0000e+00 - val_recall_2: 0.0000e+00 - val_f1_score: 0.0000e+00\n",
      "Epoch 8/100\n",
      "2/2 [==============================] - 0s 57ms/step - loss: 0.3721 - categorical_accuracy: 1.0000 - precision_2: 0.8000 - recall_2: 1.0000 - f1_score: 0.8889 - val_loss: 17.4219 - val_categorical_accuracy: 1.0000 - val_precision_2: 0.0000e+00 - val_recall_2: 0.0000e+00 - val_f1_score: 0.0000e+00\n",
      "Epoch 9/100\n",
      "2/2 [==============================] - 0s 60ms/step - loss: 0.3207 - categorical_accuracy: 1.0000 - precision_2: 0.8537 - recall_2: 0.9722 - f1_score: 0.9091 - val_loss: 17.2344 - val_categorical_accuracy: 1.0000 - val_precision_2: 0.0000e+00 - val_recall_2: 0.0000e+00 - val_f1_score: 0.0000e+00\n",
      "Epoch 10/100\n",
      "2/2 [==============================] - 0s 56ms/step - loss: 0.3373 - categorical_accuracy: 1.0000 - precision_2: 1.0000 - recall_2: 0.5556 - f1_score: 0.7143 - val_loss: 16.0469 - val_categorical_accuracy: 1.0000 - val_precision_2: 0.0000e+00 - val_recall_2: 0.0000e+00 - val_f1_score: 0.0000e+00\n",
      "Epoch 11/100\n",
      "2/2 [==============================] - 0s 56ms/step - loss: 0.2318 - categorical_accuracy: 1.0000 - precision_2: 0.9697 - recall_2: 0.8889 - f1_score: 0.9275 - val_loss: 15.7734 - val_categorical_accuracy: 1.0000 - val_precision_2: 0.0000e+00 - val_recall_2: 0.0000e+00 - val_f1_score: 0.0000e+00\n",
      "Epoch 12/100\n",
      "2/2 [==============================] - 0s 58ms/step - loss: 0.2609 - categorical_accuracy: 1.0000 - precision_2: 0.8571 - recall_2: 1.0000 - f1_score: 0.9231 - val_loss: 14.2891 - val_categorical_accuracy: 1.0000 - val_precision_2: 0.0000e+00 - val_recall_2: 0.0000e+00 - val_f1_score: 0.0000e+00\n",
      "Epoch 13/100\n",
      "2/2 [==============================] - 0s 62ms/step - loss: 0.1867 - categorical_accuracy: 1.0000 - precision_2: 0.8974 - recall_2: 0.9722 - f1_score: 0.9333 - val_loss: 12.4062 - val_categorical_accuracy: 1.0000 - val_precision_2: 0.0000e+00 - val_recall_2: 0.0000e+00 - val_f1_score: 0.0000e+00\n",
      "Epoch 14/100\n",
      "2/2 [==============================] - 0s 62ms/step - loss: 0.2789 - categorical_accuracy: 1.0000 - precision_2: 0.9688 - recall_2: 0.8611 - f1_score: 0.9118 - val_loss: 11.4609 - val_categorical_accuracy: 1.0000 - val_precision_2: 0.0000e+00 - val_recall_2: 0.0000e+00 - val_f1_score: 0.0000e+00\n",
      "Epoch 15/100\n",
      "2/2 [==============================] - 0s 55ms/step - loss: 0.7099 - categorical_accuracy: 1.0000 - precision_2: 0.8571 - recall_2: 0.8333 - f1_score: 0.8451 - val_loss: 8.6641 - val_categorical_accuracy: 1.0000 - val_precision_2: 0.0000e+00 - val_recall_2: 0.0000e+00 - val_f1_score: 0.0000e+00\n",
      "Epoch 16/100\n",
      "2/2 [==============================] - 0s 54ms/step - loss: 0.1920 - categorical_accuracy: 1.0000 - precision_2: 0.9189 - recall_2: 0.9444 - f1_score: 0.9315 - val_loss: 4.9570 - val_categorical_accuracy: 1.0000 - val_precision_2: 1.0000 - val_recall_2: 0.1000 - val_f1_score: 0.1818\n",
      "Epoch 17/100\n",
      "2/2 [==============================] - 0s 59ms/step - loss: 0.1307 - categorical_accuracy: 1.0000 - precision_2: 0.9459 - recall_2: 0.9722 - f1_score: 0.9589 - val_loss: 3.3984 - val_categorical_accuracy: 1.0000 - val_precision_2: 1.0000 - val_recall_2: 0.2000 - val_f1_score: 0.3333\n",
      "Epoch 18/100\n",
      "2/2 [==============================] - 0s 58ms/step - loss: 0.1447 - categorical_accuracy: 1.0000 - precision_2: 1.0000 - recall_2: 0.8333 - f1_score: 0.9091 - val_loss: 3.2773 - val_categorical_accuracy: 1.0000 - val_precision_2: 1.0000 - val_recall_2: 0.2000 - val_f1_score: 0.3333\n",
      "Epoch 19/100\n",
      "2/2 [==============================] - 0s 57ms/step - loss: 0.1210 - categorical_accuracy: 1.0000 - precision_2: 0.9189 - recall_2: 0.9444 - f1_score: 0.9315 - val_loss: 3.3750 - val_categorical_accuracy: 1.0000 - val_precision_2: 1.0000 - val_recall_2: 0.2000 - val_f1_score: 0.3333\n",
      "Epoch 20/100\n",
      "2/2 [==============================] - 0s 62ms/step - loss: 0.0825 - categorical_accuracy: 1.0000 - precision_2: 0.9730 - recall_2: 1.0000 - f1_score: 0.9863 - val_loss: 3.3809 - val_categorical_accuracy: 1.0000 - val_precision_2: 0.5000 - val_recall_2: 0.2000 - val_f1_score: 0.2857\n",
      "Epoch 21/100\n",
      "2/2 [==============================] - 0s 52ms/step - loss: 0.1053 - categorical_accuracy: 1.0000 - precision_2: 0.9722 - recall_2: 0.9722 - f1_score: 0.9722 - val_loss: 3.4707 - val_categorical_accuracy: 1.0000 - val_precision_2: 0.5000 - val_recall_2: 0.2000 - val_f1_score: 0.2857\n",
      "Epoch 22/100\n",
      "2/2 [==============================] - 0s 56ms/step - loss: 0.0439 - categorical_accuracy: 1.0000 - precision_2: 1.0000 - recall_2: 1.0000 - f1_score: 1.0000 - val_loss: 3.6465 - val_categorical_accuracy: 1.0000 - val_precision_2: 0.6000 - val_recall_2: 0.3000 - val_f1_score: 0.4000\n",
      "Epoch 23/100\n",
      "2/2 [==============================] - 0s 60ms/step - loss: 0.0505 - categorical_accuracy: 1.0000 - precision_2: 1.0000 - recall_2: 0.9444 - f1_score: 0.9714 - val_loss: 3.7734 - val_categorical_accuracy: 1.0000 - val_precision_2: 0.5000 - val_recall_2: 0.2000 - val_f1_score: 0.2857\n",
      "Epoch 24/100\n",
      "2/2 [==============================] - 0s 57ms/step - loss: 0.0532 - categorical_accuracy: 1.0000 - precision_2: 1.0000 - recall_2: 0.9722 - f1_score: 0.9859 - val_loss: 3.5684 - val_categorical_accuracy: 1.0000 - val_precision_2: 0.6000 - val_recall_2: 0.3000 - val_f1_score: 0.4000\n",
      "Epoch 25/100\n",
      "2/2 [==============================] - 0s 66ms/step - loss: 0.0486 - categorical_accuracy: 1.0000 - precision_2: 0.9730 - recall_2: 1.0000 - f1_score: 0.9863 - val_loss: 3.1309 - val_categorical_accuracy: 1.0000 - val_precision_2: 0.6667 - val_recall_2: 0.4000 - val_f1_score: 0.5000\n",
      "Epoch 26/100\n",
      "2/2 [==============================] - 0s 52ms/step - loss: 0.0214 - categorical_accuracy: 1.0000 - precision_2: 1.0000 - recall_2: 0.9722 - f1_score: 0.9859 - val_loss: 2.7402 - val_categorical_accuracy: 1.0000 - val_precision_2: 0.7143 - val_recall_2: 0.5000 - val_f1_score: 0.5882\n",
      "Epoch 27/100\n",
      "2/2 [==============================] - 0s 52ms/step - loss: 0.0485 - categorical_accuracy: 1.0000 - precision_2: 1.0000 - recall_2: 0.9444 - f1_score: 0.9714 - val_loss: 2.3340 - val_categorical_accuracy: 1.0000 - val_precision_2: 0.7143 - val_recall_2: 0.5000 - val_f1_score: 0.5882\n",
      "Epoch 28/100\n",
      "2/2 [==============================] - 0s 53ms/step - loss: 0.0254 - categorical_accuracy: 1.0000 - precision_2: 1.0000 - recall_2: 1.0000 - f1_score: 1.0000 - val_loss: 1.9463 - val_categorical_accuracy: 1.0000 - val_precision_2: 0.7143 - val_recall_2: 0.5000 - val_f1_score: 0.5882\n",
      "Epoch 29/100\n",
      "2/2 [==============================] - 0s 56ms/step - loss: 0.0310 - categorical_accuracy: 1.0000 - precision_2: 1.0000 - recall_2: 0.9722 - f1_score: 0.9859 - val_loss: 1.4834 - val_categorical_accuracy: 1.0000 - val_precision_2: 0.7500 - val_recall_2: 0.6000 - val_f1_score: 0.6667\n",
      "Epoch 30/100\n",
      "2/2 [==============================] - 0s 66ms/step - loss: 0.0153 - categorical_accuracy: 1.0000 - precision_2: 1.0000 - recall_2: 1.0000 - f1_score: 1.0000 - val_loss: 1.1924 - val_categorical_accuracy: 1.0000 - val_precision_2: 0.7778 - val_recall_2: 0.7000 - val_f1_score: 0.7368\n",
      "Epoch 31/100\n",
      "2/2 [==============================] - 0s 52ms/step - loss: 0.0430 - categorical_accuracy: 1.0000 - precision_2: 1.0000 - recall_2: 0.9722 - f1_score: 0.9859 - val_loss: 1.0762 - val_categorical_accuracy: 1.0000 - val_precision_2: 0.7778 - val_recall_2: 0.7000 - val_f1_score: 0.7368\n",
      "Epoch 32/100\n",
      "2/2 [==============================] - 0s 63ms/step - loss: 0.0068 - categorical_accuracy: 1.0000 - precision_2: 1.0000 - recall_2: 1.0000 - f1_score: 1.0000 - val_loss: 1.0713 - val_categorical_accuracy: 1.0000 - val_precision_2: 0.7000 - val_recall_2: 0.7000 - val_f1_score: 0.7000\n",
      "Epoch 33/100\n",
      "2/2 [==============================] - 0s 58ms/step - loss: 0.0115 - categorical_accuracy: 1.0000 - precision_2: 1.0000 - recall_2: 1.0000 - f1_score: 1.0000 - val_loss: 1.1152 - val_categorical_accuracy: 1.0000 - val_precision_2: 0.6364 - val_recall_2: 0.7000 - val_f1_score: 0.6667\n",
      "Epoch 34/100\n",
      "2/2 [==============================] - 0s 61ms/step - loss: 0.0202 - categorical_accuracy: 1.0000 - precision_2: 1.0000 - recall_2: 1.0000 - f1_score: 1.0000 - val_loss: 1.1514 - val_categorical_accuracy: 1.0000 - val_precision_2: 0.6667 - val_recall_2: 0.8000 - val_f1_score: 0.7273\n",
      "Epoch 35/100\n",
      "2/2 [==============================] - 0s 64ms/step - loss: 0.0095 - categorical_accuracy: 1.0000 - precision_2: 1.0000 - recall_2: 1.0000 - f1_score: 1.0000 - val_loss: 1.1924 - val_categorical_accuracy: 1.0000 - val_precision_2: 0.6667 - val_recall_2: 0.8000 - val_f1_score: 0.7273\n",
      "Epoch 36/100\n",
      "2/2 [==============================] - 0s 54ms/step - loss: 0.0218 - categorical_accuracy: 1.0000 - precision_2: 0.9730 - recall_2: 1.0000 - f1_score: 0.9863 - val_loss: 1.1826 - val_categorical_accuracy: 1.0000 - val_precision_2: 0.6667 - val_recall_2: 0.8000 - val_f1_score: 0.7273\n",
      "Epoch 37/100\n",
      "2/2 [==============================] - 0s 55ms/step - loss: 3.7697e-04 - categorical_accuracy: 1.0000 - precision_2: 1.0000 - recall_2: 1.0000 - f1_score: 1.0000 - val_loss: 1.1953 - val_categorical_accuracy: 1.0000 - val_precision_2: 0.7000 - val_recall_2: 0.7000 - val_f1_score: 0.7000\n",
      "Epoch 38/100\n",
      "2/2 [==============================] - 0s 55ms/step - loss: 0.0212 - categorical_accuracy: 1.0000 - precision_2: 1.0000 - recall_2: 0.9722 - f1_score: 0.9859 - val_loss: 1.2412 - val_categorical_accuracy: 1.0000 - val_precision_2: 0.6667 - val_recall_2: 0.6000 - val_f1_score: 0.6316\n",
      "Epoch 39/100\n",
      "2/2 [==============================] - 0s 53ms/step - loss: 9.6925e-04 - categorical_accuracy: 1.0000 - precision_2: 1.0000 - recall_2: 1.0000 - f1_score: 1.0000 - val_loss: 1.3936 - val_categorical_accuracy: 1.0000 - val_precision_2: 0.6364 - val_recall_2: 0.7000 - val_f1_score: 0.6667\n",
      "Epoch 40/100\n",
      "2/2 [==============================] - 0s 56ms/step - loss: 0.0529 - categorical_accuracy: 1.0000 - precision_2: 1.0000 - recall_2: 0.9722 - f1_score: 0.9859 - val_loss: 1.4121 - val_categorical_accuracy: 1.0000 - val_precision_2: 0.6667 - val_recall_2: 0.8000 - val_f1_score: 0.7273\n",
      "Epoch 41/100\n",
      "2/2 [==============================] - 0s 61ms/step - loss: 0.0479 - categorical_accuracy: 1.0000 - precision_2: 0.9730 - recall_2: 1.0000 - f1_score: 0.9863 - val_loss: 1.3232 - val_categorical_accuracy: 1.0000 - val_precision_2: 0.6364 - val_recall_2: 0.7000 - val_f1_score: 0.6667\n",
      "Epoch 42/100\n",
      "2/2 [==============================] - 0s 56ms/step - loss: 0.0015 - categorical_accuracy: 1.0000 - precision_2: 1.0000 - recall_2: 1.0000 - f1_score: 1.0000 - val_loss: 1.1250 - val_categorical_accuracy: 1.0000 - val_precision_2: 0.7000 - val_recall_2: 0.7000 - val_f1_score: 0.7000\n",
      "Epoch 43/100\n",
      "2/2 [==============================] - 0s 55ms/step - loss: 0.1039 - categorical_accuracy: 1.0000 - precision_2: 1.0000 - recall_2: 0.9444 - f1_score: 0.9714 - val_loss: 1.2852 - val_categorical_accuracy: 1.0000 - val_precision_2: 0.5556 - val_recall_2: 0.5000 - val_f1_score: 0.5263\n",
      "Epoch 44/100\n",
      "2/2 [==============================] - 0s 53ms/step - loss: 0.0060 - categorical_accuracy: 1.0000 - precision_2: 1.0000 - recall_2: 1.0000 - f1_score: 1.0000 - val_loss: 1.6426 - val_categorical_accuracy: 1.0000 - val_precision_2: 0.6000 - val_recall_2: 0.6000 - val_f1_score: 0.6000\n",
      "Epoch 45/100\n",
      "2/2 [==============================] - 0s 53ms/step - loss: 0.0621 - categorical_accuracy: 1.0000 - precision_2: 0.9474 - recall_2: 1.0000 - f1_score: 0.9730 - val_loss: 1.8896 - val_categorical_accuracy: 1.0000 - val_precision_2: 0.5556 - val_recall_2: 0.5000 - val_f1_score: 0.5263\n",
      "Epoch 46/100\n",
      "2/2 [==============================] - 0s 57ms/step - loss: 0.0071 - categorical_accuracy: 1.0000 - precision_2: 1.0000 - recall_2: 1.0000 - f1_score: 1.0000 - val_loss: 2.0508 - val_categorical_accuracy: 1.0000 - val_precision_2: 0.6250 - val_recall_2: 0.5000 - val_f1_score: 0.5556\n",
      "Epoch 47/100\n",
      "2/2 [==============================] - 0s 56ms/step - loss: 0.1407 - categorical_accuracy: 1.0000 - precision_2: 1.0000 - recall_2: 0.8889 - f1_score: 0.9412 - val_loss: 1.4990 - val_categorical_accuracy: 1.0000 - val_precision_2: 0.5556 - val_recall_2: 0.5000 - val_f1_score: 0.5263\n",
      "Epoch 48/100\n",
      "2/2 [==============================] - 0s 61ms/step - loss: 0.2811 - categorical_accuracy: 1.0000 - precision_2: 0.9000 - recall_2: 1.0000 - f1_score: 0.9474 - val_loss: 1.2607 - val_categorical_accuracy: 1.0000 - val_precision_2: 0.7000 - val_recall_2: 0.7000 - val_f1_score: 0.7000\n",
      "Epoch 49/100\n",
      "2/2 [==============================] - 0s 55ms/step - loss: 8.0891e-04 - categorical_accuracy: 1.0000 - precision_2: 1.0000 - recall_2: 1.0000 - f1_score: 1.0000 - val_loss: 1.2207 - val_categorical_accuracy: 1.0000 - val_precision_2: 0.7778 - val_recall_2: 0.7000 - val_f1_score: 0.7368\n",
      "Epoch 50/100\n",
      "2/2 [==============================] - 0s 57ms/step - loss: 0.0949 - categorical_accuracy: 1.0000 - precision_2: 1.0000 - recall_2: 0.9167 - f1_score: 0.9565 - val_loss: 1.1680 - val_categorical_accuracy: 1.0000 - val_precision_2: 0.7000 - val_recall_2: 0.7000 - val_f1_score: 0.7000\n",
      "Epoch 51/100\n",
      "2/2 [==============================] - 0s 54ms/step - loss: 0.0975 - categorical_accuracy: 1.0000 - precision_2: 1.0000 - recall_2: 0.9444 - f1_score: 0.9714 - val_loss: 1.2158 - val_categorical_accuracy: 1.0000 - val_precision_2: 0.7000 - val_recall_2: 0.7000 - val_f1_score: 0.7000\n",
      "Epoch 52/100\n",
      "2/2 [==============================] - 0s 61ms/step - loss: 0.0141 - categorical_accuracy: 1.0000 - precision_2: 1.0000 - recall_2: 1.0000 - f1_score: 1.0000 - val_loss: 1.3848 - val_categorical_accuracy: 1.0000 - val_precision_2: 0.6364 - val_recall_2: 0.7000 - val_f1_score: 0.6667\n",
      "Epoch 53/100\n",
      "2/2 [==============================] - 0s 64ms/step - loss: 0.0121 - categorical_accuracy: 1.0000 - precision_2: 1.0000 - recall_2: 1.0000 - f1_score: 1.0000 - val_loss: 1.5195 - val_categorical_accuracy: 1.0000 - val_precision_2: 0.6364 - val_recall_2: 0.7000 - val_f1_score: 0.6667\n",
      "Epoch 54/100\n",
      "2/2 [==============================] - 0s 62ms/step - loss: 0.1516 - categorical_accuracy: 1.0000 - precision_2: 0.9474 - recall_2: 1.0000 - f1_score: 0.9730 - val_loss: 1.5391 - val_categorical_accuracy: 1.0000 - val_precision_2: 0.6364 - val_recall_2: 0.7000 - val_f1_score: 0.6667\n",
      "Epoch 55/100\n",
      "2/2 [==============================] - 0s 55ms/step - loss: 0.0508 - categorical_accuracy: 1.0000 - precision_2: 0.9730 - recall_2: 1.0000 - f1_score: 0.9863 - val_loss: 1.3770 - val_categorical_accuracy: 1.0000 - val_precision_2: 0.6364 - val_recall_2: 0.7000 - val_f1_score: 0.6667\n",
      "Epoch 56/100\n",
      "2/2 [==============================] - 0s 58ms/step - loss: 0.0188 - categorical_accuracy: 1.0000 - precision_2: 1.0000 - recall_2: 0.9722 - f1_score: 0.9859 - val_loss: 1.3105 - val_categorical_accuracy: 1.0000 - val_precision_2: 0.6364 - val_recall_2: 0.7000 - val_f1_score: 0.6667\n",
      "Epoch 57/100\n",
      "2/2 [==============================] - 0s 74ms/step - loss: 0.0394 - categorical_accuracy: 1.0000 - precision_2: 1.0000 - recall_2: 0.9722 - f1_score: 0.9859 - val_loss: 1.3145 - val_categorical_accuracy: 1.0000 - val_precision_2: 0.6364 - val_recall_2: 0.7000 - val_f1_score: 0.6667\n",
      "Epoch 58/100\n",
      "2/2 [==============================] - 0s 73ms/step - loss: 0.0665 - categorical_accuracy: 1.0000 - precision_2: 1.0000 - recall_2: 0.9167 - f1_score: 0.9565 - val_loss: 1.3389 - val_categorical_accuracy: 1.0000 - val_precision_2: 0.6364 - val_recall_2: 0.7000 - val_f1_score: 0.6667\n",
      "Epoch 59/100\n",
      "2/2 [==============================] - 0s 66ms/step - loss: 0.0073 - categorical_accuracy: 1.0000 - precision_2: 1.0000 - recall_2: 1.0000 - f1_score: 1.0000 - val_loss: 1.3428 - val_categorical_accuracy: 1.0000 - val_precision_2: 0.7000 - val_recall_2: 0.7000 - val_f1_score: 0.7000\n",
      "Epoch 60/100\n",
      "2/2 [==============================] - 0s 55ms/step - loss: 0.0675 - categorical_accuracy: 1.0000 - precision_2: 0.9730 - recall_2: 1.0000 - f1_score: 0.9863 - val_loss: 1.3223 - val_categorical_accuracy: 1.0000 - val_precision_2: 0.6667 - val_recall_2: 0.6000 - val_f1_score: 0.6316\n",
      "Epoch 61/100\n",
      "2/2 [==============================] - 0s 54ms/step - loss: 0.0344 - categorical_accuracy: 1.0000 - precision_2: 0.9730 - recall_2: 1.0000 - f1_score: 0.9863 - val_loss: 1.2676 - val_categorical_accuracy: 1.0000 - val_precision_2: 0.6667 - val_recall_2: 0.6000 - val_f1_score: 0.6316\n",
      "Epoch 62/100\n",
      "2/2 [==============================] - 0s 53ms/step - loss: 0.0040 - categorical_accuracy: 1.0000 - precision_2: 1.0000 - recall_2: 1.0000 - f1_score: 1.0000 - val_loss: 1.2402 - val_categorical_accuracy: 1.0000 - val_precision_2: 0.6667 - val_recall_2: 0.6000 - val_f1_score: 0.6316\n",
      "Epoch 63/100\n",
      "2/2 [==============================] - 0s 53ms/step - loss: 0.0132 - categorical_accuracy: 1.0000 - precision_2: 1.0000 - recall_2: 1.0000 - f1_score: 1.0000 - val_loss: 1.2793 - val_categorical_accuracy: 1.0000 - val_precision_2: 0.7500 - val_recall_2: 0.6000 - val_f1_score: 0.6667\n",
      "Epoch 64/100\n",
      "2/2 [==============================] - 0s 55ms/step - loss: 0.0093 - categorical_accuracy: 1.0000 - precision_2: 1.0000 - recall_2: 1.0000 - f1_score: 1.0000 - val_loss: 1.3867 - val_categorical_accuracy: 1.0000 - val_precision_2: 0.7500 - val_recall_2: 0.6000 - val_f1_score: 0.6667\n",
      "Epoch 65/100\n",
      "2/2 [==============================] - 0s 54ms/step - loss: 0.0414 - categorical_accuracy: 1.0000 - precision_2: 1.0000 - recall_2: 0.9722 - f1_score: 0.9859 - val_loss: 1.5859 - val_categorical_accuracy: 1.0000 - val_precision_2: 0.6667 - val_recall_2: 0.6000 - val_f1_score: 0.6316\n",
      "Epoch 66/100\n",
      "2/2 [==============================] - 0s 56ms/step - loss: 0.0096 - categorical_accuracy: 1.0000 - precision_2: 1.0000 - recall_2: 1.0000 - f1_score: 1.0000 - val_loss: 1.8262 - val_categorical_accuracy: 1.0000 - val_precision_2: 0.6000 - val_recall_2: 0.6000 - val_f1_score: 0.6000\n",
      "Epoch 67/100\n",
      "2/2 [==============================] - 0s 54ms/step - loss: 0.0018 - categorical_accuracy: 1.0000 - precision_2: 1.0000 - recall_2: 1.0000 - f1_score: 1.0000 - val_loss: 2.0293 - val_categorical_accuracy: 1.0000 - val_precision_2: 0.6000 - val_recall_2: 0.6000 - val_f1_score: 0.6000\n",
      "Epoch 68/100\n",
      "2/2 [==============================] - 0s 57ms/step - loss: 0.0032 - categorical_accuracy: 1.0000 - precision_2: 1.0000 - recall_2: 1.0000 - f1_score: 1.0000 - val_loss: 2.1855 - val_categorical_accuracy: 1.0000 - val_precision_2: 0.6000 - val_recall_2: 0.6000 - val_f1_score: 0.6000\n",
      "Epoch 69/100\n",
      "2/2 [==============================] - 0s 56ms/step - loss: 0.0024 - categorical_accuracy: 1.0000 - precision_2: 1.0000 - recall_2: 1.0000 - f1_score: 1.0000 - val_loss: 2.2969 - val_categorical_accuracy: 1.0000 - val_precision_2: 0.6000 - val_recall_2: 0.6000 - val_f1_score: 0.6000\n",
      "Epoch 70/100\n",
      "2/2 [==============================] - 0s 53ms/step - loss: 0.0023 - categorical_accuracy: 1.0000 - precision_2: 1.0000 - recall_2: 1.0000 - f1_score: 1.0000 - val_loss: 2.3711 - val_categorical_accuracy: 1.0000 - val_precision_2: 0.6000 - val_recall_2: 0.6000 - val_f1_score: 0.6000\n",
      "Epoch 71/100\n",
      "2/2 [==============================] - 0s 51ms/step - loss: 0.0034 - categorical_accuracy: 1.0000 - precision_2: 1.0000 - recall_2: 1.0000 - f1_score: 1.0000 - val_loss: 2.4297 - val_categorical_accuracy: 1.0000 - val_precision_2: 0.6000 - val_recall_2: 0.6000 - val_f1_score: 0.6000\n",
      "Epoch 72/100\n",
      "2/2 [==============================] - 0s 59ms/step - loss: 0.0011 - categorical_accuracy: 1.0000 - precision_2: 1.0000 - recall_2: 1.0000 - f1_score: 1.0000 - val_loss: 2.4590 - val_categorical_accuracy: 1.0000 - val_precision_2: 0.6000 - val_recall_2: 0.6000 - val_f1_score: 0.6000\n",
      "Epoch 73/100\n",
      "2/2 [==============================] - 0s 59ms/step - loss: 0.0012 - categorical_accuracy: 1.0000 - precision_2: 1.0000 - recall_2: 1.0000 - f1_score: 1.0000 - val_loss: 2.4707 - val_categorical_accuracy: 1.0000 - val_precision_2: 0.6000 - val_recall_2: 0.6000 - val_f1_score: 0.6000\n",
      "Epoch 74/100\n",
      "2/2 [==============================] - 0s 56ms/step - loss: 6.6916e-04 - categorical_accuracy: 1.0000 - precision_2: 1.0000 - recall_2: 1.0000 - f1_score: 1.0000 - val_loss: 2.4727 - val_categorical_accuracy: 1.0000 - val_precision_2: 0.6000 - val_recall_2: 0.6000 - val_f1_score: 0.6000\n",
      "Epoch 75/100\n",
      "2/2 [==============================] - 0s 52ms/step - loss: 0.0012 - categorical_accuracy: 1.0000 - precision_2: 1.0000 - recall_2: 1.0000 - f1_score: 1.0000 - val_loss: 2.4648 - val_categorical_accuracy: 1.0000 - val_precision_2: 0.6000 - val_recall_2: 0.6000 - val_f1_score: 0.6000\n",
      "Epoch 76/100\n",
      "2/2 [==============================] - 0s 67ms/step - loss: 1.4755e-04 - categorical_accuracy: 1.0000 - precision_2: 1.0000 - recall_2: 1.0000 - f1_score: 1.0000 - val_loss: 2.4629 - val_categorical_accuracy: 1.0000 - val_precision_2: 0.6000 - val_recall_2: 0.6000 - val_f1_score: 0.6000\n",
      "Epoch 77/100\n",
      "2/2 [==============================] - 0s 57ms/step - loss: 0.0015 - categorical_accuracy: 1.0000 - precision_2: 1.0000 - recall_2: 1.0000 - f1_score: 1.0000 - val_loss: 2.4688 - val_categorical_accuracy: 1.0000 - val_precision_2: 0.6000 - val_recall_2: 0.6000 - val_f1_score: 0.6000\n",
      "Epoch 78/100\n",
      "2/2 [==============================] - 0s 57ms/step - loss: 2.8387e-04 - categorical_accuracy: 1.0000 - precision_2: 1.0000 - recall_2: 1.0000 - f1_score: 1.0000 - val_loss: 2.4707 - val_categorical_accuracy: 1.0000 - val_precision_2: 0.6000 - val_recall_2: 0.6000 - val_f1_score: 0.6000\n",
      "Epoch 79/100\n",
      "2/2 [==============================] - 0s 61ms/step - loss: 2.0140e-04 - categorical_accuracy: 1.0000 - precision_2: 1.0000 - recall_2: 1.0000 - f1_score: 1.0000 - val_loss: 2.4727 - val_categorical_accuracy: 1.0000 - val_precision_2: 0.6000 - val_recall_2: 0.6000 - val_f1_score: 0.6000\n",
      "Epoch 80/100\n",
      "2/2 [==============================] - 0s 72ms/step - loss: 3.2563e-04 - categorical_accuracy: 1.0000 - precision_2: 1.0000 - recall_2: 1.0000 - f1_score: 1.0000 - val_loss: 2.4727 - val_categorical_accuracy: 1.0000 - val_precision_2: 0.6000 - val_recall_2: 0.6000 - val_f1_score: 0.6000\n",
      "Epoch 81/100\n",
      "2/2 [==============================] - 0s 63ms/step - loss: 4.0466e-04 - categorical_accuracy: 1.0000 - precision_2: 1.0000 - recall_2: 1.0000 - f1_score: 1.0000 - val_loss: 2.4688 - val_categorical_accuracy: 1.0000 - val_precision_2: 0.6000 - val_recall_2: 0.6000 - val_f1_score: 0.6000\n",
      "Epoch 82/100\n",
      "2/2 [==============================] - 0s 55ms/step - loss: 4.4507e-04 - categorical_accuracy: 1.0000 - precision_2: 1.0000 - recall_2: 1.0000 - f1_score: 1.0000 - val_loss: 2.4668 - val_categorical_accuracy: 1.0000 - val_precision_2: 0.6000 - val_recall_2: 0.6000 - val_f1_score: 0.6000\n",
      "Epoch 83/100\n",
      "2/2 [==============================] - 0s 54ms/step - loss: 2.6398e-04 - categorical_accuracy: 1.0000 - precision_2: 1.0000 - recall_2: 1.0000 - f1_score: 1.0000 - val_loss: 2.4648 - val_categorical_accuracy: 1.0000 - val_precision_2: 0.6364 - val_recall_2: 0.7000 - val_f1_score: 0.6667\n",
      "Epoch 84/100\n",
      "2/2 [==============================] - 0s 60ms/step - loss: 2.3133e-04 - categorical_accuracy: 1.0000 - precision_2: 1.0000 - recall_2: 1.0000 - f1_score: 1.0000 - val_loss: 2.4609 - val_categorical_accuracy: 1.0000 - val_precision_2: 0.6364 - val_recall_2: 0.7000 - val_f1_score: 0.6667\n",
      "Epoch 85/100\n",
      "2/2 [==============================] - 0s 52ms/step - loss: 2.7298e-04 - categorical_accuracy: 1.0000 - precision_2: 1.0000 - recall_2: 1.0000 - f1_score: 1.0000 - val_loss: 2.4590 - val_categorical_accuracy: 1.0000 - val_precision_2: 0.6364 - val_recall_2: 0.7000 - val_f1_score: 0.6667\n",
      "Epoch 86/100\n",
      "2/2 [==============================] - 0s 58ms/step - loss: 1.2199e-04 - categorical_accuracy: 1.0000 - precision_2: 1.0000 - recall_2: 1.0000 - f1_score: 1.0000 - val_loss: 2.4590 - val_categorical_accuracy: 1.0000 - val_precision_2: 0.6364 - val_recall_2: 0.7000 - val_f1_score: 0.6667\n",
      "Epoch 87/100\n",
      "2/2 [==============================] - 0s 55ms/step - loss: 9.9305e-05 - categorical_accuracy: 1.0000 - precision_2: 1.0000 - recall_2: 1.0000 - f1_score: 1.0000 - val_loss: 2.4590 - val_categorical_accuracy: 1.0000 - val_precision_2: 0.6364 - val_recall_2: 0.7000 - val_f1_score: 0.6667\n",
      "Epoch 88/100\n",
      "2/2 [==============================] - 0s 57ms/step - loss: 2.0157e-04 - categorical_accuracy: 1.0000 - precision_2: 1.0000 - recall_2: 1.0000 - f1_score: 1.0000 - val_loss: 2.4609 - val_categorical_accuracy: 1.0000 - val_precision_2: 0.6364 - val_recall_2: 0.7000 - val_f1_score: 0.6667\n",
      "Epoch 89/100\n",
      "2/2 [==============================] - 0s 57ms/step - loss: 1.0174e-04 - categorical_accuracy: 1.0000 - precision_2: 1.0000 - recall_2: 1.0000 - f1_score: 1.0000 - val_loss: 2.4648 - val_categorical_accuracy: 1.0000 - val_precision_2: 0.6364 - val_recall_2: 0.7000 - val_f1_score: 0.6667\n",
      "Epoch 90/100\n",
      "2/2 [==============================] - 0s 66ms/step - loss: 7.6269e-04 - categorical_accuracy: 1.0000 - precision_2: 1.0000 - recall_2: 1.0000 - f1_score: 1.0000 - val_loss: 2.4668 - val_categorical_accuracy: 1.0000 - val_precision_2: 0.6364 - val_recall_2: 0.7000 - val_f1_score: 0.6667\n",
      "Epoch 91/100\n",
      "2/2 [==============================] - 0s 60ms/step - loss: 1.5970e-04 - categorical_accuracy: 1.0000 - precision_2: 1.0000 - recall_2: 1.0000 - f1_score: 1.0000 - val_loss: 2.4648 - val_categorical_accuracy: 1.0000 - val_precision_2: 0.6364 - val_recall_2: 0.7000 - val_f1_score: 0.6667\n",
      "Epoch 92/100\n",
      "2/2 [==============================] - 0s 58ms/step - loss: 8.0359e-05 - categorical_accuracy: 1.0000 - precision_2: 1.0000 - recall_2: 1.0000 - f1_score: 1.0000 - val_loss: 2.4609 - val_categorical_accuracy: 1.0000 - val_precision_2: 0.6364 - val_recall_2: 0.7000 - val_f1_score: 0.6667\n",
      "Epoch 93/100\n",
      "2/2 [==============================] - 0s 55ms/step - loss: 7.0043e-05 - categorical_accuracy: 1.0000 - precision_2: 1.0000 - recall_2: 1.0000 - f1_score: 1.0000 - val_loss: 2.4590 - val_categorical_accuracy: 1.0000 - val_precision_2: 0.6364 - val_recall_2: 0.7000 - val_f1_score: 0.6667\n",
      "Epoch 94/100\n",
      "2/2 [==============================] - 0s 61ms/step - loss: 5.4828e-05 - categorical_accuracy: 1.0000 - precision_2: 1.0000 - recall_2: 1.0000 - f1_score: 1.0000 - val_loss: 2.4590 - val_categorical_accuracy: 1.0000 - val_precision_2: 0.6364 - val_recall_2: 0.7000 - val_f1_score: 0.6667\n",
      "Epoch 95/100\n",
      "2/2 [==============================] - 0s 57ms/step - loss: 1.4828e-04 - categorical_accuracy: 1.0000 - precision_2: 1.0000 - recall_2: 1.0000 - f1_score: 1.0000 - val_loss: 2.4609 - val_categorical_accuracy: 1.0000 - val_precision_2: 0.6364 - val_recall_2: 0.7000 - val_f1_score: 0.6667\n",
      "Epoch 96/100\n",
      "2/2 [==============================] - 0s 51ms/step - loss: 8.3228e-05 - categorical_accuracy: 1.0000 - precision_2: 1.0000 - recall_2: 1.0000 - f1_score: 1.0000 - val_loss: 2.4609 - val_categorical_accuracy: 1.0000 - val_precision_2: 0.6364 - val_recall_2: 0.7000 - val_f1_score: 0.6667\n",
      "Epoch 97/100\n",
      "2/2 [==============================] - 0s 57ms/step - loss: 7.8948e-05 - categorical_accuracy: 1.0000 - precision_2: 1.0000 - recall_2: 1.0000 - f1_score: 1.0000 - val_loss: 2.4648 - val_categorical_accuracy: 1.0000 - val_precision_2: 0.6364 - val_recall_2: 0.7000 - val_f1_score: 0.6667\n",
      "Epoch 98/100\n",
      "2/2 [==============================] - 0s 57ms/step - loss: 2.2690e-05 - categorical_accuracy: 1.0000 - precision_2: 1.0000 - recall_2: 1.0000 - f1_score: 1.0000 - val_loss: 2.4648 - val_categorical_accuracy: 1.0000 - val_precision_2: 0.6364 - val_recall_2: 0.7000 - val_f1_score: 0.6667\n",
      "Epoch 99/100\n",
      "2/2 [==============================] - 0s 56ms/step - loss: 1.0715e-04 - categorical_accuracy: 1.0000 - precision_2: 1.0000 - recall_2: 1.0000 - f1_score: 1.0000 - val_loss: 2.4668 - val_categorical_accuracy: 1.0000 - val_precision_2: 0.6364 - val_recall_2: 0.7000 - val_f1_score: 0.6667\n",
      "Epoch 100/100\n",
      "2/2 [==============================] - 0s 52ms/step - loss: 1.7949e-04 - categorical_accuracy: 1.0000 - precision_2: 1.0000 - recall_2: 1.0000 - f1_score: 1.0000 - val_loss: 2.4668 - val_categorical_accuracy: 1.0000 - val_precision_2: 0.6364 - val_recall_2: 0.7000 - val_f1_score: 0.6667\n"
     ]
    }
   ],
   "source": [
    "model = buildModel(X.shape[1:])\n",
    "history = model.fit(x=X_train,\n",
    "                    y=y_train,\n",
    "                    epochs=100,\n",
    "                    validation_data=(X_test,y_test))"
   ]
  },
  {
   "cell_type": "code",
   "execution_count": 349,
   "metadata": {},
   "outputs": [
    {
     "data": {
      "application/vnd.plotly.v1+json": {
       "config": {
        "plotlyServerURL": "https://plot.ly"
       },
       "data": [
        {
         "hovertemplate": "variable=loss<br>index=%{x}<br>value=%{y}<extra></extra>",
         "legendgroup": "loss",
         "line": {
          "color": "#636efa",
          "dash": "solid"
         },
         "marker": {
          "symbol": "circle"
         },
         "mode": "lines",
         "name": "loss",
         "orientation": "v",
         "showlegend": true,
         "type": "scatter",
         "x": [
          0,
          1,
          2,
          3,
          4,
          5,
          6,
          7,
          8,
          9,
          10,
          11,
          12,
          13,
          14,
          15,
          16,
          17,
          18,
          19,
          20,
          21,
          22,
          23,
          24,
          25,
          26,
          27,
          28,
          29,
          30,
          31,
          32,
          33,
          34,
          35,
          36,
          37,
          38,
          39,
          40,
          41,
          42,
          43,
          44,
          45,
          46,
          47,
          48,
          49,
          50,
          51,
          52,
          53,
          54,
          55,
          56,
          57,
          58,
          59,
          60,
          61,
          62,
          63,
          64,
          65,
          66,
          67,
          68,
          69,
          70,
          71,
          72,
          73,
          74,
          75,
          76,
          77,
          78,
          79,
          80,
          81,
          82,
          83,
          84,
          85,
          86,
          87,
          88,
          89,
          90,
          91,
          92,
          93,
          94,
          95,
          96,
          97,
          98,
          99
         ],
         "xaxis": "x",
         "y": [
          0.8467773199081421,
          2.256054639816284,
          0.82080078125,
          0.6109374761581421,
          0.45016276836395264,
          1.376562476158142,
          0.8746744990348816,
          0.5366861820220947,
          0.45577800273895264,
          0.38929036259651184,
          0.44729816913604736,
          0.343994140625,
          0.30810546875,
          0.2555908262729645,
          0.24795328080654144,
          0.1836954802274704,
          0.1268310546875,
          0.107666015625,
          0.17380371689796448,
          0.0706380233168602,
          0.07339375466108322,
          0.03046671487390995,
          0.05124104768037796,
          0.02130330353975296,
          0.06973063200712204,
          0.015088907442986965,
          0.07753194123506546,
          0.00720163993537426,
          0.09052937477827072,
          0.18330077826976776,
          0.01912333257496357,
          0.0038166046142578125,
          0.015504964627325535,
          0.1832275390625,
          0.020590336993336678,
          0.03096923790872097,
          0.00529772462323308,
          0.00986633263528347,
          0.10333251953125,
          0.0056549073196947575,
          0.08556925505399704,
          0.005364608950912952,
          0.0794701874256134,
          0.02051188237965107,
          0.039186667650938034,
          0.028475698083639145,
          0.05842743068933487,
          0.0022321066353470087,
          0.01772359199821949,
          0.01146596297621727,
          0.00315068569034338,
          0.002437591552734375,
          0.0026077269576489925,
          0.006421089172363281,
          0.004216003231704235,
          0.0039122262969613075,
          0.041780002415180206,
          0.005634816363453865,
          0.0014472643379122019,
          0.006549072451889515,
          0.004214731976389885,
          0.00030783811234869063,
          0.00041827757377177477,
          0.0001251856447197497,
          0.0008865674608387053,
          0.0001946369739016518,
          0.0001024524390231818,
          0.002858193824067712,
          0.0005832671886309981,
          0.0001242717116838321,
          0.00023768743267282844,
          0.000020964940631529316,
          0.000050385791837470606,
          0.0002560218272265047,
          0.0001172622069134377,
          0.00008771419379627332,
          0.00007547139830421656,
          0.000521755195222795,
          0.00011750857083825395,
          0.000028634070986299776,
          0.000043992200517095625,
          0.00003765026849578135,
          0.00007412036211462691,
          0.00005703369606635533,
          0.000057307879615109414,
          0.00004344781336840242,
          0.00016494591545779258,
          0.00004671017450164072,
          0.000042287509131710976,
          0.000016788641005405225,
          0.00011632839596131817,
          0.000059052308643003926,
          0.000028808912247768603,
          0.00010064442903967574,
          0.00024729568394832313,
          0.000023333232093136758,
          0.0000889380753505975,
          0.000212872022530064,
          0.00007754961552564055,
          0.009259795770049095
         ],
         "yaxis": "y"
        },
        {
         "hovertemplate": "variable=val_loss<br>index=%{x}<br>value=%{y}<extra></extra>",
         "legendgroup": "val_loss",
         "line": {
          "color": "#EF553B",
          "dash": "solid"
         },
         "marker": {
          "symbol": "circle"
         },
         "mode": "lines",
         "name": "val_loss",
         "orientation": "v",
         "showlegend": true,
         "type": "scatter",
         "x": [
          0,
          1,
          2,
          3,
          4,
          5,
          6,
          7,
          8,
          9,
          10,
          11,
          12,
          13,
          14,
          15,
          16,
          17,
          18,
          19,
          20,
          21,
          22,
          23,
          24,
          25,
          26,
          27,
          28,
          29,
          30,
          31,
          32,
          33,
          34,
          35,
          36,
          37,
          38,
          39,
          40,
          41,
          42,
          43,
          44,
          45,
          46,
          47,
          48,
          49,
          50,
          51,
          52,
          53,
          54,
          55,
          56,
          57,
          58,
          59,
          60,
          61,
          62,
          63,
          64,
          65,
          66,
          67,
          68,
          69,
          70,
          71,
          72,
          73,
          74,
          75,
          76,
          77,
          78,
          79,
          80,
          81,
          82,
          83,
          84,
          85,
          86,
          87,
          88,
          89,
          90,
          91,
          92,
          93,
          94,
          95,
          96,
          97,
          98,
          99
         ],
         "xaxis": "x",
         "y": [
          40.09375,
          3.720703125,
          14.6328125,
          24.375,
          25.78125,
          21.9375,
          12.5,
          4.125,
          1.6611328125,
          0.9716796875,
          1.2529296875,
          2.8125,
          3.80859375,
          4.54296875,
          4.76171875,
          4.6328125,
          4.28515625,
          3.73828125,
          3.056640625,
          2.283203125,
          1.8330078125,
          1.533203125,
          1.4013671875,
          1.3408203125,
          1.3955078125,
          1.5419921875,
          1.5205078125,
          1.544921875,
          1.5478515625,
          1.5400390625,
          1.529296875,
          1.619140625,
          1.693359375,
          1.7587890625,
          1.7294921875,
          1.736328125,
          1.595703125,
          1.5078125,
          1.1494140625,
          0.6650390625,
          0.40966796875,
          0.487060546875,
          0.59912109375,
          0.716796875,
          0.93505859375,
          1.0439453125,
          1.0654296875,
          1.0546875,
          1.087890625,
          1.154296875,
          1.2294921875,
          1.2919921875,
          1.3349609375,
          1.3671875,
          1.396484375,
          1.40625,
          1.4453125,
          1.5107421875,
          1.57421875,
          1.6328125,
          1.6953125,
          1.75,
          1.794921875,
          1.8291015625,
          1.8701171875,
          1.9091796875,
          1.9326171875,
          1.974609375,
          2.029296875,
          2.0703125,
          2.1015625,
          2.12890625,
          2.1484375,
          2.171875,
          2.19140625,
          2.20703125,
          2.21875,
          2.228515625,
          2.23046875,
          2.23046875,
          2.234375,
          2.236328125,
          2.240234375,
          2.240234375,
          2.240234375,
          2.234375,
          2.234375,
          2.232421875,
          2.236328125,
          2.240234375,
          2.23828125,
          2.236328125,
          2.236328125,
          2.236328125,
          2.240234375,
          2.2421875,
          2.24609375,
          2.25390625,
          2.255859375,
          2.365234375
         ],
         "yaxis": "y"
        }
       ],
       "layout": {
        "legend": {
         "title": {
          "text": "variable"
         },
         "tracegroupgap": 0
        },
        "margin": {
         "t": 60
        },
        "template": {
         "data": {
          "bar": [
           {
            "error_x": {
             "color": "#2a3f5f"
            },
            "error_y": {
             "color": "#2a3f5f"
            },
            "marker": {
             "line": {
              "color": "#E5ECF6",
              "width": 0.5
             },
             "pattern": {
              "fillmode": "overlay",
              "size": 10,
              "solidity": 0.2
             }
            },
            "type": "bar"
           }
          ],
          "barpolar": [
           {
            "marker": {
             "line": {
              "color": "#E5ECF6",
              "width": 0.5
             },
             "pattern": {
              "fillmode": "overlay",
              "size": 10,
              "solidity": 0.2
             }
            },
            "type": "barpolar"
           }
          ],
          "carpet": [
           {
            "aaxis": {
             "endlinecolor": "#2a3f5f",
             "gridcolor": "white",
             "linecolor": "white",
             "minorgridcolor": "white",
             "startlinecolor": "#2a3f5f"
            },
            "baxis": {
             "endlinecolor": "#2a3f5f",
             "gridcolor": "white",
             "linecolor": "white",
             "minorgridcolor": "white",
             "startlinecolor": "#2a3f5f"
            },
            "type": "carpet"
           }
          ],
          "choropleth": [
           {
            "colorbar": {
             "outlinewidth": 0,
             "ticks": ""
            },
            "type": "choropleth"
           }
          ],
          "contour": [
           {
            "colorbar": {
             "outlinewidth": 0,
             "ticks": ""
            },
            "colorscale": [
             [
              0,
              "#0d0887"
             ],
             [
              0.1111111111111111,
              "#46039f"
             ],
             [
              0.2222222222222222,
              "#7201a8"
             ],
             [
              0.3333333333333333,
              "#9c179e"
             ],
             [
              0.4444444444444444,
              "#bd3786"
             ],
             [
              0.5555555555555556,
              "#d8576b"
             ],
             [
              0.6666666666666666,
              "#ed7953"
             ],
             [
              0.7777777777777778,
              "#fb9f3a"
             ],
             [
              0.8888888888888888,
              "#fdca26"
             ],
             [
              1,
              "#f0f921"
             ]
            ],
            "type": "contour"
           }
          ],
          "contourcarpet": [
           {
            "colorbar": {
             "outlinewidth": 0,
             "ticks": ""
            },
            "type": "contourcarpet"
           }
          ],
          "heatmap": [
           {
            "colorbar": {
             "outlinewidth": 0,
             "ticks": ""
            },
            "colorscale": [
             [
              0,
              "#0d0887"
             ],
             [
              0.1111111111111111,
              "#46039f"
             ],
             [
              0.2222222222222222,
              "#7201a8"
             ],
             [
              0.3333333333333333,
              "#9c179e"
             ],
             [
              0.4444444444444444,
              "#bd3786"
             ],
             [
              0.5555555555555556,
              "#d8576b"
             ],
             [
              0.6666666666666666,
              "#ed7953"
             ],
             [
              0.7777777777777778,
              "#fb9f3a"
             ],
             [
              0.8888888888888888,
              "#fdca26"
             ],
             [
              1,
              "#f0f921"
             ]
            ],
            "type": "heatmap"
           }
          ],
          "heatmapgl": [
           {
            "colorbar": {
             "outlinewidth": 0,
             "ticks": ""
            },
            "colorscale": [
             [
              0,
              "#0d0887"
             ],
             [
              0.1111111111111111,
              "#46039f"
             ],
             [
              0.2222222222222222,
              "#7201a8"
             ],
             [
              0.3333333333333333,
              "#9c179e"
             ],
             [
              0.4444444444444444,
              "#bd3786"
             ],
             [
              0.5555555555555556,
              "#d8576b"
             ],
             [
              0.6666666666666666,
              "#ed7953"
             ],
             [
              0.7777777777777778,
              "#fb9f3a"
             ],
             [
              0.8888888888888888,
              "#fdca26"
             ],
             [
              1,
              "#f0f921"
             ]
            ],
            "type": "heatmapgl"
           }
          ],
          "histogram": [
           {
            "marker": {
             "pattern": {
              "fillmode": "overlay",
              "size": 10,
              "solidity": 0.2
             }
            },
            "type": "histogram"
           }
          ],
          "histogram2d": [
           {
            "colorbar": {
             "outlinewidth": 0,
             "ticks": ""
            },
            "colorscale": [
             [
              0,
              "#0d0887"
             ],
             [
              0.1111111111111111,
              "#46039f"
             ],
             [
              0.2222222222222222,
              "#7201a8"
             ],
             [
              0.3333333333333333,
              "#9c179e"
             ],
             [
              0.4444444444444444,
              "#bd3786"
             ],
             [
              0.5555555555555556,
              "#d8576b"
             ],
             [
              0.6666666666666666,
              "#ed7953"
             ],
             [
              0.7777777777777778,
              "#fb9f3a"
             ],
             [
              0.8888888888888888,
              "#fdca26"
             ],
             [
              1,
              "#f0f921"
             ]
            ],
            "type": "histogram2d"
           }
          ],
          "histogram2dcontour": [
           {
            "colorbar": {
             "outlinewidth": 0,
             "ticks": ""
            },
            "colorscale": [
             [
              0,
              "#0d0887"
             ],
             [
              0.1111111111111111,
              "#46039f"
             ],
             [
              0.2222222222222222,
              "#7201a8"
             ],
             [
              0.3333333333333333,
              "#9c179e"
             ],
             [
              0.4444444444444444,
              "#bd3786"
             ],
             [
              0.5555555555555556,
              "#d8576b"
             ],
             [
              0.6666666666666666,
              "#ed7953"
             ],
             [
              0.7777777777777778,
              "#fb9f3a"
             ],
             [
              0.8888888888888888,
              "#fdca26"
             ],
             [
              1,
              "#f0f921"
             ]
            ],
            "type": "histogram2dcontour"
           }
          ],
          "mesh3d": [
           {
            "colorbar": {
             "outlinewidth": 0,
             "ticks": ""
            },
            "type": "mesh3d"
           }
          ],
          "parcoords": [
           {
            "line": {
             "colorbar": {
              "outlinewidth": 0,
              "ticks": ""
             }
            },
            "type": "parcoords"
           }
          ],
          "pie": [
           {
            "automargin": true,
            "type": "pie"
           }
          ],
          "scatter": [
           {
            "fillpattern": {
             "fillmode": "overlay",
             "size": 10,
             "solidity": 0.2
            },
            "type": "scatter"
           }
          ],
          "scatter3d": [
           {
            "line": {
             "colorbar": {
              "outlinewidth": 0,
              "ticks": ""
             }
            },
            "marker": {
             "colorbar": {
              "outlinewidth": 0,
              "ticks": ""
             }
            },
            "type": "scatter3d"
           }
          ],
          "scattercarpet": [
           {
            "marker": {
             "colorbar": {
              "outlinewidth": 0,
              "ticks": ""
             }
            },
            "type": "scattercarpet"
           }
          ],
          "scattergeo": [
           {
            "marker": {
             "colorbar": {
              "outlinewidth": 0,
              "ticks": ""
             }
            },
            "type": "scattergeo"
           }
          ],
          "scattergl": [
           {
            "marker": {
             "colorbar": {
              "outlinewidth": 0,
              "ticks": ""
             }
            },
            "type": "scattergl"
           }
          ],
          "scattermapbox": [
           {
            "marker": {
             "colorbar": {
              "outlinewidth": 0,
              "ticks": ""
             }
            },
            "type": "scattermapbox"
           }
          ],
          "scatterpolar": [
           {
            "marker": {
             "colorbar": {
              "outlinewidth": 0,
              "ticks": ""
             }
            },
            "type": "scatterpolar"
           }
          ],
          "scatterpolargl": [
           {
            "marker": {
             "colorbar": {
              "outlinewidth": 0,
              "ticks": ""
             }
            },
            "type": "scatterpolargl"
           }
          ],
          "scatterternary": [
           {
            "marker": {
             "colorbar": {
              "outlinewidth": 0,
              "ticks": ""
             }
            },
            "type": "scatterternary"
           }
          ],
          "surface": [
           {
            "colorbar": {
             "outlinewidth": 0,
             "ticks": ""
            },
            "colorscale": [
             [
              0,
              "#0d0887"
             ],
             [
              0.1111111111111111,
              "#46039f"
             ],
             [
              0.2222222222222222,
              "#7201a8"
             ],
             [
              0.3333333333333333,
              "#9c179e"
             ],
             [
              0.4444444444444444,
              "#bd3786"
             ],
             [
              0.5555555555555556,
              "#d8576b"
             ],
             [
              0.6666666666666666,
              "#ed7953"
             ],
             [
              0.7777777777777778,
              "#fb9f3a"
             ],
             [
              0.8888888888888888,
              "#fdca26"
             ],
             [
              1,
              "#f0f921"
             ]
            ],
            "type": "surface"
           }
          ],
          "table": [
           {
            "cells": {
             "fill": {
              "color": "#EBF0F8"
             },
             "line": {
              "color": "white"
             }
            },
            "header": {
             "fill": {
              "color": "#C8D4E3"
             },
             "line": {
              "color": "white"
             }
            },
            "type": "table"
           }
          ]
         },
         "layout": {
          "annotationdefaults": {
           "arrowcolor": "#2a3f5f",
           "arrowhead": 0,
           "arrowwidth": 1
          },
          "autotypenumbers": "strict",
          "coloraxis": {
           "colorbar": {
            "outlinewidth": 0,
            "ticks": ""
           }
          },
          "colorscale": {
           "diverging": [
            [
             0,
             "#8e0152"
            ],
            [
             0.1,
             "#c51b7d"
            ],
            [
             0.2,
             "#de77ae"
            ],
            [
             0.3,
             "#f1b6da"
            ],
            [
             0.4,
             "#fde0ef"
            ],
            [
             0.5,
             "#f7f7f7"
            ],
            [
             0.6,
             "#e6f5d0"
            ],
            [
             0.7,
             "#b8e186"
            ],
            [
             0.8,
             "#7fbc41"
            ],
            [
             0.9,
             "#4d9221"
            ],
            [
             1,
             "#276419"
            ]
           ],
           "sequential": [
            [
             0,
             "#0d0887"
            ],
            [
             0.1111111111111111,
             "#46039f"
            ],
            [
             0.2222222222222222,
             "#7201a8"
            ],
            [
             0.3333333333333333,
             "#9c179e"
            ],
            [
             0.4444444444444444,
             "#bd3786"
            ],
            [
             0.5555555555555556,
             "#d8576b"
            ],
            [
             0.6666666666666666,
             "#ed7953"
            ],
            [
             0.7777777777777778,
             "#fb9f3a"
            ],
            [
             0.8888888888888888,
             "#fdca26"
            ],
            [
             1,
             "#f0f921"
            ]
           ],
           "sequentialminus": [
            [
             0,
             "#0d0887"
            ],
            [
             0.1111111111111111,
             "#46039f"
            ],
            [
             0.2222222222222222,
             "#7201a8"
            ],
            [
             0.3333333333333333,
             "#9c179e"
            ],
            [
             0.4444444444444444,
             "#bd3786"
            ],
            [
             0.5555555555555556,
             "#d8576b"
            ],
            [
             0.6666666666666666,
             "#ed7953"
            ],
            [
             0.7777777777777778,
             "#fb9f3a"
            ],
            [
             0.8888888888888888,
             "#fdca26"
            ],
            [
             1,
             "#f0f921"
            ]
           ]
          },
          "colorway": [
           "#636efa",
           "#EF553B",
           "#00cc96",
           "#ab63fa",
           "#FFA15A",
           "#19d3f3",
           "#FF6692",
           "#B6E880",
           "#FF97FF",
           "#FECB52"
          ],
          "font": {
           "color": "#2a3f5f"
          },
          "geo": {
           "bgcolor": "white",
           "lakecolor": "white",
           "landcolor": "#E5ECF6",
           "showlakes": true,
           "showland": true,
           "subunitcolor": "white"
          },
          "hoverlabel": {
           "align": "left"
          },
          "hovermode": "closest",
          "mapbox": {
           "style": "light"
          },
          "paper_bgcolor": "white",
          "plot_bgcolor": "#E5ECF6",
          "polar": {
           "angularaxis": {
            "gridcolor": "white",
            "linecolor": "white",
            "ticks": ""
           },
           "bgcolor": "#E5ECF6",
           "radialaxis": {
            "gridcolor": "white",
            "linecolor": "white",
            "ticks": ""
           }
          },
          "scene": {
           "xaxis": {
            "backgroundcolor": "#E5ECF6",
            "gridcolor": "white",
            "gridwidth": 2,
            "linecolor": "white",
            "showbackground": true,
            "ticks": "",
            "zerolinecolor": "white"
           },
           "yaxis": {
            "backgroundcolor": "#E5ECF6",
            "gridcolor": "white",
            "gridwidth": 2,
            "linecolor": "white",
            "showbackground": true,
            "ticks": "",
            "zerolinecolor": "white"
           },
           "zaxis": {
            "backgroundcolor": "#E5ECF6",
            "gridcolor": "white",
            "gridwidth": 2,
            "linecolor": "white",
            "showbackground": true,
            "ticks": "",
            "zerolinecolor": "white"
           }
          },
          "shapedefaults": {
           "line": {
            "color": "#2a3f5f"
           }
          },
          "ternary": {
           "aaxis": {
            "gridcolor": "white",
            "linecolor": "white",
            "ticks": ""
           },
           "baxis": {
            "gridcolor": "white",
            "linecolor": "white",
            "ticks": ""
           },
           "bgcolor": "#E5ECF6",
           "caxis": {
            "gridcolor": "white",
            "linecolor": "white",
            "ticks": ""
           }
          },
          "title": {
           "x": 0.05
          },
          "xaxis": {
           "automargin": true,
           "gridcolor": "white",
           "linecolor": "white",
           "ticks": "",
           "title": {
            "standoff": 15
           },
           "zerolinecolor": "white",
           "zerolinewidth": 2
          },
          "yaxis": {
           "automargin": true,
           "gridcolor": "white",
           "linecolor": "white",
           "ticks": "",
           "title": {
            "standoff": 15
           },
           "zerolinecolor": "white",
           "zerolinewidth": 2
          }
         }
        },
        "xaxis": {
         "anchor": "y",
         "domain": [
          0,
          1
         ],
         "title": {
          "text": "index"
         }
        },
        "yaxis": {
         "anchor": "x",
         "domain": [
          0,
          1
         ],
         "title": {
          "text": "value"
         }
        }
       }
      }
     },
     "metadata": {},
     "output_type": "display_data"
    }
   ],
   "source": [
    "f1 = np.array(history.history['loss']).flatten()\n",
    "valf1 = np.array(history.history['val_loss']).flatten()\n",
    "px.line(pd.DataFrame(np.array([f1, valf1]).T, columns=['loss', 'val_loss'])).show()"
   ]
  }
 ],
 "metadata": {
  "kernelspec": {
   "display_name": "Python 3.10.7 64-bit",
   "language": "python",
   "name": "python3"
  },
  "language_info": {
   "codemirror_mode": {
    "name": "ipython",
    "version": 3
   },
   "file_extension": ".py",
   "mimetype": "text/x-python",
   "name": "python",
   "nbconvert_exporter": "python",
   "pygments_lexer": "ipython3",
   "version": "3.10.7"
  },
  "orig_nbformat": 4,
  "vscode": {
   "interpreter": {
    "hash": "369f2c481f4da34e4445cda3fffd2e751bd1c4d706f27375911949ba6bb62e1c"
   }
  }
 },
 "nbformat": 4,
 "nbformat_minor": 2
}
