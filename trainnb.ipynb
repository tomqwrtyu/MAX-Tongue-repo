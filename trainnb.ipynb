{
 "cells": [
  {
   "cell_type": "code",
   "execution_count": 2,
   "metadata": {},
   "outputs": [
    {
     "ename": "ValueError",
     "evalue": "One of the dimensions in the output is <= 0 due to downsampling in conv1d_1. Consider increasing the input size. Received input shape [23, 3, 750] which would produce output shape with a zero or negative value in a dimension.",
     "output_type": "error",
     "traceback": [
      "\u001b[1;31m---------------------------------------------------------------------------\u001b[0m",
      "\u001b[1;31mValueError\u001b[0m                                Traceback (most recent call last)",
      "Cell \u001b[1;32mIn [2], line 59\u001b[0m\n\u001b[0;32m     57\u001b[0m trainFile \u001b[39m=\u001b[39m \u001b[39m'\u001b[39m\u001b[39m./data/coswave.npy\u001b[39m\u001b[39m'\u001b[39m\n\u001b[0;32m     58\u001b[0m X \u001b[39m=\u001b[39m slicingAndNormalize(np\u001b[39m.\u001b[39mload(trainFile))\n\u001b[1;32m---> 59\u001b[0m y \u001b[39m=\u001b[39m tf\u001b[39m.\u001b[39mkeras\u001b[39m.\u001b[39mlayers\u001b[39m.\u001b[39mConv1D(\u001b[39m8\u001b[39m, \u001b[39m12\u001b[39m, activation\u001b[39m=\u001b[39m\u001b[39m'\u001b[39m\u001b[39mrelu\u001b[39m\u001b[39m'\u001b[39m, input_shape\u001b[39m=\u001b[39m(CHANNEL_NUMBER, WINDOW_SIZE))(X)\n\u001b[0;32m     60\u001b[0m \u001b[39mprint\u001b[39m(y\u001b[39m.\u001b[39mshape)\n",
      "File \u001b[1;32mc:\\Python310\\lib\\site-packages\\keras\\utils\\traceback_utils.py:70\u001b[0m, in \u001b[0;36mfilter_traceback.<locals>.error_handler\u001b[1;34m(*args, **kwargs)\u001b[0m\n\u001b[0;32m     67\u001b[0m     filtered_tb \u001b[39m=\u001b[39m _process_traceback_frames(e\u001b[39m.\u001b[39m__traceback__)\n\u001b[0;32m     68\u001b[0m     \u001b[39m# To get the full stack trace, call:\u001b[39;00m\n\u001b[0;32m     69\u001b[0m     \u001b[39m# `tf.debugging.disable_traceback_filtering()`\u001b[39;00m\n\u001b[1;32m---> 70\u001b[0m     \u001b[39mraise\u001b[39;00m e\u001b[39m.\u001b[39mwith_traceback(filtered_tb) \u001b[39mfrom\u001b[39;00m \u001b[39mNone\u001b[39m\n\u001b[0;32m     71\u001b[0m \u001b[39mfinally\u001b[39;00m:\n\u001b[0;32m     72\u001b[0m     \u001b[39mdel\u001b[39;00m filtered_tb\n",
      "File \u001b[1;32mc:\\Python310\\lib\\site-packages\\keras\\layers\\convolutional\\base_conv.py:347\u001b[0m, in \u001b[0;36mConv.compute_output_shape\u001b[1;34m(self, input_shape)\u001b[0m\n\u001b[0;32m    340\u001b[0m         \u001b[39mreturn\u001b[39;00m tf\u001b[39m.\u001b[39mTensorShape(\n\u001b[0;32m    341\u001b[0m             input_shape[:batch_rank]\n\u001b[0;32m    342\u001b[0m             \u001b[39m+\u001b[39m [\u001b[39mself\u001b[39m\u001b[39m.\u001b[39mfilters]\n\u001b[0;32m    343\u001b[0m             \u001b[39m+\u001b[39m \u001b[39mself\u001b[39m\u001b[39m.\u001b[39m_spatial_output_shape(input_shape[batch_rank \u001b[39m+\u001b[39m \u001b[39m1\u001b[39m :])\n\u001b[0;32m    344\u001b[0m         )\n\u001b[0;32m    346\u001b[0m \u001b[39mexcept\u001b[39;00m \u001b[39mValueError\u001b[39;00m:\n\u001b[1;32m--> 347\u001b[0m     \u001b[39mraise\u001b[39;00m \u001b[39mValueError\u001b[39;00m(\n\u001b[0;32m    348\u001b[0m         \u001b[39mf\u001b[39m\u001b[39m\"\u001b[39m\u001b[39mOne of the dimensions in the output is <= 0 \u001b[39m\u001b[39m\"\u001b[39m\n\u001b[0;32m    349\u001b[0m         \u001b[39mf\u001b[39m\u001b[39m\"\u001b[39m\u001b[39mdue to downsampling in \u001b[39m\u001b[39m{\u001b[39;00m\u001b[39mself\u001b[39m\u001b[39m.\u001b[39mname\u001b[39m}\u001b[39;00m\u001b[39m. Consider \u001b[39m\u001b[39m\"\u001b[39m\n\u001b[0;32m    350\u001b[0m         \u001b[39mf\u001b[39m\u001b[39m\"\u001b[39m\u001b[39mincreasing the input size. \u001b[39m\u001b[39m\"\u001b[39m\n\u001b[0;32m    351\u001b[0m         \u001b[39mf\u001b[39m\u001b[39m\"\u001b[39m\u001b[39mReceived input shape \u001b[39m\u001b[39m{\u001b[39;00minput_shape\u001b[39m}\u001b[39;00m\u001b[39m which would produce \u001b[39m\u001b[39m\"\u001b[39m\n\u001b[0;32m    352\u001b[0m         \u001b[39mf\u001b[39m\u001b[39m\"\u001b[39m\u001b[39moutput shape with a zero or negative value in a \u001b[39m\u001b[39m\"\u001b[39m\n\u001b[0;32m    353\u001b[0m         \u001b[39mf\u001b[39m\u001b[39m\"\u001b[39m\u001b[39mdimension.\u001b[39m\u001b[39m\"\u001b[39m\n\u001b[0;32m    354\u001b[0m     )\n",
      "\u001b[1;31mValueError\u001b[0m: One of the dimensions in the output is <= 0 due to downsampling in conv1d_1. Consider increasing the input size. Received input shape [23, 3, 750] which would produce output shape with a zero or negative value in a dimension."
     ]
    }
   ],
   "source": [
    "import pandas as pd\n",
    "import numpy as np\n",
    "import tensorflow as tf\n",
    "\n",
    "BATCH_SIZE = 4\n",
    "CHANNEL_NUMBER = 3\n",
    "WINDOW_SIZE = 750\n",
    "SLIDING_STEP = int(WINDOW_SIZE * 0.4)\n",
    "CLASS_NUMBER = 2\n",
    "\n",
    "def slicingAndNormalize(arr):\n",
    "    def normalizer(X):\n",
    "        ret = np.zeros(X.shape)\n",
    "        for i in range(CHANNEL_NUMBER):\n",
    "            mean = np.mean(X[0, i])\n",
    "            std = np.std(X[0, i])\n",
    "            for j in range(WINDOW_SIZE):\n",
    "                ret[0, i, j] = (X[0, i, j] - mean) / std\n",
    "                    \n",
    "        return ret\n",
    "    \n",
    "    totalLength = arr.shape[-1]\n",
    "    if totalLength <= WINDOW_SIZE:\n",
    "        return arr\n",
    "    ret = normalizer(arr[np.newaxis, :, :WINDOW_SIZE])\n",
    "    \n",
    "    i = SLIDING_STEP\n",
    "    while (totalLength - i) > WINDOW_SIZE:\n",
    "        new = normalizer(arr[np.newaxis, :, i:(i + WINDOW_SIZE)])\n",
    "        ret = np.concatenate([ret, new], axis=0)\n",
    "        i += SLIDING_STEP\n",
    "    return ret\n",
    "\n",
    "def buildModel():\n",
    "    model = tf.keras.Sequential([\n",
    "        tf.keras.layers.Conv1D(8, 12, activation='relu', input_shape=(CHANNEL_NUMBER, WINDOW_SIZE)),\n",
    "        tf.keras.layers.MaxPool1D(padding='same'),\n",
    "        tf.keras.layers.Dropout(0.2),\n",
    "        tf.keras.layers.Conv1D(32, 12, strides=5, activation='relu'),\n",
    "        tf.keras.layers.MaxPool1D(padding='same'),\n",
    "        tf.keras.layers.Dropout(0.2),\n",
    "        tf.keras.layers.Conv1D(48, 12, strides=3, activation='relu'),\n",
    "        tf.keras.layers.MaxPool1D(padding='same'),\n",
    "        tf.keras.layers.Dropout(0.2),\n",
    "        tf.keras.layers.Conv1D(96, 12, activation='relu'),\n",
    "        tf.keras.layers.Dense(512, activation='relu'),\n",
    "        tf.keras.layers.Dense(256, activation='relu'),\n",
    "        tf.keras.layers.Dense(CLASS_NUMBER, activation='softmax')]\n",
    "    )\n",
    "    model.compile(optimizer='adam',\n",
    "                loss=tf.keras.losses.BinaryCrossentropy(),\n",
    "                metrics=[tf.keras.metrics.AUC()])\n",
    "    model.summary()\n",
    "    return model\n",
    "\n",
    "\n",
    "trainFile = './data/coswave.npy'\n",
    "X = slicingAndNormalize(np.load(trainFile))\n",
    "y = tf.keras.layers.Conv1D(8, 12, activation='relu', input_shape=(CHANNEL_NUMBER, WINDOW_SIZE))(X)\n",
    "print(y.shape)\n",
    "    #model = buildModel()"
   ]
  }
 ],
 "metadata": {
  "kernelspec": {
   "display_name": "Python 3.10.7 64-bit",
   "language": "python",
   "name": "python3"
  },
  "language_info": {
   "codemirror_mode": {
    "name": "ipython",
    "version": 3
   },
   "file_extension": ".py",
   "mimetype": "text/x-python",
   "name": "python",
   "nbconvert_exporter": "python",
   "pygments_lexer": "ipython3",
   "version": "3.10.7"
  },
  "orig_nbformat": 4,
  "vscode": {
   "interpreter": {
    "hash": "369f2c481f4da34e4445cda3fffd2e751bd1c4d706f27375911949ba6bb62e1c"
   }
  }
 },
 "nbformat": 4,
 "nbformat_minor": 2
}
