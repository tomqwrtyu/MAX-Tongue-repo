{
 "cells": [
  {
   "cell_type": "code",
   "execution_count": null,
   "metadata": {},
   "outputs": [],
   "source": [
    "import pandas as pd\n",
    "import numpy as np\n",
    "import tensorflow as tf\n",
    "import tensorflow_addons as tfa\n",
    "from sklearn.model_selection import train_test_split\n",
    "import plotly.express as px\n",
    "import emd\n",
    "tf.keras.mixed_precision.set_global_policy('mixed_float16')\n",
    "\n",
    "BATCH_SIZE = 32\n",
    "CHANNEL_NUMBER = 3\n",
    "WINDOW_SIZE = 300\n",
    "SLIDING_STEP = int(WINDOW_SIZE * 0.4)\n",
    "CLASS_NUMBER = 3\n",
    "NUM_IMF = 6\n",
    "if CLASS_NUMBER < 2:\n",
    "    CLASS_NUMBER = 2\n",
    "\n",
    "def slicingAndNormalize(arr):\n",
    "    def normalizer(X):\n",
    "        mean = np.average(X, axis=1)\n",
    "        std = np.std(X, axis=1)\n",
    "        ret = (X.copy() - mean) / std\n",
    "        return ret\n",
    "    \n",
    "    totalLength = arr.shape[0]\n",
    "    if totalLength <= WINDOW_SIZE:\n",
    "        return arr\n",
    "    ret = normalizer((arr[:WINDOW_SIZE, :])[np.newaxis, :])\n",
    "    \n",
    "    i = SLIDING_STEP\n",
    "    while (totalLength - i) > WINDOW_SIZE:\n",
    "        new = normalizer((arr[i:(i + WINDOW_SIZE), :])[np.newaxis, :])\n",
    "        ret = np.concatenate([ret, new], axis=0)\n",
    "        i += SLIDING_STEP\n",
    "    return ret\n",
    "\n",
    "def slicing(x, y):\n",
    "    totalLength = x.shape[0]\n",
    "    assert totalLength == y.shape[0], \"Data numbers not matching with that of labels.\"\n",
    "    if totalLength <= WINDOW_SIZE:\n",
    "        return x\n",
    "    \n",
    "    halfWindow = 0.5 * WINDOW_SIZE\n",
    "    retx = (x[:WINDOW_SIZE, :])[np.newaxis, :]\n",
    "    rety = [np.argmax(np.sum(y[:WINDOW_SIZE], axis=0))]\n",
    "    \n",
    "    i = SLIDING_STEP\n",
    "    while (totalLength - i) > WINDOW_SIZE:\n",
    "        new = (x[i:(i + WINDOW_SIZE), :])[np.newaxis, :]\n",
    "        retx = np.concatenate([retx, new], axis=0)\n",
    "        rety.append(np.argmax(np.sum(y[i:(i + WINDOW_SIZE)], axis = 0)))\n",
    "        i += SLIDING_STEP\n",
    "    return retx, rety\n",
    "\n",
    "def one_hot_label(arr):\n",
    "    label_dict = {}\n",
    "    index = 1\n",
    "    for val in arr:\n",
    "        if not label_dict.get(val, False):\n",
    "            label_dict[val] = index\n",
    "            index += 1\n",
    "    return label_dict\n",
    "\n",
    "def one_hot(arr, label_dict = None):\n",
    "    if not isinstance(label_dict, dict):\n",
    "        label_dict = one_hot_label(arr)\n",
    "\n",
    "    ret = []\n",
    "    key_num = len(list(label_dict.keys()))\n",
    "    for val in arr:\n",
    "        tmp = [0] * key_num\n",
    "        tmp[label_dict[val] - 1] = 1\n",
    "        ret.append(np.array(tmp))\n",
    "        \n",
    "    return np.array(ret)    \n",
    "\n",
    "def emdSignal(sig):\n",
    "    dataNumber = sig.shape[0]\n",
    "    channel = sig.shape[-1]\n",
    "    ret = None\n",
    "    \n",
    "    for i in range(dataNumber):\n",
    "        temp = None\n",
    "        \n",
    "        for c in range(channel):\n",
    "            raw = sig[i, :, c]\n",
    "            imf = emd.sift.sift(raw, max_imfs=NUM_IMF, imf_opts={'sd_thresh': 0.1})\n",
    "            \n",
    "            if imf.shape[-1] < NUM_IMF:\n",
    "                compensate = np.zeros((WINDOW_SIZE, NUM_IMF - imf.shape[-1]))\n",
    "                imf = np.concatenate([imf, compensate], axis = 1)\n",
    "            \n",
    "            if not type(temp) == np.ndarray: \n",
    "                temp = imf\n",
    "            else: \n",
    "                temp = np.concatenate([temp, imf], axis = 1)\n",
    "            \n",
    "        if type(temp) == np.ndarray: \n",
    "            if not type(ret) == np.ndarray: \n",
    "                ret = temp[np.newaxis, :]\n",
    "            else: \n",
    "                ret = np.concatenate([ret, temp[np.newaxis, :]], axis = 0)\n",
    "                \n",
    "    return ret\n",
    "\n",
    "def buildModel(shape):\n",
    "    model = tf.keras.Sequential([\n",
    "        tf.keras.layers.Input(shape = shape),\n",
    "        tf.keras.layers.Conv1D(80, 100, padding='same', activation='relu'),\n",
    "        tf.keras.layers.BatchNormalization(axis=1),\n",
    "        tf.keras.layers.MaxPool1D(padding='same'),\n",
    "        tf.keras.layers.Dropout(0.2),\n",
    "        tf.keras.layers.Conv1D(100, 120, padding='same', activation='relu'),\n",
    "        tf.keras.layers.BatchNormalization(axis=1),\n",
    "        tf.keras.layers.MaxPool1D(padding='same'),\n",
    "        tf.keras.layers.Dropout(0.2),\n",
    "        tf.keras.layers.Conv1D(120, 140, padding='same', activation='relu'),\n",
    "        tf.keras.layers.BatchNormalization(axis=1),\n",
    "        tf.keras.layers.MaxPool1D(padding='same'),\n",
    "        tf.keras.layers.Flatten(),\n",
    "        tf.keras.layers.Dense(CLASS_NUMBER, activation='softmax')]\n",
    "    )\n",
    "    model.compile(optimizer='adam',\n",
    "                loss=tf.keras.losses.CategoricalCrossentropy(),\n",
    "                metrics=[tf.keras.metrics.CategoricalAccuracy()])\n",
    "                        #  tf.keras.metrics.Precision(thresholds = 0.5),\n",
    "                        #  tf.keras.metrics.Recall(thresholds= 0.5)])\n",
    "    model.summary()\n",
    "    return model"
   ]
  },
  {
   "cell_type": "code",
   "execution_count": 60,
   "metadata": {},
   "outputs": [
    {
     "name": "stdout",
     "output_type": "stream",
     "text": [
      "{0: 1, 4: 2, 3: 3}\n",
      "{0: 1, 1: 2, 2: 3}\n",
      "{0: 1, 4: 2, 3: 3}\n",
      "{0: 1, 1: 2, 2: 3}\n",
      "(496, 300, 12)\n",
      "(279, 300, 12)\n"
     ]
    }
   ],
   "source": [
    "trainFile = './data/train_X.npy'\n",
    "trainLabel = \"./data/train_y.npy\"\n",
    "testFile = './data/test1_X.npy'\n",
    "testLabel = \"./data/test1_y.npy\"\n",
    "train_label_dict = one_hot_label(np.load(trainLabel))\n",
    "X, y = slicing(np.load(trainFile), one_hot(np.load(trainLabel), train_label_dict))\n",
    "train_out_label_dict = one_hot_label(y)\n",
    "y = one_hot(y, train_out_label_dict)\n",
    "X = emdSignal(X)\n",
    "\n",
    "X_test, y_test = slicing(np.load(testFile), one_hot(np.load(testLabel), train_label_dict))\n",
    "y_test = one_hot(y_test, train_out_label_dict)\n",
    "X_test = emdSignal(X_test)\n",
    "print(X.shape)\n",
    "print(X_test.shape)"
   ]
  },
  {
   "cell_type": "code",
   "execution_count": null,
   "metadata": {},
   "outputs": [],
   "source": [
    "threeChan = X[18]\n",
    "f = threeChan[:, 0].T\n",
    "s = threeChan[:, 1].T\n",
    "t = threeChan[:, 2].T\n",
    "imf = emd.sift.sift(f, max_imfs=4, imf_opts={'sd_thresh': 0.1})\n",
    "print(imf.shape)\n",
    "emd.plotting.plot_imfs(imf)"
   ]
  },
  {
   "cell_type": "code",
   "execution_count": null,
   "metadata": {},
   "outputs": [],
   "source": [
    "n += 1\n",
    "print(n, n*SLIDING_STEP, n*SLIDING_STEP + WINDOW_SIZE)\n",
    "px.line(X[n]).show()"
   ]
  },
  {
   "cell_type": "code",
   "execution_count": 50,
   "metadata": {},
   "outputs": [],
   "source": [
    "X_train, X_test, y_train, y_test = train_test_split(X, y, test_size=0.2, random_state=777)"
   ]
  },
  {
   "cell_type": "code",
   "execution_count": 121,
   "metadata": {},
   "outputs": [
    {
     "name": "stdout",
     "output_type": "stream",
     "text": [
      "Model: \"sequential_26\"\n",
      "_________________________________________________________________\n",
      " Layer (type)                Output Shape              Param #   \n",
      "=================================================================\n",
      " conv1d_78 (Conv1D)          (None, 300, 80)           96080     \n",
      "                                                                 \n",
      " batch_normalization_78 (Bat  (None, 300, 80)          1200      \n",
      " chNormalization)                                                \n",
      "                                                                 \n",
      " max_pooling1d_78 (MaxPoolin  (None, 150, 80)          0         \n",
      " g1D)                                                            \n",
      "                                                                 \n",
      " dropout_74 (Dropout)        (None, 150, 80)           0         \n",
      "                                                                 \n",
      " conv1d_79 (Conv1D)          (None, 150, 100)          960100    \n",
      "                                                                 \n",
      " batch_normalization_79 (Bat  (None, 150, 100)         600       \n",
      " chNormalization)                                                \n",
      "                                                                 \n",
      " max_pooling1d_79 (MaxPoolin  (None, 75, 100)          0         \n",
      " g1D)                                                            \n",
      "                                                                 \n",
      " dropout_75 (Dropout)        (None, 75, 100)           0         \n",
      "                                                                 \n",
      " conv1d_80 (Conv1D)          (None, 75, 120)           1680120   \n",
      "                                                                 \n",
      " batch_normalization_80 (Bat  (None, 75, 120)          300       \n",
      " chNormalization)                                                \n",
      "                                                                 \n",
      " max_pooling1d_80 (MaxPoolin  (None, 38, 120)          0         \n",
      " g1D)                                                            \n",
      "                                                                 \n",
      " flatten_27 (Flatten)        (None, 4560)              0         \n",
      "                                                                 \n",
      " dense_101 (Dense)           (None, 3)                 13683     \n",
      "                                                                 \n",
      "=================================================================\n",
      "Total params: 2,752,083\n",
      "Trainable params: 2,751,033\n",
      "Non-trainable params: 1,050\n",
      "_________________________________________________________________\n"
     ]
    }
   ],
   "source": [
    "model = buildModel(X.shape[1:])"
   ]
  },
  {
   "cell_type": "code",
   "execution_count": 122,
   "metadata": {},
   "outputs": [
    {
     "name": "stdout",
     "output_type": "stream",
     "text": [
      "Model: \"sequential_27\"\n",
      "_________________________________________________________________\n",
      " Layer (type)                Output Shape              Param #   \n",
      "=================================================================\n",
      " conv1d_81 (Conv1D)          (None, 300, 80)           96080     \n",
      "                                                                 \n",
      " batch_normalization_81 (Bat  (None, 300, 80)          1200      \n",
      " chNormalization)                                                \n",
      "                                                                 \n",
      " max_pooling1d_81 (MaxPoolin  (None, 150, 80)          0         \n",
      " g1D)                                                            \n",
      "                                                                 \n",
      " dropout_76 (Dropout)        (None, 150, 80)           0         \n",
      "                                                                 \n",
      " conv1d_82 (Conv1D)          (None, 150, 100)          960100    \n",
      "                                                                 \n",
      " batch_normalization_82 (Bat  (None, 150, 100)         600       \n",
      " chNormalization)                                                \n",
      "                                                                 \n",
      " max_pooling1d_82 (MaxPoolin  (None, 75, 100)          0         \n",
      " g1D)                                                            \n",
      "                                                                 \n",
      " dropout_77 (Dropout)        (None, 75, 100)           0         \n",
      "                                                                 \n",
      " conv1d_83 (Conv1D)          (None, 75, 120)           1680120   \n",
      "                                                                 \n",
      " batch_normalization_83 (Bat  (None, 75, 120)          300       \n",
      " chNormalization)                                                \n",
      "                                                                 \n",
      " max_pooling1d_83 (MaxPoolin  (None, 38, 120)          0         \n",
      " g1D)                                                            \n",
      "                                                                 \n",
      " flatten_28 (Flatten)        (None, 4560)              0         \n",
      "                                                                 \n",
      " dense_102 (Dense)           (None, 3)                 13683     \n",
      "                                                                 \n",
      "=================================================================\n",
      "Total params: 2,752,083\n",
      "Trainable params: 2,751,033\n",
      "Non-trainable params: 1,050\n",
      "_________________________________________________________________\n",
      "Epoch 1/100\n",
      "16/16 [==============================] - 3s 51ms/step - loss: 1.6849 - categorical_accuracy: 0.4758 - val_loss: 1.7545 - val_categorical_accuracy: 0.6057\n",
      "Epoch 2/100\n",
      "16/16 [==============================] - 0s 26ms/step - loss: 0.9879 - categorical_accuracy: 0.5645 - val_loss: 1.1346 - val_categorical_accuracy: 0.3835\n",
      "Epoch 3/100\n",
      "16/16 [==============================] - 0s 24ms/step - loss: 0.8788 - categorical_accuracy: 0.6069 - val_loss: 1.1458 - val_categorical_accuracy: 0.3226\n",
      "Epoch 4/100\n",
      "16/16 [==============================] - 0s 25ms/step - loss: 0.8596 - categorical_accuracy: 0.6411 - val_loss: 1.1478 - val_categorical_accuracy: 0.4624\n",
      "Epoch 5/100\n",
      "16/16 [==============================] - 0s 25ms/step - loss: 0.8858 - categorical_accuracy: 0.6210 - val_loss: 1.2597 - val_categorical_accuracy: 0.2581\n",
      "Epoch 6/100\n",
      "16/16 [==============================] - 0s 26ms/step - loss: 0.8697 - categorical_accuracy: 0.6331 - val_loss: 1.1373 - val_categorical_accuracy: 0.2903\n",
      "Epoch 7/100\n",
      "16/16 [==============================] - 0s 24ms/step - loss: 0.8420 - categorical_accuracy: 0.6613 - val_loss: 1.3376 - val_categorical_accuracy: 0.3907\n",
      "Epoch 8/100\n",
      "16/16 [==============================] - 0s 24ms/step - loss: 0.7991 - categorical_accuracy: 0.6431 - val_loss: 1.4538 - val_categorical_accuracy: 0.2294\n",
      "Epoch 9/100\n",
      "16/16 [==============================] - 0s 23ms/step - loss: 0.8101 - categorical_accuracy: 0.6573 - val_loss: 1.3723 - val_categorical_accuracy: 0.2222\n",
      "Epoch 10/100\n",
      "16/16 [==============================] - 0s 23ms/step - loss: 0.7424 - categorical_accuracy: 0.6875 - val_loss: 1.5118 - val_categorical_accuracy: 0.2222\n",
      "Epoch 11/100\n",
      "16/16 [==============================] - 0s 25ms/step - loss: 0.6272 - categorical_accuracy: 0.7359 - val_loss: 1.4390 - val_categorical_accuracy: 0.2222\n",
      "Epoch 12/100\n",
      "16/16 [==============================] - 0s 24ms/step - loss: 0.7286 - categorical_accuracy: 0.7319 - val_loss: 1.1555 - val_categorical_accuracy: 0.2688\n",
      "Epoch 13/100\n",
      "16/16 [==============================] - 0s 25ms/step - loss: 0.6610 - categorical_accuracy: 0.7016 - val_loss: 1.4707 - val_categorical_accuracy: 0.2151\n",
      "Epoch 14/100\n",
      "16/16 [==============================] - 0s 24ms/step - loss: 0.5880 - categorical_accuracy: 0.7661 - val_loss: 1.1362 - val_categorical_accuracy: 0.5054\n",
      "Epoch 15/100\n",
      "16/16 [==============================] - 0s 25ms/step - loss: 0.4490 - categorical_accuracy: 0.8024 - val_loss: 1.6863 - val_categorical_accuracy: 0.2222\n",
      "Epoch 16/100\n",
      "16/16 [==============================] - 0s 24ms/step - loss: 0.5495 - categorical_accuracy: 0.7903 - val_loss: 1.3233 - val_categorical_accuracy: 0.5341\n",
      "Epoch 17/100\n",
      "16/16 [==============================] - 0s 25ms/step - loss: 0.5357 - categorical_accuracy: 0.8206 - val_loss: 1.6880 - val_categorical_accuracy: 0.2294\n",
      "Epoch 18/100\n",
      "16/16 [==============================] - 0s 24ms/step - loss: 0.4187 - categorical_accuracy: 0.8286 - val_loss: 1.4187 - val_categorical_accuracy: 0.3656\n",
      "Epoch 19/100\n",
      "16/16 [==============================] - 0s 23ms/step - loss: 0.4065 - categorical_accuracy: 0.8528 - val_loss: 1.7118 - val_categorical_accuracy: 0.2473\n",
      "Epoch 20/100\n",
      "16/16 [==============================] - 0s 24ms/step - loss: 0.4157 - categorical_accuracy: 0.8367 - val_loss: 1.7955 - val_categorical_accuracy: 0.2294\n",
      "Epoch 21/100\n",
      "16/16 [==============================] - 0s 25ms/step - loss: 0.3891 - categorical_accuracy: 0.8468 - val_loss: 1.7445 - val_categorical_accuracy: 0.2724\n",
      "Epoch 22/100\n",
      "16/16 [==============================] - 0s 24ms/step - loss: 0.3406 - categorical_accuracy: 0.8911 - val_loss: 1.9342 - val_categorical_accuracy: 0.2401\n",
      "Epoch 23/100\n",
      "16/16 [==============================] - 0s 24ms/step - loss: 0.3616 - categorical_accuracy: 0.8569 - val_loss: 1.3544 - val_categorical_accuracy: 0.4552\n",
      "Epoch 24/100\n",
      "16/16 [==============================] - 0s 25ms/step - loss: 0.3344 - categorical_accuracy: 0.8649 - val_loss: 2.9961 - val_categorical_accuracy: 0.2401\n",
      "Epoch 25/100\n",
      "16/16 [==============================] - 0s 24ms/step - loss: 0.2453 - categorical_accuracy: 0.8992 - val_loss: 2.4379 - val_categorical_accuracy: 0.2330\n",
      "Epoch 26/100\n",
      "16/16 [==============================] - 0s 25ms/step - loss: 0.2567 - categorical_accuracy: 0.8972 - val_loss: 2.8890 - val_categorical_accuracy: 0.2151\n",
      "Epoch 27/100\n",
      "16/16 [==============================] - 0s 23ms/step - loss: 0.3985 - categorical_accuracy: 0.8609 - val_loss: 2.2690 - val_categorical_accuracy: 0.2832\n",
      "Epoch 28/100\n",
      "16/16 [==============================] - 0s 26ms/step - loss: 0.2919 - categorical_accuracy: 0.9093 - val_loss: 2.4298 - val_categorical_accuracy: 0.2545\n",
      "Epoch 29/100\n",
      "16/16 [==============================] - 0s 23ms/step - loss: 0.2527 - categorical_accuracy: 0.9052 - val_loss: 2.8221 - val_categorical_accuracy: 0.2186\n",
      "Epoch 30/100\n",
      "16/16 [==============================] - 0s 25ms/step - loss: 0.1916 - categorical_accuracy: 0.9254 - val_loss: 1.4257 - val_categorical_accuracy: 0.3943\n",
      "Epoch 31/100\n",
      "16/16 [==============================] - 0s 25ms/step - loss: 0.2006 - categorical_accuracy: 0.9254 - val_loss: 2.1988 - val_categorical_accuracy: 0.2581\n",
      "Epoch 32/100\n",
      "16/16 [==============================] - 0s 24ms/step - loss: 0.1332 - categorical_accuracy: 0.9556 - val_loss: 1.9157 - val_categorical_accuracy: 0.3154\n",
      "Epoch 33/100\n",
      "16/16 [==============================] - 0s 25ms/step - loss: 0.1022 - categorical_accuracy: 0.9577 - val_loss: 1.3028 - val_categorical_accuracy: 0.4767\n",
      "Epoch 34/100\n",
      "16/16 [==============================] - 0s 23ms/step - loss: 0.1185 - categorical_accuracy: 0.9758 - val_loss: 1.4612 - val_categorical_accuracy: 0.4301\n",
      "Epoch 35/100\n",
      "16/16 [==============================] - 0s 24ms/step - loss: 0.1918 - categorical_accuracy: 0.9335 - val_loss: 2.0070 - val_categorical_accuracy: 0.3477\n",
      "Epoch 36/100\n",
      "16/16 [==============================] - 0s 25ms/step - loss: 0.1205 - categorical_accuracy: 0.9637 - val_loss: 2.6847 - val_categorical_accuracy: 0.2867\n",
      "Epoch 37/100\n",
      "16/16 [==============================] - 0s 25ms/step - loss: 0.0668 - categorical_accuracy: 0.9778 - val_loss: 2.9978 - val_categorical_accuracy: 0.2796\n",
      "Epoch 38/100\n",
      "16/16 [==============================] - 0s 24ms/step - loss: 0.0671 - categorical_accuracy: 0.9758 - val_loss: 2.5692 - val_categorical_accuracy: 0.3369\n",
      "Epoch 39/100\n",
      "16/16 [==============================] - 0s 25ms/step - loss: 0.1207 - categorical_accuracy: 0.9698 - val_loss: 2.7063 - val_categorical_accuracy: 0.3154\n",
      "Epoch 40/100\n",
      "16/16 [==============================] - 0s 24ms/step - loss: 0.1130 - categorical_accuracy: 0.9536 - val_loss: 2.3363 - val_categorical_accuracy: 0.3656\n",
      "Epoch 41/100\n",
      "16/16 [==============================] - 0s 27ms/step - loss: 0.1218 - categorical_accuracy: 0.9617 - val_loss: 2.8697 - val_categorical_accuracy: 0.3226\n",
      "Epoch 42/100\n",
      "16/16 [==============================] - 0s 24ms/step - loss: 0.1969 - categorical_accuracy: 0.9516 - val_loss: 1.8742 - val_categorical_accuracy: 0.4767\n",
      "Epoch 43/100\n",
      "16/16 [==============================] - 0s 26ms/step - loss: 0.2829 - categorical_accuracy: 0.9435 - val_loss: 1.8604 - val_categorical_accuracy: 0.3835\n",
      "Epoch 44/100\n",
      "16/16 [==============================] - 0s 24ms/step - loss: 0.1761 - categorical_accuracy: 0.9617 - val_loss: 2.3614 - val_categorical_accuracy: 0.3763\n",
      "Epoch 45/100\n",
      "16/16 [==============================] - 0s 25ms/step - loss: 0.1216 - categorical_accuracy: 0.9597 - val_loss: 2.5004 - val_categorical_accuracy: 0.3763\n",
      "Epoch 46/100\n",
      "16/16 [==============================] - 0s 24ms/step - loss: 0.0849 - categorical_accuracy: 0.9617 - val_loss: 2.5602 - val_categorical_accuracy: 0.3692\n",
      "Epoch 47/100\n",
      "16/16 [==============================] - 0s 24ms/step - loss: 0.1322 - categorical_accuracy: 0.9577 - val_loss: 1.8323 - val_categorical_accuracy: 0.5018\n",
      "Epoch 48/100\n",
      "16/16 [==============================] - 0s 24ms/step - loss: 0.1026 - categorical_accuracy: 0.9597 - val_loss: 4.0485 - val_categorical_accuracy: 0.2760\n",
      "Epoch 49/100\n",
      "16/16 [==============================] - 0s 25ms/step - loss: 0.0938 - categorical_accuracy: 0.9758 - val_loss: 3.8786 - val_categorical_accuracy: 0.2760\n",
      "Epoch 50/100\n",
      "16/16 [==============================] - 0s 24ms/step - loss: 0.1388 - categorical_accuracy: 0.9577 - val_loss: 3.3279 - val_categorical_accuracy: 0.3154\n",
      "Epoch 51/100\n",
      "16/16 [==============================] - 0s 25ms/step - loss: 0.1355 - categorical_accuracy: 0.9617 - val_loss: 2.7149 - val_categorical_accuracy: 0.3548\n",
      "Epoch 52/100\n",
      "16/16 [==============================] - 0s 23ms/step - loss: 0.0857 - categorical_accuracy: 0.9738 - val_loss: 2.3240 - val_categorical_accuracy: 0.4158\n",
      "Epoch 53/100\n",
      "16/16 [==============================] - 0s 25ms/step - loss: 0.1183 - categorical_accuracy: 0.9677 - val_loss: 2.0247 - val_categorical_accuracy: 0.4373\n",
      "Epoch 54/100\n",
      "16/16 [==============================] - 0s 24ms/step - loss: 0.1067 - categorical_accuracy: 0.9637 - val_loss: 2.2375 - val_categorical_accuracy: 0.4122\n",
      "Epoch 55/100\n",
      "16/16 [==============================] - 0s 26ms/step - loss: 0.0960 - categorical_accuracy: 0.9819 - val_loss: 2.6574 - val_categorical_accuracy: 0.3584\n",
      "Epoch 56/100\n",
      "16/16 [==============================] - 0s 24ms/step - loss: 0.0533 - categorical_accuracy: 0.9819 - val_loss: 2.7384 - val_categorical_accuracy: 0.3584\n",
      "Epoch 57/100\n",
      "16/16 [==============================] - 0s 25ms/step - loss: 0.0462 - categorical_accuracy: 0.9839 - val_loss: 2.4946 - val_categorical_accuracy: 0.3584\n",
      "Epoch 58/100\n",
      "16/16 [==============================] - 0s 23ms/step - loss: 0.0492 - categorical_accuracy: 0.9879 - val_loss: 1.8561 - val_categorical_accuracy: 0.4731\n",
      "Epoch 59/100\n",
      "16/16 [==============================] - 0s 24ms/step - loss: 0.0689 - categorical_accuracy: 0.9698 - val_loss: 2.1150 - val_categorical_accuracy: 0.4014\n",
      "Epoch 60/100\n",
      "16/16 [==============================] - 0s 23ms/step - loss: 0.0933 - categorical_accuracy: 0.9698 - val_loss: 3.2194 - val_categorical_accuracy: 0.3190\n",
      "Epoch 61/100\n",
      "16/16 [==============================] - 0s 23ms/step - loss: 0.0701 - categorical_accuracy: 0.9758 - val_loss: 3.0830 - val_categorical_accuracy: 0.3656\n",
      "Epoch 62/100\n",
      "16/16 [==============================] - 0s 25ms/step - loss: 0.0873 - categorical_accuracy: 0.9778 - val_loss: 5.1383 - val_categorical_accuracy: 0.2294\n",
      "Epoch 63/100\n",
      "16/16 [==============================] - 0s 24ms/step - loss: 0.1092 - categorical_accuracy: 0.9718 - val_loss: 2.7501 - val_categorical_accuracy: 0.4588\n",
      "Epoch 64/100\n",
      "16/16 [==============================] - 0s 25ms/step - loss: 0.1341 - categorical_accuracy: 0.9657 - val_loss: 2.0938 - val_categorical_accuracy: 0.3728\n",
      "Epoch 65/100\n",
      "16/16 [==============================] - 0s 24ms/step - loss: 0.0856 - categorical_accuracy: 0.9718 - val_loss: 1.9990 - val_categorical_accuracy: 0.4695\n",
      "Epoch 66/100\n",
      "16/16 [==============================] - 0s 24ms/step - loss: 0.0794 - categorical_accuracy: 0.9637 - val_loss: 2.1952 - val_categorical_accuracy: 0.4122\n",
      "Epoch 67/100\n",
      "16/16 [==============================] - 0s 24ms/step - loss: 0.0444 - categorical_accuracy: 0.9839 - val_loss: 2.1121 - val_categorical_accuracy: 0.4337\n",
      "Epoch 68/100\n",
      "16/16 [==============================] - 0s 25ms/step - loss: 0.0187 - categorical_accuracy: 0.9940 - val_loss: 2.3323 - val_categorical_accuracy: 0.4552\n",
      "Epoch 69/100\n",
      "16/16 [==============================] - 0s 24ms/step - loss: 0.0228 - categorical_accuracy: 0.9899 - val_loss: 2.4283 - val_categorical_accuracy: 0.4659\n",
      "Epoch 70/100\n",
      "16/16 [==============================] - 0s 25ms/step - loss: 0.0267 - categorical_accuracy: 0.9879 - val_loss: 2.4346 - val_categorical_accuracy: 0.4229\n",
      "Epoch 71/100\n",
      "16/16 [==============================] - 0s 24ms/step - loss: 0.0081 - categorical_accuracy: 0.9980 - val_loss: 2.5470 - val_categorical_accuracy: 0.4158\n",
      "Epoch 72/100\n",
      "16/16 [==============================] - 0s 25ms/step - loss: 0.0069 - categorical_accuracy: 0.9980 - val_loss: 2.3526 - val_categorical_accuracy: 0.4875\n",
      "Epoch 73/100\n",
      "16/16 [==============================] - 0s 24ms/step - loss: 0.0025 - categorical_accuracy: 1.0000 - val_loss: 2.4995 - val_categorical_accuracy: 0.4695\n",
      "Epoch 74/100\n",
      "16/16 [==============================] - 0s 24ms/step - loss: 0.0018 - categorical_accuracy: 1.0000 - val_loss: 2.6820 - val_categorical_accuracy: 0.4516\n",
      "Epoch 75/100\n",
      "16/16 [==============================] - 0s 24ms/step - loss: 0.0014 - categorical_accuracy: 1.0000 - val_loss: 2.7849 - val_categorical_accuracy: 0.4516\n",
      "Epoch 76/100\n",
      "16/16 [==============================] - 0s 24ms/step - loss: 0.0083 - categorical_accuracy: 0.9980 - val_loss: 2.9042 - val_categorical_accuracy: 0.4480\n",
      "Epoch 77/100\n",
      "16/16 [==============================] - 0s 23ms/step - loss: 0.0253 - categorical_accuracy: 0.9919 - val_loss: 2.9174 - val_categorical_accuracy: 0.4516\n",
      "Epoch 78/100\n",
      "16/16 [==============================] - 0s 25ms/step - loss: 0.0026 - categorical_accuracy: 1.0000 - val_loss: 2.8636 - val_categorical_accuracy: 0.4301\n",
      "Epoch 79/100\n",
      "16/16 [==============================] - 0s 23ms/step - loss: 0.0062 - categorical_accuracy: 0.9980 - val_loss: 3.3248 - val_categorical_accuracy: 0.4194\n",
      "Epoch 80/100\n",
      "16/16 [==============================] - 0s 24ms/step - loss: 0.0019 - categorical_accuracy: 1.0000 - val_loss: 3.4793 - val_categorical_accuracy: 0.4158\n",
      "Epoch 81/100\n",
      "16/16 [==============================] - 0s 24ms/step - loss: 0.0070 - categorical_accuracy: 0.9960 - val_loss: 3.1256 - val_categorical_accuracy: 0.4552\n",
      "Epoch 82/100\n",
      "16/16 [==============================] - 0s 25ms/step - loss: 0.0109 - categorical_accuracy: 0.9980 - val_loss: 3.1128 - val_categorical_accuracy: 0.4409\n",
      "Epoch 83/100\n",
      "16/16 [==============================] - 0s 24ms/step - loss: 0.0057 - categorical_accuracy: 0.9980 - val_loss: 2.9787 - val_categorical_accuracy: 0.4516\n",
      "Epoch 84/100\n",
      "16/16 [==============================] - 0s 24ms/step - loss: 0.0030 - categorical_accuracy: 1.0000 - val_loss: 2.8401 - val_categorical_accuracy: 0.4695\n",
      "Epoch 85/100\n",
      "16/16 [==============================] - 0s 23ms/step - loss: 9.3900e-04 - categorical_accuracy: 1.0000 - val_loss: 2.8965 - val_categorical_accuracy: 0.4588\n",
      "Epoch 86/100\n",
      "16/16 [==============================] - 0s 23ms/step - loss: 0.0049 - categorical_accuracy: 0.9960 - val_loss: 3.0705 - val_categorical_accuracy: 0.4480\n",
      "Epoch 87/100\n",
      "16/16 [==============================] - 0s 24ms/step - loss: 0.0022 - categorical_accuracy: 1.0000 - val_loss: 3.1027 - val_categorical_accuracy: 0.4659\n",
      "Epoch 88/100\n",
      "16/16 [==============================] - 0s 26ms/step - loss: 0.0088 - categorical_accuracy: 0.9960 - val_loss: 3.0262 - val_categorical_accuracy: 0.4373\n",
      "Epoch 89/100\n",
      "16/16 [==============================] - 0s 23ms/step - loss: 0.0274 - categorical_accuracy: 0.9899 - val_loss: 3.2162 - val_categorical_accuracy: 0.4229\n",
      "Epoch 90/100\n",
      "16/16 [==============================] - 0s 24ms/step - loss: 0.0536 - categorical_accuracy: 0.9819 - val_loss: 3.2317 - val_categorical_accuracy: 0.4122\n",
      "Epoch 91/100\n",
      "16/16 [==============================] - 0s 24ms/step - loss: 0.0555 - categorical_accuracy: 0.9859 - val_loss: 3.1767 - val_categorical_accuracy: 0.4086\n",
      "Epoch 92/100\n",
      "16/16 [==============================] - 0s 25ms/step - loss: 0.0623 - categorical_accuracy: 0.9819 - val_loss: 4.1976 - val_categorical_accuracy: 0.3620\n",
      "Epoch 93/100\n",
      "16/16 [==============================] - 0s 25ms/step - loss: 0.0360 - categorical_accuracy: 0.9899 - val_loss: 3.8105 - val_categorical_accuracy: 0.3835\n",
      "Epoch 94/100\n",
      "16/16 [==============================] - 0s 25ms/step - loss: 0.0502 - categorical_accuracy: 0.9919 - val_loss: 3.7213 - val_categorical_accuracy: 0.3656\n",
      "Epoch 95/100\n",
      "16/16 [==============================] - 0s 23ms/step - loss: 0.0369 - categorical_accuracy: 0.9839 - val_loss: 3.1726 - val_categorical_accuracy: 0.3835\n",
      "Epoch 96/100\n",
      "16/16 [==============================] - 0s 24ms/step - loss: 0.0308 - categorical_accuracy: 0.9879 - val_loss: 3.8972 - val_categorical_accuracy: 0.3584\n",
      "Epoch 97/100\n",
      "16/16 [==============================] - 0s 24ms/step - loss: 0.1392 - categorical_accuracy: 0.9859 - val_loss: 4.6783 - val_categorical_accuracy: 0.3477\n",
      "Epoch 98/100\n",
      "16/16 [==============================] - 0s 25ms/step - loss: 0.0638 - categorical_accuracy: 0.9839 - val_loss: 4.7179 - val_categorical_accuracy: 0.3226\n",
      "Epoch 99/100\n",
      "16/16 [==============================] - 0s 24ms/step - loss: 0.0551 - categorical_accuracy: 0.9778 - val_loss: 3.9416 - val_categorical_accuracy: 0.3620\n",
      "Epoch 100/100\n",
      "16/16 [==============================] - 0s 25ms/step - loss: 0.0511 - categorical_accuracy: 0.9859 - val_loss: 3.2324 - val_categorical_accuracy: 0.3692\n"
     ]
    }
   ],
   "source": [
    "model = buildModel(X.shape[1:])\n",
    "history = model.fit(x=X,\n",
    "                    y=y,\n",
    "                    epochs=100,\n",
    "                    validation_data=(X_test,y_test))"
   ]
  },
  {
   "cell_type": "code",
   "execution_count": 126,
   "metadata": {},
   "outputs": [],
   "source": [
    "model = tf.keras.models.load_model('./model/LickingPark')"
   ]
  },
  {
   "cell_type": "code",
   "execution_count": 123,
   "metadata": {},
   "outputs": [
    {
     "name": "stdout",
     "output_type": "stream",
     "text": [
      "16/16 [==============================] - 0s 15ms/step\n"
     ]
    }
   ],
   "source": [
    "res = model.predict(X)"
   ]
  },
  {
   "cell_type": "code",
   "execution_count": 124,
   "metadata": {},
   "outputs": [
    {
     "data": {
      "text/plain": [
       "0    285\n",
       "1    109\n",
       "2    102\n",
       "dtype: int64"
      ]
     },
     "execution_count": 124,
     "metadata": {},
     "output_type": "execute_result"
    }
   ],
   "source": [
    "pd.DataFrame([np.argmax(x) for x in y]).value_counts()"
   ]
  },
  {
   "cell_type": "code",
   "execution_count": 125,
   "metadata": {},
   "outputs": [
    {
     "data": {
      "text/plain": [
       "0    223\n",
       "2    161\n",
       "1    112\n",
       "dtype: int64"
      ]
     },
     "execution_count": 125,
     "metadata": {},
     "output_type": "execute_result"
    }
   ],
   "source": [
    "pd.DataFrame([np.argmax(x) for x in res]).value_counts()"
   ]
  },
  {
   "cell_type": "code",
   "execution_count": 95,
   "metadata": {},
   "outputs": [],
   "source": [
    "model.save(\"./model/LickenPark\", save_format=\"tf\")"
   ]
  },
  {
   "cell_type": "code",
   "execution_count": 115,
   "metadata": {},
   "outputs": [
    {
     "data": {
      "application/vnd.plotly.v1+json": {
       "config": {
        "plotlyServerURL": "https://plot.ly"
       },
       "data": [
        {
         "hovertemplate": "variable=loss<br>index=%{x}<br>value=%{y}<extra></extra>",
         "legendgroup": "loss",
         "line": {
          "color": "#636efa",
          "dash": "solid"
         },
         "marker": {
          "symbol": "circle"
         },
         "mode": "lines",
         "name": "loss",
         "orientation": "v",
         "showlegend": true,
         "type": "scatter",
         "x": [
          0,
          1,
          2,
          3,
          4,
          5,
          6,
          7,
          8,
          9,
          10,
          11,
          12,
          13,
          14,
          15,
          16,
          17,
          18,
          19,
          20,
          21,
          22,
          23,
          24,
          25,
          26,
          27,
          28,
          29,
          30,
          31,
          32,
          33,
          34,
          35,
          36,
          37,
          38,
          39,
          40,
          41,
          42,
          43,
          44,
          45,
          46,
          47,
          48,
          49,
          50,
          51,
          52,
          53,
          54,
          55,
          56,
          57,
          58,
          59,
          60,
          61,
          62,
          63,
          64,
          65,
          66,
          67,
          68,
          69,
          70,
          71,
          72,
          73,
          74,
          75,
          76,
          77,
          78,
          79,
          80,
          81,
          82,
          83,
          84,
          85,
          86,
          87,
          88,
          89,
          90,
          91,
          92,
          93,
          94,
          95,
          96,
          97,
          98,
          99
         ],
         "xaxis": "x",
         "y": [
          2.0981602668762207,
          1.4475806951522827,
          1.3379220962524414,
          1.1189515590667725,
          1.084740400314331,
          0.865234375,
          0.8214859366416931,
          0.8830645084381104,
          0.8986107707023621,
          0.8132718205451965,
          0.8328660726547241,
          0.7137096524238586,
          0.740454912185669,
          0.6760647892951965,
          0.6490517854690552,
          0.6890435814857483,
          0.5640278458595276,
          0.6443737149238586,
          0.6323399543762207,
          0.6521153450012207,
          0.6079731583595276,
          0.5330219864845276,
          0.550513505935669,
          0.4945501387119293,
          0.5121755003929138,
          0.6089024543762207,
          0.6047284603118896,
          0.5020712614059448,
          0.526634931564331,
          0.40059539675712585,
          0.43227460980415344,
          0.5557743310928345,
          0.4383111894130707,
          0.4373444616794586,
          0.44989603757858276,
          0.5254930257797241,
          0.4530619978904724,
          0.33089718222618103,
          0.3340493440628052,
          0.2628351151943207,
          0.28847184777259827,
          0.38809695839881897,
          0.37097954750061035,
          0.3194717764854431,
          0.34230878949165344,
          0.2526894807815552,
          0.21803529560565948,
          0.3101058602333069,
          0.2977019250392914,
          0.25038591027259827,
          0.32449832558631897,
          0.25364044308662415,
          0.2386947125196457,
          0.2979893982410431,
          0.26105719804763794,
          0.24246510863304138,
          0.13781148195266724,
          0.09068827331066132,
          0.12658101320266724,
          0.29747316241264343,
          0.21146516501903534,
          0.13373418152332306,
          0.10009953379631042,
          0.09195109456777573,
          0.11182501912117004,
          0.07833518087863922,
          0.14109113812446594,
          0.1266006976366043,
          0.09022682160139084,
          0.07278811186552048,
          0.04473372548818588,
          0.06940318644046783,
          0.19560585916042328,
          0.14019775390625,
          0.07338634878396988,
          0.057832904160022736,
          0.03925914317369461,
          0.08522763103246689,
          0.09879124909639359,
          0.07197149097919464,
          0.06238309666514397,
          0.0677635595202446,
          0.05093814432621002,
          0.0728483498096466,
          0.08217301219701767,
          0.0929751843214035,
          0.062257397919893265,
          0.030305370688438416,
          0.03959246724843979,
          0.04271015152335167,
          0.039876628667116165,
          0.12472337484359741,
          0.126637801527977,
          0.12160850316286087,
          0.08391202241182327,
          0.05631403625011444,
          0.029176650568842888,
          0.02975737676024437,
          0.014499510638415813,
          0.08759970963001251
         ],
         "yaxis": "y"
        },
        {
         "hovertemplate": "variable=val_loss<br>index=%{x}<br>value=%{y}<extra></extra>",
         "legendgroup": "val_loss",
         "line": {
          "color": "#EF553B",
          "dash": "solid"
         },
         "marker": {
          "symbol": "circle"
         },
         "mode": "lines",
         "name": "val_loss",
         "orientation": "v",
         "showlegend": true,
         "type": "scatter",
         "x": [
          0,
          1,
          2,
          3,
          4,
          5,
          6,
          7,
          8,
          9,
          10,
          11,
          12,
          13,
          14,
          15,
          16,
          17,
          18,
          19,
          20,
          21,
          22,
          23,
          24,
          25,
          26,
          27,
          28,
          29,
          30,
          31,
          32,
          33,
          34,
          35,
          36,
          37,
          38,
          39,
          40,
          41,
          42,
          43,
          44,
          45,
          46,
          47,
          48,
          49,
          50,
          51,
          52,
          53,
          54,
          55,
          56,
          57,
          58,
          59,
          60,
          61,
          62,
          63,
          64,
          65,
          66,
          67,
          68,
          69,
          70,
          71,
          72,
          73,
          74,
          75,
          76,
          77,
          78,
          79,
          80,
          81,
          82,
          83,
          84,
          85,
          86,
          87,
          88,
          89,
          90,
          91,
          92,
          93,
          94,
          95,
          96,
          97,
          98,
          99
         ],
         "xaxis": "x",
         "y": [
          5.538027286529541,
          6.417006015777588,
          0.9861636161804199,
          1.2057502269744873,
          1.242596983909607,
          1.1525187492370605,
          1.1353431940078735,
          1.3452235460281372,
          1.3331652879714966,
          1.1895896196365356,
          1.27946138381958,
          1.4954286813735962,
          1.2641863822937012,
          1.6596242189407349,
          1.1068828105926514,
          1.2490794658660889,
          1.8960293531417847,
          1.3579434156417847,
          1.3582794666290283,
          1.2895805835723877,
          2.248389959335327,
          1.1502506732940674,
          1.1597397327423096,
          1.808243751525879,
          1.2686036825180054,
          1.9125083684921265,
          3.839451789855957,
          1.815006136894226,
          2.0428287982940674,
          1.65543794631958,
          2.56681227684021,
          1.4610179662704468,
          2.160212278366089,
          3.2795348167419434,
          2.7646868228912354,
          1.5418137311935425,
          2.332493305206299,
          1.5164475440979004,
          2.2701752185821533,
          2.438683032989502,
          1.0933895111083984,
          3.145252227783203,
          1.9124069213867188,
          1.627544641494751,
          1.3906145095825195,
          1.918577790260315,
          2.7182528972625732,
          1.4210559129714966,
          1.8846746683120728,
          1.6650636196136475,
          2.3541107177734375,
          2.839430809020996,
          2.3757946491241455,
          1.4488722085952759,
          2.9829959869384766,
          2.1754207611083984,
          3.504690408706665,
          2.0829973220825195,
          2.8257274627685547,
          1.6606217622756958,
          1.4670454263687134,
          1.288859486579895,
          1.5733786821365356,
          1.8323497772216797,
          1.4870002269744873,
          1.273987054824829,
          1.1363722085952759,
          1.6981022357940674,
          2.039853572845459,
          1.9173526763916016,
          1.698466181755066,
          1.9900243282318115,
          1.4633281230926514,
          2.044522762298584,
          1.9660478830337524,
          1.5224153995513916,
          1.8598370552062988,
          1.4623690843582153,
          1.4732582569122314,
          2.1422841548919678,
          2.1177895069122314,
          4.640345096588135,
          2.1065328121185303,
          2.3064587116241455,
          1.6886305809020996,
          1.8040434122085571,
          1.533406138420105,
          1.631674885749817,
          1.8258743286132812,
          1.504903793334961,
          3.4322285652160645,
          4.197076797485352,
          4.837015628814697,
          4.783070087432861,
          3.9396841526031494,
          4.423807144165039,
          3.238288164138794,
          3.492201566696167,
          3.2865984439849854,
          3.9361138343811035
         ],
         "yaxis": "y"
        }
       ],
       "layout": {
        "legend": {
         "title": {
          "text": "variable"
         },
         "tracegroupgap": 0
        },
        "margin": {
         "t": 60
        },
        "template": {
         "data": {
          "bar": [
           {
            "error_x": {
             "color": "#2a3f5f"
            },
            "error_y": {
             "color": "#2a3f5f"
            },
            "marker": {
             "line": {
              "color": "#E5ECF6",
              "width": 0.5
             },
             "pattern": {
              "fillmode": "overlay",
              "size": 10,
              "solidity": 0.2
             }
            },
            "type": "bar"
           }
          ],
          "barpolar": [
           {
            "marker": {
             "line": {
              "color": "#E5ECF6",
              "width": 0.5
             },
             "pattern": {
              "fillmode": "overlay",
              "size": 10,
              "solidity": 0.2
             }
            },
            "type": "barpolar"
           }
          ],
          "carpet": [
           {
            "aaxis": {
             "endlinecolor": "#2a3f5f",
             "gridcolor": "white",
             "linecolor": "white",
             "minorgridcolor": "white",
             "startlinecolor": "#2a3f5f"
            },
            "baxis": {
             "endlinecolor": "#2a3f5f",
             "gridcolor": "white",
             "linecolor": "white",
             "minorgridcolor": "white",
             "startlinecolor": "#2a3f5f"
            },
            "type": "carpet"
           }
          ],
          "choropleth": [
           {
            "colorbar": {
             "outlinewidth": 0,
             "ticks": ""
            },
            "type": "choropleth"
           }
          ],
          "contour": [
           {
            "colorbar": {
             "outlinewidth": 0,
             "ticks": ""
            },
            "colorscale": [
             [
              0,
              "#0d0887"
             ],
             [
              0.1111111111111111,
              "#46039f"
             ],
             [
              0.2222222222222222,
              "#7201a8"
             ],
             [
              0.3333333333333333,
              "#9c179e"
             ],
             [
              0.4444444444444444,
              "#bd3786"
             ],
             [
              0.5555555555555556,
              "#d8576b"
             ],
             [
              0.6666666666666666,
              "#ed7953"
             ],
             [
              0.7777777777777778,
              "#fb9f3a"
             ],
             [
              0.8888888888888888,
              "#fdca26"
             ],
             [
              1,
              "#f0f921"
             ]
            ],
            "type": "contour"
           }
          ],
          "contourcarpet": [
           {
            "colorbar": {
             "outlinewidth": 0,
             "ticks": ""
            },
            "type": "contourcarpet"
           }
          ],
          "heatmap": [
           {
            "colorbar": {
             "outlinewidth": 0,
             "ticks": ""
            },
            "colorscale": [
             [
              0,
              "#0d0887"
             ],
             [
              0.1111111111111111,
              "#46039f"
             ],
             [
              0.2222222222222222,
              "#7201a8"
             ],
             [
              0.3333333333333333,
              "#9c179e"
             ],
             [
              0.4444444444444444,
              "#bd3786"
             ],
             [
              0.5555555555555556,
              "#d8576b"
             ],
             [
              0.6666666666666666,
              "#ed7953"
             ],
             [
              0.7777777777777778,
              "#fb9f3a"
             ],
             [
              0.8888888888888888,
              "#fdca26"
             ],
             [
              1,
              "#f0f921"
             ]
            ],
            "type": "heatmap"
           }
          ],
          "heatmapgl": [
           {
            "colorbar": {
             "outlinewidth": 0,
             "ticks": ""
            },
            "colorscale": [
             [
              0,
              "#0d0887"
             ],
             [
              0.1111111111111111,
              "#46039f"
             ],
             [
              0.2222222222222222,
              "#7201a8"
             ],
             [
              0.3333333333333333,
              "#9c179e"
             ],
             [
              0.4444444444444444,
              "#bd3786"
             ],
             [
              0.5555555555555556,
              "#d8576b"
             ],
             [
              0.6666666666666666,
              "#ed7953"
             ],
             [
              0.7777777777777778,
              "#fb9f3a"
             ],
             [
              0.8888888888888888,
              "#fdca26"
             ],
             [
              1,
              "#f0f921"
             ]
            ],
            "type": "heatmapgl"
           }
          ],
          "histogram": [
           {
            "marker": {
             "pattern": {
              "fillmode": "overlay",
              "size": 10,
              "solidity": 0.2
             }
            },
            "type": "histogram"
           }
          ],
          "histogram2d": [
           {
            "colorbar": {
             "outlinewidth": 0,
             "ticks": ""
            },
            "colorscale": [
             [
              0,
              "#0d0887"
             ],
             [
              0.1111111111111111,
              "#46039f"
             ],
             [
              0.2222222222222222,
              "#7201a8"
             ],
             [
              0.3333333333333333,
              "#9c179e"
             ],
             [
              0.4444444444444444,
              "#bd3786"
             ],
             [
              0.5555555555555556,
              "#d8576b"
             ],
             [
              0.6666666666666666,
              "#ed7953"
             ],
             [
              0.7777777777777778,
              "#fb9f3a"
             ],
             [
              0.8888888888888888,
              "#fdca26"
             ],
             [
              1,
              "#f0f921"
             ]
            ],
            "type": "histogram2d"
           }
          ],
          "histogram2dcontour": [
           {
            "colorbar": {
             "outlinewidth": 0,
             "ticks": ""
            },
            "colorscale": [
             [
              0,
              "#0d0887"
             ],
             [
              0.1111111111111111,
              "#46039f"
             ],
             [
              0.2222222222222222,
              "#7201a8"
             ],
             [
              0.3333333333333333,
              "#9c179e"
             ],
             [
              0.4444444444444444,
              "#bd3786"
             ],
             [
              0.5555555555555556,
              "#d8576b"
             ],
             [
              0.6666666666666666,
              "#ed7953"
             ],
             [
              0.7777777777777778,
              "#fb9f3a"
             ],
             [
              0.8888888888888888,
              "#fdca26"
             ],
             [
              1,
              "#f0f921"
             ]
            ],
            "type": "histogram2dcontour"
           }
          ],
          "mesh3d": [
           {
            "colorbar": {
             "outlinewidth": 0,
             "ticks": ""
            },
            "type": "mesh3d"
           }
          ],
          "parcoords": [
           {
            "line": {
             "colorbar": {
              "outlinewidth": 0,
              "ticks": ""
             }
            },
            "type": "parcoords"
           }
          ],
          "pie": [
           {
            "automargin": true,
            "type": "pie"
           }
          ],
          "scatter": [
           {
            "fillpattern": {
             "fillmode": "overlay",
             "size": 10,
             "solidity": 0.2
            },
            "type": "scatter"
           }
          ],
          "scatter3d": [
           {
            "line": {
             "colorbar": {
              "outlinewidth": 0,
              "ticks": ""
             }
            },
            "marker": {
             "colorbar": {
              "outlinewidth": 0,
              "ticks": ""
             }
            },
            "type": "scatter3d"
           }
          ],
          "scattercarpet": [
           {
            "marker": {
             "colorbar": {
              "outlinewidth": 0,
              "ticks": ""
             }
            },
            "type": "scattercarpet"
           }
          ],
          "scattergeo": [
           {
            "marker": {
             "colorbar": {
              "outlinewidth": 0,
              "ticks": ""
             }
            },
            "type": "scattergeo"
           }
          ],
          "scattergl": [
           {
            "marker": {
             "colorbar": {
              "outlinewidth": 0,
              "ticks": ""
             }
            },
            "type": "scattergl"
           }
          ],
          "scattermapbox": [
           {
            "marker": {
             "colorbar": {
              "outlinewidth": 0,
              "ticks": ""
             }
            },
            "type": "scattermapbox"
           }
          ],
          "scatterpolar": [
           {
            "marker": {
             "colorbar": {
              "outlinewidth": 0,
              "ticks": ""
             }
            },
            "type": "scatterpolar"
           }
          ],
          "scatterpolargl": [
           {
            "marker": {
             "colorbar": {
              "outlinewidth": 0,
              "ticks": ""
             }
            },
            "type": "scatterpolargl"
           }
          ],
          "scatterternary": [
           {
            "marker": {
             "colorbar": {
              "outlinewidth": 0,
              "ticks": ""
             }
            },
            "type": "scatterternary"
           }
          ],
          "surface": [
           {
            "colorbar": {
             "outlinewidth": 0,
             "ticks": ""
            },
            "colorscale": [
             [
              0,
              "#0d0887"
             ],
             [
              0.1111111111111111,
              "#46039f"
             ],
             [
              0.2222222222222222,
              "#7201a8"
             ],
             [
              0.3333333333333333,
              "#9c179e"
             ],
             [
              0.4444444444444444,
              "#bd3786"
             ],
             [
              0.5555555555555556,
              "#d8576b"
             ],
             [
              0.6666666666666666,
              "#ed7953"
             ],
             [
              0.7777777777777778,
              "#fb9f3a"
             ],
             [
              0.8888888888888888,
              "#fdca26"
             ],
             [
              1,
              "#f0f921"
             ]
            ],
            "type": "surface"
           }
          ],
          "table": [
           {
            "cells": {
             "fill": {
              "color": "#EBF0F8"
             },
             "line": {
              "color": "white"
             }
            },
            "header": {
             "fill": {
              "color": "#C8D4E3"
             },
             "line": {
              "color": "white"
             }
            },
            "type": "table"
           }
          ]
         },
         "layout": {
          "annotationdefaults": {
           "arrowcolor": "#2a3f5f",
           "arrowhead": 0,
           "arrowwidth": 1
          },
          "autotypenumbers": "strict",
          "coloraxis": {
           "colorbar": {
            "outlinewidth": 0,
            "ticks": ""
           }
          },
          "colorscale": {
           "diverging": [
            [
             0,
             "#8e0152"
            ],
            [
             0.1,
             "#c51b7d"
            ],
            [
             0.2,
             "#de77ae"
            ],
            [
             0.3,
             "#f1b6da"
            ],
            [
             0.4,
             "#fde0ef"
            ],
            [
             0.5,
             "#f7f7f7"
            ],
            [
             0.6,
             "#e6f5d0"
            ],
            [
             0.7,
             "#b8e186"
            ],
            [
             0.8,
             "#7fbc41"
            ],
            [
             0.9,
             "#4d9221"
            ],
            [
             1,
             "#276419"
            ]
           ],
           "sequential": [
            [
             0,
             "#0d0887"
            ],
            [
             0.1111111111111111,
             "#46039f"
            ],
            [
             0.2222222222222222,
             "#7201a8"
            ],
            [
             0.3333333333333333,
             "#9c179e"
            ],
            [
             0.4444444444444444,
             "#bd3786"
            ],
            [
             0.5555555555555556,
             "#d8576b"
            ],
            [
             0.6666666666666666,
             "#ed7953"
            ],
            [
             0.7777777777777778,
             "#fb9f3a"
            ],
            [
             0.8888888888888888,
             "#fdca26"
            ],
            [
             1,
             "#f0f921"
            ]
           ],
           "sequentialminus": [
            [
             0,
             "#0d0887"
            ],
            [
             0.1111111111111111,
             "#46039f"
            ],
            [
             0.2222222222222222,
             "#7201a8"
            ],
            [
             0.3333333333333333,
             "#9c179e"
            ],
            [
             0.4444444444444444,
             "#bd3786"
            ],
            [
             0.5555555555555556,
             "#d8576b"
            ],
            [
             0.6666666666666666,
             "#ed7953"
            ],
            [
             0.7777777777777778,
             "#fb9f3a"
            ],
            [
             0.8888888888888888,
             "#fdca26"
            ],
            [
             1,
             "#f0f921"
            ]
           ]
          },
          "colorway": [
           "#636efa",
           "#EF553B",
           "#00cc96",
           "#ab63fa",
           "#FFA15A",
           "#19d3f3",
           "#FF6692",
           "#B6E880",
           "#FF97FF",
           "#FECB52"
          ],
          "font": {
           "color": "#2a3f5f"
          },
          "geo": {
           "bgcolor": "white",
           "lakecolor": "white",
           "landcolor": "#E5ECF6",
           "showlakes": true,
           "showland": true,
           "subunitcolor": "white"
          },
          "hoverlabel": {
           "align": "left"
          },
          "hovermode": "closest",
          "mapbox": {
           "style": "light"
          },
          "paper_bgcolor": "white",
          "plot_bgcolor": "#E5ECF6",
          "polar": {
           "angularaxis": {
            "gridcolor": "white",
            "linecolor": "white",
            "ticks": ""
           },
           "bgcolor": "#E5ECF6",
           "radialaxis": {
            "gridcolor": "white",
            "linecolor": "white",
            "ticks": ""
           }
          },
          "scene": {
           "xaxis": {
            "backgroundcolor": "#E5ECF6",
            "gridcolor": "white",
            "gridwidth": 2,
            "linecolor": "white",
            "showbackground": true,
            "ticks": "",
            "zerolinecolor": "white"
           },
           "yaxis": {
            "backgroundcolor": "#E5ECF6",
            "gridcolor": "white",
            "gridwidth": 2,
            "linecolor": "white",
            "showbackground": true,
            "ticks": "",
            "zerolinecolor": "white"
           },
           "zaxis": {
            "backgroundcolor": "#E5ECF6",
            "gridcolor": "white",
            "gridwidth": 2,
            "linecolor": "white",
            "showbackground": true,
            "ticks": "",
            "zerolinecolor": "white"
           }
          },
          "shapedefaults": {
           "line": {
            "color": "#2a3f5f"
           }
          },
          "ternary": {
           "aaxis": {
            "gridcolor": "white",
            "linecolor": "white",
            "ticks": ""
           },
           "baxis": {
            "gridcolor": "white",
            "linecolor": "white",
            "ticks": ""
           },
           "bgcolor": "#E5ECF6",
           "caxis": {
            "gridcolor": "white",
            "linecolor": "white",
            "ticks": ""
           }
          },
          "title": {
           "x": 0.05
          },
          "xaxis": {
           "automargin": true,
           "gridcolor": "white",
           "linecolor": "white",
           "ticks": "",
           "title": {
            "standoff": 15
           },
           "zerolinecolor": "white",
           "zerolinewidth": 2
          },
          "yaxis": {
           "automargin": true,
           "gridcolor": "white",
           "linecolor": "white",
           "ticks": "",
           "title": {
            "standoff": 15
           },
           "zerolinecolor": "white",
           "zerolinewidth": 2
          }
         }
        },
        "xaxis": {
         "anchor": "y",
         "domain": [
          0,
          1
         ],
         "title": {
          "text": "index"
         }
        },
        "yaxis": {
         "anchor": "x",
         "domain": [
          0,
          1
         ],
         "title": {
          "text": "value"
         }
        }
       }
      }
     },
     "metadata": {},
     "output_type": "display_data"
    }
   ],
   "source": [
    "f1 = np.array(history.history['loss']).flatten()\n",
    "valf1 = np.array(history.history['val_loss']).flatten()\n",
    "px.line(pd.DataFrame(np.array([f1, valf1]).T, columns=['loss', 'val_loss'])).show()"
   ]
  }
 ],
 "metadata": {
  "kernelspec": {
   "display_name": "Python 3.10.7 64-bit",
   "language": "python",
   "name": "python3"
  },
  "language_info": {
   "codemirror_mode": {
    "name": "ipython",
    "version": 3
   },
   "file_extension": ".py",
   "mimetype": "text/x-python",
   "name": "python",
   "nbconvert_exporter": "python",
   "pygments_lexer": "ipython3",
   "version": "3.10.7"
  },
  "orig_nbformat": 4,
  "vscode": {
   "interpreter": {
    "hash": "369f2c481f4da34e4445cda3fffd2e751bd1c4d706f27375911949ba6bb62e1c"
   }
  }
 },
 "nbformat": 4,
 "nbformat_minor": 2
}
