{
 "cells": [
  {
   "cell_type": "code",
   "execution_count": 1,
   "metadata": {},
   "outputs": [],
   "source": [
    "import pandas as pd\n",
    "import numpy as np\n",
    "import tensorflow as tf\n",
    "import tensorflow_addons as tfa\n",
    "from sklearn.model_selection import train_test_split\n",
    "import plotly.express as px\n",
    "import emd\n",
    "tf.keras.mixed_precision.set_global_policy('mixed_float16')\n",
    "\n",
    "BATCH_SIZE = 32\n",
    "CHANNEL_NUMBER = 4\n",
    "WINDOW_SIZE = 300\n",
    "SLIDING_STEP = int(WINDOW_SIZE * 0.4)\n",
    "CLASS_NUMBER = 3\n",
    "if CLASS_NUMBER < 2:\n",
    "    CLASS_NUMBER = 2\n",
    "\n",
    "def slicingAndNormalize(arr):\n",
    "    def normalizer(X):\n",
    "        mean = np.average(X, axis=1)\n",
    "        std = np.std(X, axis=1)\n",
    "        ret = (X.copy() - mean) / std\n",
    "        return ret\n",
    "    \n",
    "    totalLength = arr.shape[0]\n",
    "    if totalLength <= WINDOW_SIZE:\n",
    "        return arr\n",
    "    ret = normalizer((arr[:WINDOW_SIZE, :])[np.newaxis, :])\n",
    "    \n",
    "    i = SLIDING_STEP\n",
    "    while (totalLength - i) > WINDOW_SIZE:\n",
    "        new = normalizer((arr[i:(i + WINDOW_SIZE), :])[np.newaxis, :])\n",
    "        ret = np.concatenate([ret, new], axis=0)\n",
    "        i += SLIDING_STEP\n",
    "    return ret\n",
    "\n",
    "def slicing(x, y):\n",
    "    totalLength = x.shape[0]\n",
    "    assert totalLength == y.shape[0], \"Data numbers not matching with that of labels.\"\n",
    "    if totalLength <= WINDOW_SIZE:\n",
    "        return x\n",
    "    \n",
    "    halfWindow = 0.5 * WINDOW_SIZE\n",
    "    retx = (x[:WINDOW_SIZE, :])[np.newaxis, :]\n",
    "    rety = [1] if np.sum(y[:WINDOW_SIZE]) > halfWindow else [0]\n",
    "    \n",
    "    i = SLIDING_STEP\n",
    "    while (totalLength - i) > WINDOW_SIZE:\n",
    "        new = (x[i:(i + WINDOW_SIZE), :])[np.newaxis, :]\n",
    "        retx = np.concatenate([retx, new], axis=0)\n",
    "        rety.append(1) if np.sum(y[i:(i + WINDOW_SIZE)]) > halfWindow else rety.append(0)\n",
    "        i += SLIDING_STEP\n",
    "    return retx, np.array(rety)\n",
    "\n",
    "def emdSignal(sig):\n",
    "    dataNumber = sig.shape[0]\n",
    "    channel = sig.shape[-1]\n",
    "    ret = None\n",
    "    \n",
    "    for i in range(dataNumber):\n",
    "        temp = None\n",
    "        \n",
    "        for c in range(channel):\n",
    "            raw = sig[i, :, c]\n",
    "            imf = emd.sift.sift(raw, max_imfs=4, imf_opts={'sd_thresh': 0.1})\n",
    "            \n",
    "            if imf.shape[-1] < 4:\n",
    "                compensate = np.zeros((WINDOW_SIZE, 4 - imf.shape[-1]))\n",
    "                imf = np.concatenate([imf, compensate], axis = 1)\n",
    "            \n",
    "            if not type(temp) == np.ndarray: \n",
    "                temp = imf\n",
    "            else: \n",
    "                temp = np.concatenate([temp, imf], axis = 1)\n",
    "            \n",
    "        if type(temp) == np.ndarray: \n",
    "            if not type(ret) == np.ndarray: \n",
    "                ret = temp[np.newaxis, :]\n",
    "            else: \n",
    "                ret = np.concatenate([ret, temp[np.newaxis, :]], axis = 0)\n",
    "                \n",
    "    return ret\n",
    "\n",
    "def buildModel(shape):\n",
    "    model = tf.keras.Sequential([\n",
    "        tf.keras.layers.Input(shape = shape),\n",
    "        tf.keras.layers.Conv1D(80, 40, padding='same', activation='relu'),\n",
    "        tf.keras.layers.BatchNormalization(axis=1),\n",
    "        tf.keras.layers.MaxPool1D(padding='same'),\n",
    "        tf.keras.layers.Dropout(0.1),\n",
    "        tf.keras.layers.Conv1D(100, 50, padding='same', activation='relu'),\n",
    "        tf.keras.layers.BatchNormalization(axis=1),\n",
    "        tf.keras.layers.MaxPool1D(padding='same'),\n",
    "        tf.keras.layers.Dropout(0.1),\n",
    "        tf.keras.layers.Conv1D(120, 60, padding='same', activation='relu'),\n",
    "        tf.keras.layers.BatchNormalization(axis=1),\n",
    "        tf.keras.layers.MaxPool1D(padding='same'),\n",
    "        tf.keras.layers.Dropout(0.1),\n",
    "        tf.keras.layers.Flatten(),\n",
    "        tf.keras.layers.Dense(128, activation='relu'),\n",
    "        tf.keras.layers.Dense(CLASS_NUMBER, activation='softmax')]\n",
    "    )\n",
    "    model.compile(optimizer='adam',\n",
    "                loss=tf.keras.losses.CategoricalCrossentropy(from_logits=True),\n",
    "                metrics=[tf.keras.metrics.CategoricalAccuracy(),\n",
    "                         tf.keras.metrics.Precision(thresholds = 0.5),\n",
    "                         tf.keras.metrics.Recall(thresholds= 0.5)])\n",
    "    model.summary()\n",
    "    return model"
   ]
  },
  {
   "cell_type": "code",
   "execution_count": 6,
   "metadata": {},
   "outputs": [
    {
     "name": "stdout",
     "output_type": "stream",
     "text": [
      "(81, 300, 12)\n"
     ]
    }
   ],
   "source": [
    "trainFile = './data/lick.npy'\n",
    "trainLabel = \"./data/lick_y.npy\"\n",
    "X, y = slicing(np.load(trainFile), np.load(trainLabel))\n",
    "X = emdSignal(X)\n",
    "print(X.shape)"
   ]
  },
  {
   "cell_type": "code",
   "execution_count": null,
   "metadata": {},
   "outputs": [],
   "source": [
    "threeChan = X[18]\n",
    "f = threeChan[:, 0].T\n",
    "s = threeChan[:, 1].T\n",
    "t = threeChan[:, 2].T\n",
    "imf = emd.sift.sift(f, max_imfs=4, imf_opts={'sd_thresh': 0.1})\n",
    "print(imf.shape)\n",
    "emd.plotting.plot_imfs(imf)"
   ]
  },
  {
   "cell_type": "code",
   "execution_count": null,
   "metadata": {},
   "outputs": [],
   "source": [
    "n += 1\n",
    "print(n, n*SLIDING_STEP, n*SLIDING_STEP + WINDOW_SIZE)\n",
    "px.line(X[n]).show()"
   ]
  },
  {
   "cell_type": "code",
   "execution_count": 3,
   "metadata": {},
   "outputs": [],
   "source": [
    "X_train, X_test, y_train, y_test = train_test_split(X, y, test_size=0.25, random_state=777)"
   ]
  },
  {
   "cell_type": "code",
   "execution_count": 16,
   "metadata": {},
   "outputs": [
    {
     "name": "stdout",
     "output_type": "stream",
     "text": [
      "Model: \"sequential_2\"\n",
      "_________________________________________________________________\n",
      " Layer (type)                Output Shape              Param #   \n",
      "=================================================================\n",
      " conv1d_6 (Conv1D)           (None, 300, 80)           38480     \n",
      "                                                                 \n",
      " batch_normalization_6 (Batc  (None, 300, 80)          1200      \n",
      " hNormalization)                                                 \n",
      "                                                                 \n",
      " max_pooling1d_6 (MaxPooling  (None, 150, 80)          0         \n",
      " 1D)                                                             \n",
      "                                                                 \n",
      " dropout_6 (Dropout)         (None, 150, 80)           0         \n",
      "                                                                 \n",
      " conv1d_7 (Conv1D)           (None, 150, 100)          400100    \n",
      "                                                                 \n",
      " batch_normalization_7 (Batc  (None, 150, 100)         600       \n",
      " hNormalization)                                                 \n",
      "                                                                 \n",
      " max_pooling1d_7 (MaxPooling  (None, 75, 100)          0         \n",
      " 1D)                                                             \n",
      "                                                                 \n",
      " dropout_7 (Dropout)         (None, 75, 100)           0         \n",
      "                                                                 \n",
      " conv1d_8 (Conv1D)           (None, 75, 120)           720120    \n",
      "                                                                 \n",
      " batch_normalization_8 (Batc  (None, 75, 120)          300       \n",
      " hNormalization)                                                 \n",
      "                                                                 \n",
      " max_pooling1d_8 (MaxPooling  (None, 38, 120)          0         \n",
      " 1D)                                                             \n",
      "                                                                 \n",
      " dropout_8 (Dropout)         (None, 38, 120)           0         \n",
      "                                                                 \n",
      " flatten_2 (Flatten)         (None, 4560)              0         \n",
      "                                                                 \n",
      " dense_4 (Dense)             (None, 128)               583808    \n",
      "                                                                 \n",
      " dense_5 (Dense)             (None, 1)                 129       \n",
      "                                                                 \n",
      "=================================================================\n",
      "Total params: 1,744,737\n",
      "Trainable params: 1,743,687\n",
      "Non-trainable params: 1,050\n",
      "_________________________________________________________________\n",
      "Epoch 1/100\n"
     ]
    },
    {
     "name": "stderr",
     "output_type": "stream",
     "text": [
      "c:\\Python310\\lib\\site-packages\\keras\\backend.py:5673: UserWarning:\n",
      "\n",
      "\"`binary_crossentropy` received `from_logits=True`, but the `output` argument was produced by a Sigmoid activation and thus does not represent logits. Was this intended?\n",
      "\n"
     ]
    },
    {
     "name": "stdout",
     "output_type": "stream",
     "text": [
      "2/2 [==============================] - 19s 479ms/step - loss: 0.7814 - categorical_accuracy: 1.0000 - precision_2: 0.6364 - recall_2: 0.9722 - val_loss: 23.7500 - val_categorical_accuracy: 1.0000 - val_precision_2: 0.0000e+00 - val_recall_2: 0.0000e+00\n",
      "Epoch 2/100\n",
      "2/2 [==============================] - 0s 50ms/step - loss: 2.3562 - categorical_accuracy: 1.0000 - precision_2: 0.6735 - recall_2: 0.9167 - val_loss: 34.3438 - val_categorical_accuracy: 1.0000 - val_precision_2: 0.0000e+00 - val_recall_2: 0.0000e+00\n",
      "Epoch 3/100\n",
      "2/2 [==============================] - 8s 8s/step - loss: 0.5635 - categorical_accuracy: 1.0000 - precision_2: 0.6857 - recall_2: 0.6667 - val_loss: 72.5625 - val_categorical_accuracy: 1.0000 - val_precision_2: 0.0000e+00 - val_recall_2: 0.0000e+00\n",
      "Epoch 4/100\n",
      "2/2 [==============================] - 0s 44ms/step - loss: 1.3228 - categorical_accuracy: 1.0000 - precision_2: 0.6889 - recall_2: 0.8611 - val_loss: 31.4062 - val_categorical_accuracy: 1.0000 - val_precision_2: 1.0000 - val_recall_2: 0.1000\n",
      "Epoch 5/100\n",
      "2/2 [==============================] - 0s 45ms/step - loss: 0.5412 - categorical_accuracy: 1.0000 - precision_2: 0.7500 - recall_2: 1.0000 - val_loss: 26.7656 - val_categorical_accuracy: 1.0000 - val_precision_2: 0.0000e+00 - val_recall_2: 0.0000e+00\n",
      "Epoch 6/100\n",
      "2/2 [==============================] - 0s 48ms/step - loss: 0.5884 - categorical_accuracy: 1.0000 - precision_2: 0.8421 - recall_2: 0.8889 - val_loss: 28.9062 - val_categorical_accuracy: 1.0000 - val_precision_2: 0.0000e+00 - val_recall_2: 0.0000e+00\n",
      "Epoch 7/100\n",
      "2/2 [==============================] - 0s 51ms/step - loss: 0.4065 - categorical_accuracy: 1.0000 - precision_2: 0.7778 - recall_2: 0.9722 - val_loss: 16.0625 - val_categorical_accuracy: 1.0000 - val_precision_2: 1.0000 - val_recall_2: 0.3000\n",
      "Epoch 8/100\n",
      "2/2 [==============================] - 0s 49ms/step - loss: 0.3862 - categorical_accuracy: 1.0000 - precision_2: 0.7826 - recall_2: 1.0000 - val_loss: 9.0312 - val_categorical_accuracy: 1.0000 - val_precision_2: 1.0000 - val_recall_2: 0.5000\n",
      "Epoch 9/100\n",
      "2/2 [==============================] - 0s 43ms/step - loss: 0.4872 - categorical_accuracy: 1.0000 - precision_2: 0.9412 - recall_2: 0.8889 - val_loss: 14.5703 - val_categorical_accuracy: 1.0000 - val_precision_2: 1.0000 - val_recall_2: 0.4000\n",
      "Epoch 10/100\n",
      "2/2 [==============================] - 0s 42ms/step - loss: 0.2674 - categorical_accuracy: 1.0000 - precision_2: 0.8780 - recall_2: 1.0000 - val_loss: 34.3750 - val_categorical_accuracy: 1.0000 - val_precision_2: 1.0000 - val_recall_2: 0.3000\n",
      "Epoch 11/100\n",
      "2/2 [==============================] - 0s 44ms/step - loss: 0.2158 - categorical_accuracy: 1.0000 - precision_2: 0.8571 - recall_2: 1.0000 - val_loss: 44.6875 - val_categorical_accuracy: 1.0000 - val_precision_2: 0.6667 - val_recall_2: 0.2000\n",
      "Epoch 12/100\n",
      "2/2 [==============================] - 0s 43ms/step - loss: 0.1750 - categorical_accuracy: 1.0000 - precision_2: 0.9429 - recall_2: 0.9167 - val_loss: 50.6562 - val_categorical_accuracy: 1.0000 - val_precision_2: 0.6667 - val_recall_2: 0.2000\n",
      "Epoch 13/100\n",
      "2/2 [==============================] - 0s 50ms/step - loss: 0.1540 - categorical_accuracy: 1.0000 - precision_2: 0.8974 - recall_2: 0.9722 - val_loss: 52.5625 - val_categorical_accuracy: 1.0000 - val_precision_2: 0.5000 - val_recall_2: 0.1000\n",
      "Epoch 14/100\n",
      "2/2 [==============================] - 0s 69ms/step - loss: 1.6740 - categorical_accuracy: 1.0000 - precision_2: 1.0000 - recall_2: 0.7778 - val_loss: 50.2812 - val_categorical_accuracy: 1.0000 - val_precision_2: 0.2500 - val_recall_2: 0.1000\n",
      "Epoch 15/100\n",
      "2/2 [==============================] - 0s 41ms/step - loss: 1.8352 - categorical_accuracy: 1.0000 - precision_2: 1.0000 - recall_2: 0.7222 - val_loss: 42.4688 - val_categorical_accuracy: 1.0000 - val_precision_2: 0.0000e+00 - val_recall_2: 0.0000e+00\n",
      "Epoch 16/100\n",
      "2/2 [==============================] - 0s 41ms/step - loss: 0.2462 - categorical_accuracy: 1.0000 - precision_2: 0.8372 - recall_2: 1.0000 - val_loss: 29.7812 - val_categorical_accuracy: 1.0000 - val_precision_2: 0.0000e+00 - val_recall_2: 0.0000e+00\n",
      "Epoch 17/100\n",
      "2/2 [==============================] - 0s 77ms/step - loss: 0.1660 - categorical_accuracy: 1.0000 - precision_2: 0.9189 - recall_2: 0.9444 - val_loss: 21.3750 - val_categorical_accuracy: 1.0000 - val_precision_2: 0.5000 - val_recall_2: 0.1000\n",
      "Epoch 18/100\n",
      "2/2 [==============================] - 8s 8s/step - loss: 0.2627 - categorical_accuracy: 1.0000 - precision_2: 0.9091 - recall_2: 0.8333 - val_loss: 15.9297 - val_categorical_accuracy: 1.0000 - val_precision_2: 0.6667 - val_recall_2: 0.2000\n",
      "Epoch 19/100\n",
      "2/2 [==============================] - 0s 75ms/step - loss: 0.1179 - categorical_accuracy: 1.0000 - precision_2: 0.8974 - recall_2: 0.9722 - val_loss: 11.6094 - val_categorical_accuracy: 1.0000 - val_precision_2: 1.0000 - val_recall_2: 0.3000\n",
      "Epoch 20/100\n",
      "2/2 [==============================] - 0s 71ms/step - loss: 0.4501 - categorical_accuracy: 1.0000 - precision_2: 0.8919 - recall_2: 0.9167 - val_loss: 11.1406 - val_categorical_accuracy: 1.0000 - val_precision_2: 1.0000 - val_recall_2: 0.3000\n",
      "Epoch 21/100\n",
      "2/2 [==============================] - 0s 70ms/step - loss: 0.5126 - categorical_accuracy: 1.0000 - precision_2: 0.8571 - recall_2: 1.0000 - val_loss: 12.6094 - val_categorical_accuracy: 1.0000 - val_precision_2: 0.6000 - val_recall_2: 0.3000\n",
      "Epoch 22/100\n",
      "2/2 [==============================] - 0s 56ms/step - loss: 0.1157 - categorical_accuracy: 1.0000 - precision_2: 0.9211 - recall_2: 0.9722 - val_loss: 11.9688 - val_categorical_accuracy: 1.0000 - val_precision_2: 1.0000 - val_recall_2: 0.4000\n",
      "Epoch 23/100\n",
      "2/2 [==============================] - 0s 59ms/step - loss: 0.3610 - categorical_accuracy: 1.0000 - precision_2: 1.0000 - recall_2: 0.7500 - val_loss: 12.2656 - val_categorical_accuracy: 1.0000 - val_precision_2: 0.8000 - val_recall_2: 0.4000\n",
      "Epoch 24/100\n",
      "2/2 [==============================] - 0s 70ms/step - loss: 0.1018 - categorical_accuracy: 1.0000 - precision_2: 0.9459 - recall_2: 0.9722 - val_loss: 12.3594 - val_categorical_accuracy: 1.0000 - val_precision_2: 0.8000 - val_recall_2: 0.4000\n",
      "Epoch 25/100\n",
      "2/2 [==============================] - 0s 66ms/step - loss: 0.3516 - categorical_accuracy: 1.0000 - precision_2: 0.8537 - recall_2: 0.9722 - val_loss: 12.0547 - val_categorical_accuracy: 1.0000 - val_precision_2: 0.8000 - val_recall_2: 0.4000\n",
      "Epoch 26/100\n",
      "2/2 [==============================] - 0s 64ms/step - loss: 0.1478 - categorical_accuracy: 1.0000 - precision_2: 1.0000 - recall_2: 0.8889 - val_loss: 11.8125 - val_categorical_accuracy: 1.0000 - val_precision_2: 0.8000 - val_recall_2: 0.4000\n",
      "Epoch 27/100\n",
      "2/2 [==============================] - 0s 52ms/step - loss: 0.0701 - categorical_accuracy: 1.0000 - precision_2: 1.0000 - recall_2: 0.9722 - val_loss: 11.6797 - val_categorical_accuracy: 1.0000 - val_precision_2: 0.8333 - val_recall_2: 0.5000\n",
      "Epoch 28/100\n",
      "2/2 [==============================] - 0s 54ms/step - loss: 0.0529 - categorical_accuracy: 1.0000 - precision_2: 0.9474 - recall_2: 1.0000 - val_loss: 11.5391 - val_categorical_accuracy: 1.0000 - val_precision_2: 0.8333 - val_recall_2: 0.5000\n",
      "Epoch 29/100\n",
      "2/2 [==============================] - 0s 75ms/step - loss: 0.1913 - categorical_accuracy: 1.0000 - precision_2: 0.9211 - recall_2: 0.9722 - val_loss: 11.2344 - val_categorical_accuracy: 1.0000 - val_precision_2: 0.7143 - val_recall_2: 0.5000\n",
      "Epoch 30/100\n",
      "2/2 [==============================] - 0s 53ms/step - loss: 0.1210 - categorical_accuracy: 1.0000 - precision_2: 0.9000 - recall_2: 1.0000 - val_loss: 10.8359 - val_categorical_accuracy: 1.0000 - val_precision_2: 0.8333 - val_recall_2: 0.5000\n",
      "Epoch 31/100\n",
      "2/2 [==============================] - 0s 47ms/step - loss: 0.1009 - categorical_accuracy: 1.0000 - precision_2: 0.9722 - recall_2: 0.9722 - val_loss: 10.5625 - val_categorical_accuracy: 1.0000 - val_precision_2: 0.8000 - val_recall_2: 0.4000\n",
      "Epoch 32/100\n",
      "2/2 [==============================] - 0s 54ms/step - loss: 0.1115 - categorical_accuracy: 1.0000 - precision_2: 1.0000 - recall_2: 0.9444 - val_loss: 10.3516 - val_categorical_accuracy: 1.0000 - val_precision_2: 0.8333 - val_recall_2: 0.5000\n",
      "Epoch 33/100\n",
      "2/2 [==============================] - 0s 47ms/step - loss: 0.0350 - categorical_accuracy: 1.0000 - precision_2: 1.0000 - recall_2: 1.0000 - val_loss: 10.1875 - val_categorical_accuracy: 1.0000 - val_precision_2: 0.5714 - val_recall_2: 0.4000\n",
      "Epoch 34/100\n",
      "2/2 [==============================] - 0s 50ms/step - loss: 0.1356 - categorical_accuracy: 1.0000 - precision_2: 0.9000 - recall_2: 1.0000 - val_loss: 9.8438 - val_categorical_accuracy: 1.0000 - val_precision_2: 0.6667 - val_recall_2: 0.4000\n",
      "Epoch 35/100\n",
      "2/2 [==============================] - 0s 55ms/step - loss: 0.0315 - categorical_accuracy: 1.0000 - precision_2: 1.0000 - recall_2: 1.0000 - val_loss: 9.3984 - val_categorical_accuracy: 1.0000 - val_precision_2: 0.6667 - val_recall_2: 0.2000\n",
      "Epoch 36/100\n",
      "2/2 [==============================] - 0s 52ms/step - loss: 0.0590 - categorical_accuracy: 1.0000 - precision_2: 1.0000 - recall_2: 0.9722 - val_loss: 9.0156 - val_categorical_accuracy: 1.0000 - val_precision_2: 1.0000 - val_recall_2: 0.3000\n",
      "Epoch 37/100\n",
      "2/2 [==============================] - 0s 54ms/step - loss: 0.0252 - categorical_accuracy: 1.0000 - precision_2: 1.0000 - recall_2: 1.0000 - val_loss: 8.6953 - val_categorical_accuracy: 1.0000 - val_precision_2: 0.7500 - val_recall_2: 0.3000\n",
      "Epoch 38/100\n",
      "2/2 [==============================] - 0s 57ms/step - loss: 0.0207 - categorical_accuracy: 1.0000 - precision_2: 1.0000 - recall_2: 1.0000 - val_loss: 8.2656 - val_categorical_accuracy: 1.0000 - val_precision_2: 0.6000 - val_recall_2: 0.3000\n",
      "Epoch 39/100\n",
      "2/2 [==============================] - 0s 51ms/step - loss: 0.0526 - categorical_accuracy: 1.0000 - precision_2: 0.9474 - recall_2: 1.0000 - val_loss: 7.5195 - val_categorical_accuracy: 1.0000 - val_precision_2: 0.7500 - val_recall_2: 0.3000\n",
      "Epoch 40/100\n",
      "2/2 [==============================] - 0s 50ms/step - loss: 0.0190 - categorical_accuracy: 1.0000 - precision_2: 1.0000 - recall_2: 1.0000 - val_loss: 6.8945 - val_categorical_accuracy: 1.0000 - val_precision_2: 0.6000 - val_recall_2: 0.3000\n",
      "Epoch 41/100\n",
      "2/2 [==============================] - 0s 60ms/step - loss: 0.0154 - categorical_accuracy: 1.0000 - precision_2: 1.0000 - recall_2: 1.0000 - val_loss: 6.3828 - val_categorical_accuracy: 1.0000 - val_precision_2: 0.6000 - val_recall_2: 0.3000\n",
      "Epoch 42/100\n",
      "2/2 [==============================] - 0s 57ms/step - loss: 0.0343 - categorical_accuracy: 1.0000 - precision_2: 1.0000 - recall_2: 0.9722 - val_loss: 6.0273 - val_categorical_accuracy: 1.0000 - val_precision_2: 0.7500 - val_recall_2: 0.3000\n",
      "Epoch 43/100\n",
      "2/2 [==============================] - 0s 54ms/step - loss: 0.0084 - categorical_accuracy: 1.0000 - precision_2: 1.0000 - recall_2: 1.0000 - val_loss: 5.7617 - val_categorical_accuracy: 1.0000 - val_precision_2: 0.6667 - val_recall_2: 0.4000\n",
      "Epoch 44/100\n",
      "2/2 [==============================] - 0s 58ms/step - loss: 0.0099 - categorical_accuracy: 1.0000 - precision_2: 1.0000 - recall_2: 1.0000 - val_loss: 5.5625 - val_categorical_accuracy: 1.0000 - val_precision_2: 0.5714 - val_recall_2: 0.4000\n",
      "Epoch 45/100\n",
      "2/2 [==============================] - 0s 57ms/step - loss: 0.0065 - categorical_accuracy: 1.0000 - precision_2: 1.0000 - recall_2: 1.0000 - val_loss: 5.4062 - val_categorical_accuracy: 1.0000 - val_precision_2: 0.6667 - val_recall_2: 0.4000\n",
      "Epoch 46/100\n",
      "2/2 [==============================] - 0s 50ms/step - loss: 0.0063 - categorical_accuracy: 1.0000 - precision_2: 1.0000 - recall_2: 1.0000 - val_loss: 5.2422 - val_categorical_accuracy: 1.0000 - val_precision_2: 0.7143 - val_recall_2: 0.5000\n",
      "Epoch 47/100\n",
      "2/2 [==============================] - 0s 50ms/step - loss: 0.0054 - categorical_accuracy: 1.0000 - precision_2: 1.0000 - recall_2: 1.0000 - val_loss: 5.1211 - val_categorical_accuracy: 1.0000 - val_precision_2: 0.7143 - val_recall_2: 0.5000\n",
      "Epoch 48/100\n",
      "2/2 [==============================] - 0s 65ms/step - loss: 0.0042 - categorical_accuracy: 1.0000 - precision_2: 1.0000 - recall_2: 1.0000 - val_loss: 5.0078 - val_categorical_accuracy: 1.0000 - val_precision_2: 0.7500 - val_recall_2: 0.6000\n",
      "Epoch 49/100\n",
      "2/2 [==============================] - 0s 50ms/step - loss: 0.0012 - categorical_accuracy: 1.0000 - precision_2: 1.0000 - recall_2: 1.0000 - val_loss: 4.9219 - val_categorical_accuracy: 1.0000 - val_precision_2: 0.7500 - val_recall_2: 0.6000\n",
      "Epoch 50/100\n",
      "2/2 [==============================] - 0s 45ms/step - loss: 0.0037 - categorical_accuracy: 1.0000 - precision_2: 1.0000 - recall_2: 1.0000 - val_loss: 4.8477 - val_categorical_accuracy: 1.0000 - val_precision_2: 0.7500 - val_recall_2: 0.6000\n",
      "Epoch 51/100\n",
      "2/2 [==============================] - 0s 56ms/step - loss: 0.0044 - categorical_accuracy: 1.0000 - precision_2: 1.0000 - recall_2: 1.0000 - val_loss: 4.7695 - val_categorical_accuracy: 1.0000 - val_precision_2: 0.7500 - val_recall_2: 0.6000\n",
      "Epoch 52/100\n",
      "2/2 [==============================] - 0s 57ms/step - loss: 0.0052 - categorical_accuracy: 1.0000 - precision_2: 1.0000 - recall_2: 1.0000 - val_loss: 4.6914 - val_categorical_accuracy: 1.0000 - val_precision_2: 0.7500 - val_recall_2: 0.6000\n",
      "Epoch 53/100\n",
      "2/2 [==============================] - 0s 53ms/step - loss: 0.0021 - categorical_accuracy: 1.0000 - precision_2: 1.0000 - recall_2: 1.0000 - val_loss: 4.6094 - val_categorical_accuracy: 1.0000 - val_precision_2: 0.7500 - val_recall_2: 0.6000\n",
      "Epoch 54/100\n",
      "2/2 [==============================] - 0s 52ms/step - loss: 0.0026 - categorical_accuracy: 1.0000 - precision_2: 1.0000 - recall_2: 1.0000 - val_loss: 4.5469 - val_categorical_accuracy: 1.0000 - val_precision_2: 0.7500 - val_recall_2: 0.6000\n",
      "Epoch 55/100\n",
      "2/2 [==============================] - 0s 56ms/step - loss: 0.0025 - categorical_accuracy: 1.0000 - precision_2: 1.0000 - recall_2: 1.0000 - val_loss: 4.4805 - val_categorical_accuracy: 1.0000 - val_precision_2: 0.7500 - val_recall_2: 0.6000\n",
      "Epoch 56/100\n",
      "2/2 [==============================] - 0s 58ms/step - loss: 0.0088 - categorical_accuracy: 1.0000 - precision_2: 1.0000 - recall_2: 1.0000 - val_loss: 4.4336 - val_categorical_accuracy: 1.0000 - val_precision_2: 0.7500 - val_recall_2: 0.6000\n",
      "Epoch 57/100\n",
      "2/2 [==============================] - 0s 50ms/step - loss: 0.0075 - categorical_accuracy: 1.0000 - precision_2: 1.0000 - recall_2: 1.0000 - val_loss: 4.4297 - val_categorical_accuracy: 1.0000 - val_precision_2: 0.6000 - val_recall_2: 0.6000\n",
      "Epoch 58/100\n",
      "2/2 [==============================] - 0s 48ms/step - loss: 0.0025 - categorical_accuracy: 1.0000 - precision_2: 1.0000 - recall_2: 1.0000 - val_loss: 4.4570 - val_categorical_accuracy: 1.0000 - val_precision_2: 0.6000 - val_recall_2: 0.6000\n",
      "Epoch 59/100\n",
      "2/2 [==============================] - 4s 4s/step - loss: 0.0090 - categorical_accuracy: 1.0000 - precision_2: 1.0000 - recall_2: 1.0000 - val_loss: 4.4336 - val_categorical_accuracy: 1.0000 - val_precision_2: 0.6667 - val_recall_2: 0.6000\n",
      "Epoch 60/100\n",
      "2/2 [==============================] - 0s 47ms/step - loss: 0.0042 - categorical_accuracy: 1.0000 - precision_2: 1.0000 - recall_2: 1.0000 - val_loss: 4.4102 - val_categorical_accuracy: 1.0000 - val_precision_2: 0.6667 - val_recall_2: 0.6000\n",
      "Epoch 61/100\n",
      "2/2 [==============================] - 0s 46ms/step - loss: 0.0127 - categorical_accuracy: 1.0000 - precision_2: 1.0000 - recall_2: 1.0000 - val_loss: 4.3945 - val_categorical_accuracy: 1.0000 - val_precision_2: 0.6000 - val_recall_2: 0.6000\n",
      "Epoch 62/100\n",
      "2/2 [==============================] - 0s 47ms/step - loss: 0.0027 - categorical_accuracy: 1.0000 - precision_2: 1.0000 - recall_2: 1.0000 - val_loss: 4.3828 - val_categorical_accuracy: 1.0000 - val_precision_2: 0.5455 - val_recall_2: 0.6000\n",
      "Epoch 63/100\n",
      "2/2 [==============================] - 0s 46ms/step - loss: 0.0043 - categorical_accuracy: 1.0000 - precision_2: 1.0000 - recall_2: 1.0000 - val_loss: 4.3398 - val_categorical_accuracy: 1.0000 - val_precision_2: 0.5455 - val_recall_2: 0.6000\n",
      "Epoch 64/100\n",
      "2/2 [==============================] - 0s 47ms/step - loss: 0.0023 - categorical_accuracy: 1.0000 - precision_2: 1.0000 - recall_2: 1.0000 - val_loss: 4.2812 - val_categorical_accuracy: 1.0000 - val_precision_2: 0.6000 - val_recall_2: 0.6000\n",
      "Epoch 65/100\n",
      "2/2 [==============================] - 0s 46ms/step - loss: 0.0071 - categorical_accuracy: 1.0000 - precision_2: 1.0000 - recall_2: 1.0000 - val_loss: 4.1992 - val_categorical_accuracy: 1.0000 - val_precision_2: 0.6000 - val_recall_2: 0.6000\n",
      "Epoch 66/100\n",
      "2/2 [==============================] - 0s 46ms/step - loss: 0.0068 - categorical_accuracy: 1.0000 - precision_2: 1.0000 - recall_2: 1.0000 - val_loss: 4.1562 - val_categorical_accuracy: 1.0000 - val_precision_2: 0.6667 - val_recall_2: 0.6000\n",
      "Epoch 67/100\n",
      "2/2 [==============================] - 0s 51ms/step - loss: 0.0036 - categorical_accuracy: 1.0000 - precision_2: 1.0000 - recall_2: 1.0000 - val_loss: 4.1367 - val_categorical_accuracy: 1.0000 - val_precision_2: 0.7500 - val_recall_2: 0.6000\n",
      "Epoch 68/100\n",
      "2/2 [==============================] - 0s 45ms/step - loss: 0.0058 - categorical_accuracy: 1.0000 - precision_2: 1.0000 - recall_2: 1.0000 - val_loss: 4.1055 - val_categorical_accuracy: 1.0000 - val_precision_2: 0.6667 - val_recall_2: 0.6000\n",
      "Epoch 69/100\n",
      "2/2 [==============================] - 0s 46ms/step - loss: 0.0015 - categorical_accuracy: 1.0000 - precision_2: 1.0000 - recall_2: 1.0000 - val_loss: 4.0898 - val_categorical_accuracy: 1.0000 - val_precision_2: 0.6000 - val_recall_2: 0.6000\n",
      "Epoch 70/100\n",
      "2/2 [==============================] - 0s 46ms/step - loss: 4.2143e-04 - categorical_accuracy: 1.0000 - precision_2: 1.0000 - recall_2: 1.0000 - val_loss: 4.0938 - val_categorical_accuracy: 1.0000 - val_precision_2: 0.5455 - val_recall_2: 0.6000\n",
      "Epoch 71/100\n",
      "2/2 [==============================] - 0s 47ms/step - loss: 7.8727e-04 - categorical_accuracy: 1.0000 - precision_2: 1.0000 - recall_2: 1.0000 - val_loss: 4.1055 - val_categorical_accuracy: 1.0000 - val_precision_2: 0.5455 - val_recall_2: 0.6000\n",
      "Epoch 72/100\n",
      "2/2 [==============================] - 0s 49ms/step - loss: 0.0052 - categorical_accuracy: 1.0000 - precision_2: 1.0000 - recall_2: 1.0000 - val_loss: 4.0586 - val_categorical_accuracy: 1.0000 - val_precision_2: 0.5455 - val_recall_2: 0.6000\n",
      "Epoch 73/100\n",
      "2/2 [==============================] - 0s 45ms/step - loss: 7.6546e-04 - categorical_accuracy: 1.0000 - precision_2: 1.0000 - recall_2: 1.0000 - val_loss: 4.0117 - val_categorical_accuracy: 1.0000 - val_precision_2: 0.5455 - val_recall_2: 0.6000\n",
      "Epoch 74/100\n",
      "2/2 [==============================] - 0s 48ms/step - loss: 0.0035 - categorical_accuracy: 1.0000 - precision_2: 1.0000 - recall_2: 1.0000 - val_loss: 3.9531 - val_categorical_accuracy: 1.0000 - val_precision_2: 0.6000 - val_recall_2: 0.6000\n",
      "Epoch 75/100\n",
      "2/2 [==============================] - 0s 47ms/step - loss: 5.1598e-04 - categorical_accuracy: 1.0000 - precision_2: 1.0000 - recall_2: 1.0000 - val_loss: 3.8867 - val_categorical_accuracy: 1.0000 - val_precision_2: 0.6667 - val_recall_2: 0.6000\n",
      "Epoch 76/100\n",
      "2/2 [==============================] - 0s 46ms/step - loss: 0.0021 - categorical_accuracy: 1.0000 - precision_2: 1.0000 - recall_2: 1.0000 - val_loss: 3.8398 - val_categorical_accuracy: 1.0000 - val_precision_2: 0.6667 - val_recall_2: 0.6000\n",
      "Epoch 77/100\n",
      "2/2 [==============================] - 0s 46ms/step - loss: 7.6221e-04 - categorical_accuracy: 1.0000 - precision_2: 1.0000 - recall_2: 1.0000 - val_loss: 3.8027 - val_categorical_accuracy: 1.0000 - val_precision_2: 0.6667 - val_recall_2: 0.6000\n",
      "Epoch 78/100\n",
      "2/2 [==============================] - 0s 49ms/step - loss: 6.0151e-04 - categorical_accuracy: 1.0000 - precision_2: 1.0000 - recall_2: 1.0000 - val_loss: 3.7559 - val_categorical_accuracy: 1.0000 - val_precision_2: 0.6667 - val_recall_2: 0.6000\n",
      "Epoch 79/100\n",
      "2/2 [==============================] - 0s 46ms/step - loss: 4.3408e-04 - categorical_accuracy: 1.0000 - precision_2: 1.0000 - recall_2: 1.0000 - val_loss: 3.7227 - val_categorical_accuracy: 1.0000 - val_precision_2: 0.6667 - val_recall_2: 0.6000\n",
      "Epoch 80/100\n",
      "2/2 [==============================] - 0s 44ms/step - loss: 4.7166e-04 - categorical_accuracy: 1.0000 - precision_2: 1.0000 - recall_2: 1.0000 - val_loss: 3.6973 - val_categorical_accuracy: 1.0000 - val_precision_2: 0.6000 - val_recall_2: 0.6000\n",
      "Epoch 81/100\n",
      "2/2 [==============================] - 0s 47ms/step - loss: 3.9662e-04 - categorical_accuracy: 1.0000 - precision_2: 1.0000 - recall_2: 1.0000 - val_loss: 3.6602 - val_categorical_accuracy: 1.0000 - val_precision_2: 0.6000 - val_recall_2: 0.6000\n",
      "Epoch 82/100\n",
      "2/2 [==============================] - 0s 47ms/step - loss: 1.8748e-04 - categorical_accuracy: 1.0000 - precision_2: 1.0000 - recall_2: 1.0000 - val_loss: 3.6406 - val_categorical_accuracy: 1.0000 - val_precision_2: 0.6000 - val_recall_2: 0.6000\n",
      "Epoch 83/100\n",
      "2/2 [==============================] - 0s 48ms/step - loss: 2.3889e-04 - categorical_accuracy: 1.0000 - precision_2: 1.0000 - recall_2: 1.0000 - val_loss: 3.6133 - val_categorical_accuracy: 1.0000 - val_precision_2: 0.6000 - val_recall_2: 0.6000\n",
      "Epoch 84/100\n",
      "2/2 [==============================] - 0s 50ms/step - loss: 1.5734e-04 - categorical_accuracy: 1.0000 - precision_2: 1.0000 - recall_2: 1.0000 - val_loss: 3.5898 - val_categorical_accuracy: 1.0000 - val_precision_2: 0.6000 - val_recall_2: 0.6000\n",
      "Epoch 85/100\n",
      "2/2 [==============================] - 0s 44ms/step - loss: 1.2233e-04 - categorical_accuracy: 1.0000 - precision_2: 1.0000 - recall_2: 1.0000 - val_loss: 3.5723 - val_categorical_accuracy: 1.0000 - val_precision_2: 0.6000 - val_recall_2: 0.6000\n",
      "Epoch 86/100\n",
      "2/2 [==============================] - 0s 50ms/step - loss: 5.2589e-04 - categorical_accuracy: 1.0000 - precision_2: 1.0000 - recall_2: 1.0000 - val_loss: 3.5527 - val_categorical_accuracy: 1.0000 - val_precision_2: 0.6000 - val_recall_2: 0.6000\n",
      "Epoch 87/100\n",
      "2/2 [==============================] - 0s 53ms/step - loss: 1.1426e-04 - categorical_accuracy: 1.0000 - precision_2: 1.0000 - recall_2: 1.0000 - val_loss: 3.5332 - val_categorical_accuracy: 1.0000 - val_precision_2: 0.5455 - val_recall_2: 0.6000\n",
      "Epoch 88/100\n",
      "2/2 [==============================] - 0s 64ms/step - loss: 1.0263e-04 - categorical_accuracy: 1.0000 - precision_2: 1.0000 - recall_2: 1.0000 - val_loss: 3.5176 - val_categorical_accuracy: 1.0000 - val_precision_2: 0.5000 - val_recall_2: 0.6000\n",
      "Epoch 89/100\n",
      "2/2 [==============================] - 0s 53ms/step - loss: 3.6561e-04 - categorical_accuracy: 1.0000 - precision_2: 1.0000 - recall_2: 1.0000 - val_loss: 3.5059 - val_categorical_accuracy: 1.0000 - val_precision_2: 0.5000 - val_recall_2: 0.6000\n",
      "Epoch 90/100\n",
      "2/2 [==============================] - 0s 57ms/step - loss: 0.0011 - categorical_accuracy: 1.0000 - precision_2: 1.0000 - recall_2: 1.0000 - val_loss: 3.4883 - val_categorical_accuracy: 1.0000 - val_precision_2: 0.5000 - val_recall_2: 0.6000\n",
      "Epoch 91/100\n",
      "2/2 [==============================] - 0s 57ms/step - loss: 1.5834e-04 - categorical_accuracy: 1.0000 - precision_2: 1.0000 - recall_2: 1.0000 - val_loss: 3.4648 - val_categorical_accuracy: 1.0000 - val_precision_2: 0.5000 - val_recall_2: 0.6000\n",
      "Epoch 92/100\n",
      "2/2 [==============================] - 0s 49ms/step - loss: 1.9127e-04 - categorical_accuracy: 1.0000 - precision_2: 1.0000 - recall_2: 1.0000 - val_loss: 3.4590 - val_categorical_accuracy: 1.0000 - val_precision_2: 0.5455 - val_recall_2: 0.6000\n",
      "Epoch 93/100\n",
      "2/2 [==============================] - 0s 50ms/step - loss: 1.4580e-04 - categorical_accuracy: 1.0000 - precision_2: 1.0000 - recall_2: 1.0000 - val_loss: 3.4473 - val_categorical_accuracy: 1.0000 - val_precision_2: 0.6000 - val_recall_2: 0.6000\n",
      "Epoch 94/100\n",
      "2/2 [==============================] - 0s 46ms/step - loss: 1.6154e-04 - categorical_accuracy: 1.0000 - precision_2: 1.0000 - recall_2: 1.0000 - val_loss: 3.4316 - val_categorical_accuracy: 1.0000 - val_precision_2: 0.6000 - val_recall_2: 0.6000\n",
      "Epoch 95/100\n",
      "2/2 [==============================] - 0s 49ms/step - loss: 6.7943e-04 - categorical_accuracy: 1.0000 - precision_2: 1.0000 - recall_2: 1.0000 - val_loss: 3.4199 - val_categorical_accuracy: 1.0000 - val_precision_2: 0.6000 - val_recall_2: 0.6000\n",
      "Epoch 96/100\n",
      "2/2 [==============================] - 0s 50ms/step - loss: 1.5852e-04 - categorical_accuracy: 1.0000 - precision_2: 1.0000 - recall_2: 1.0000 - val_loss: 3.4082 - val_categorical_accuracy: 1.0000 - val_precision_2: 0.6000 - val_recall_2: 0.6000\n",
      "Epoch 97/100\n",
      "2/2 [==============================] - 0s 49ms/step - loss: 2.1871e-04 - categorical_accuracy: 1.0000 - precision_2: 1.0000 - recall_2: 1.0000 - val_loss: 3.4043 - val_categorical_accuracy: 1.0000 - val_precision_2: 0.6000 - val_recall_2: 0.6000\n",
      "Epoch 98/100\n",
      "2/2 [==============================] - 0s 50ms/step - loss: 1.7921e-04 - categorical_accuracy: 1.0000 - precision_2: 1.0000 - recall_2: 1.0000 - val_loss: 3.3926 - val_categorical_accuracy: 1.0000 - val_precision_2: 0.6000 - val_recall_2: 0.6000\n",
      "Epoch 99/100\n",
      "2/2 [==============================] - 0s 52ms/step - loss: 1.4408e-04 - categorical_accuracy: 1.0000 - precision_2: 1.0000 - recall_2: 1.0000 - val_loss: 3.3867 - val_categorical_accuracy: 1.0000 - val_precision_2: 0.5455 - val_recall_2: 0.6000\n",
      "Epoch 100/100\n",
      "2/2 [==============================] - 0s 52ms/step - loss: 1.3215e-04 - categorical_accuracy: 1.0000 - precision_2: 1.0000 - recall_2: 1.0000 - val_loss: 3.3809 - val_categorical_accuracy: 1.0000 - val_precision_2: 0.5455 - val_recall_2: 0.6000\n"
     ]
    }
   ],
   "source": [
    "model = buildModel(X.shape[1:])\n",
    "history = model.fit(x=X_train,\n",
    "                    y=y_train,\n",
    "                    epochs=100,\n",
    "                    validation_data=(X_test,y_test))"
   ]
  },
  {
   "cell_type": "code",
   "execution_count": 3,
   "metadata": {},
   "outputs": [],
   "source": [
    "model = tf.keras.models.load_model('./model/LickingPark')"
   ]
  },
  {
   "cell_type": "code",
   "execution_count": 9,
   "metadata": {},
   "outputs": [
    {
     "name": "stdout",
     "output_type": "stream",
     "text": [
      "1/1 [==============================] - 0s 21ms/step\n"
     ]
    },
    {
     "data": {
      "text/plain": [
       "21"
      ]
     },
     "execution_count": 9,
     "metadata": {},
     "output_type": "execute_result"
    }
   ],
   "source": [
    "model.predict(X_test)\n",
    "X_test.shape[0]"
   ]
  },
  {
   "cell_type": "code",
   "execution_count": 18,
   "metadata": {},
   "outputs": [],
   "source": [
    "model.save(\"LickenPark\", save_format=\"tf\")"
   ]
  },
  {
   "cell_type": "code",
   "execution_count": 12,
   "metadata": {},
   "outputs": [
    {
     "data": {
      "application/vnd.plotly.v1+json": {
       "config": {
        "plotlyServerURL": "https://plot.ly"
       },
       "data": [
        {
         "hovertemplate": "variable=loss<br>index=%{x}<br>value=%{y}<extra></extra>",
         "legendgroup": "loss",
         "line": {
          "color": "#636efa",
          "dash": "solid"
         },
         "marker": {
          "symbol": "circle"
         },
         "mode": "lines",
         "name": "loss",
         "orientation": "v",
         "showlegend": true,
         "type": "scatter",
         "x": [
          0,
          1,
          2,
          3,
          4,
          5,
          6,
          7,
          8,
          9,
          10,
          11,
          12,
          13,
          14,
          15,
          16,
          17,
          18,
          19,
          20,
          21,
          22,
          23,
          24,
          25,
          26,
          27,
          28,
          29,
          30,
          31,
          32,
          33,
          34,
          35,
          36,
          37,
          38,
          39,
          40,
          41,
          42,
          43,
          44,
          45,
          46,
          47,
          48,
          49,
          50,
          51,
          52,
          53,
          54,
          55,
          56,
          57,
          58,
          59,
          60,
          61,
          62,
          63,
          64,
          65,
          66,
          67,
          68,
          69,
          70,
          71,
          72,
          73,
          74,
          75,
          76,
          77,
          78,
          79,
          80,
          81,
          82,
          83,
          84,
          85,
          86,
          87,
          88,
          89,
          90,
          91,
          92,
          93,
          94,
          95,
          96,
          97,
          98,
          99
         ],
         "xaxis": "x",
         "y": [
          2.578645944595337,
          1.2819010019302368,
          1.2499349117279053,
          0.7543619871139526,
          0.5250651240348816,
          0.5392415523529053,
          0.871289074420929,
          0.578320324420929,
          0.3136230409145355,
          0.4447591006755829,
          0.35859376192092896,
          0.23452147841453552,
          0.38780924677848816,
          0.2208251953125,
          0.2328694611787796,
          0.17194010317325592,
          0.16153158247470856,
          0.1210530623793602,
          0.10130207985639572,
          0.09028727561235428,
          0.05605875700712204,
          0.0568644218146801,
          0.08197224885225296,
          0.03254394605755806,
          0.07591959834098816,
          0.05569254606962204,
          0.10430832207202911,
          0.0789794921875,
          0.011079915799200535,
          0.05567016452550888,
          0.03493347018957138,
          0.02059224434196949,
          0.04376169666647911,
          0.058594513684511185,
          0.013278961181640625,
          0.013956832699477673,
          0.02647857740521431,
          0.02720336988568306,
          0.0068150837905704975,
          0.04295552521944046,
          0.02669626846909523,
          0.002851994941011071,
          0.08873698115348816,
          0.013392893597483635,
          0.006737772841006517,
          0.05508219450712204,
          0.002281061839312315,
          0.00201047258451581,
          0.0019875208381563425,
          0.0023281096946448088,
          0.011205037124454975,
          0.016308339312672615,
          0.004642740823328495,
          0.00017131169443018734,
          0.004217600915580988,
          0.00009347995364805683,
          0.0015784899005666375,
          0.00029865503893233836,
          0.01844339445233345,
          0.0037007650826126337,
          0.000028455257051973604,
          0.04537855088710785,
          0.0047622681595385075,
          0.06454823911190033,
          0.00963643379509449,
          0.007970682345330715,
          0.10507405549287796,
          0.04100138321518898,
          0.0053349812515079975,
          0.047449491918087006,
          0.13592936098575592,
          0.0030600230675190687,
          0.15673014521598816,
          0.0038244882598519325,
          0.01129150390625,
          0.05308837816119194,
          0.019083548337221146,
          0.0059224446304142475,
          0.0030204772483557463,
          0.01747640036046505,
          0.0038078308571130037,
          0.0005923270946368575,
          0.0005063216085545719,
          0.0009444554452784359,
          0.00362567906267941,
          0.0009206135873682797,
          0.0028617859352380037,
          0.0017472744220867753,
          0.0011151632061228156,
          0.000960791134275496,
          0.00032181740971282125,
          0.0006573676946572959,
          0.0005814671749249101,
          0.00018707911658566445,
          0.0008507410530000925,
          0.0005605300539173186,
          0.00025430123787373304,
          0.00023486216377932578,
          0.00016105175018310547,
          0.00004730224463855848
         ],
         "yaxis": "y"
        },
        {
         "hovertemplate": "variable=val_loss<br>index=%{x}<br>value=%{y}<extra></extra>",
         "legendgroup": "val_loss",
         "line": {
          "color": "#EF553B",
          "dash": "solid"
         },
         "marker": {
          "symbol": "circle"
         },
         "mode": "lines",
         "name": "val_loss",
         "orientation": "v",
         "showlegend": true,
         "type": "scatter",
         "x": [
          0,
          1,
          2,
          3,
          4,
          5,
          6,
          7,
          8,
          9,
          10,
          11,
          12,
          13,
          14,
          15,
          16,
          17,
          18,
          19,
          20,
          21,
          22,
          23,
          24,
          25,
          26,
          27,
          28,
          29,
          30,
          31,
          32,
          33,
          34,
          35,
          36,
          37,
          38,
          39,
          40,
          41,
          42,
          43,
          44,
          45,
          46,
          47,
          48,
          49,
          50,
          51,
          52,
          53,
          54,
          55,
          56,
          57,
          58,
          59,
          60,
          61,
          62,
          63,
          64,
          65,
          66,
          67,
          68,
          69,
          70,
          71,
          72,
          73,
          74,
          75,
          76,
          77,
          78,
          79,
          80,
          81,
          82,
          83,
          84,
          85,
          86,
          87,
          88,
          89,
          90,
          91,
          92,
          93,
          94,
          95,
          96,
          97,
          98,
          99
         ],
         "xaxis": "x",
         "y": [
          3.259765625,
          17.484375,
          29.125,
          11.359375,
          13.015625,
          18.75,
          18.5,
          12.6640625,
          6.38671875,
          3.4375,
          4.5078125,
          5.13671875,
          5.05078125,
          4.83984375,
          4.17578125,
          2.99609375,
          2.791015625,
          3.30078125,
          3.56640625,
          3.69140625,
          3.74609375,
          3.671875,
          3.677734375,
          3.6484375,
          3.568359375,
          3.396484375,
          3.1015625,
          2.890625,
          2.72265625,
          2.634765625,
          2.462890625,
          2.412109375,
          2.46484375,
          2.720703125,
          2.931640625,
          3.056640625,
          3.044921875,
          3.017578125,
          3.009765625,
          2.880859375,
          2.7421875,
          2.728515625,
          2.390625,
          2.021484375,
          1.837890625,
          1.974609375,
          2.31640625,
          2.62890625,
          2.87109375,
          3.0390625,
          3.169921875,
          3.181640625,
          3.1875,
          3.21484375,
          3.01953125,
          2.873046875,
          2.7734375,
          2.71875,
          2.6328125,
          2.728515625,
          2.81640625,
          3.390625,
          3.767578125,
          3.822265625,
          4.359375,
          5.04296875,
          5.10546875,
          4.60546875,
          4.28515625,
          4.3359375,
          4.01171875,
          3.93359375,
          3.88671875,
          3.7734375,
          3.75390625,
          3.546875,
          3.52734375,
          3.6015625,
          3.658203125,
          3.646484375,
          3.765625,
          4.04296875,
          4.2578125,
          4.41796875,
          4.51953125,
          4.609375,
          4.50390625,
          4.28125,
          4.08984375,
          3.9375,
          3.81640625,
          3.705078125,
          3.609375,
          3.52734375,
          3.453125,
          3.392578125,
          3.333984375,
          3.28515625,
          3.244140625,
          3.205078125
         ],
         "yaxis": "y"
        }
       ],
       "layout": {
        "legend": {
         "title": {
          "text": "variable"
         },
         "tracegroupgap": 0
        },
        "margin": {
         "t": 60
        },
        "template": {
         "data": {
          "bar": [
           {
            "error_x": {
             "color": "#2a3f5f"
            },
            "error_y": {
             "color": "#2a3f5f"
            },
            "marker": {
             "line": {
              "color": "#E5ECF6",
              "width": 0.5
             },
             "pattern": {
              "fillmode": "overlay",
              "size": 10,
              "solidity": 0.2
             }
            },
            "type": "bar"
           }
          ],
          "barpolar": [
           {
            "marker": {
             "line": {
              "color": "#E5ECF6",
              "width": 0.5
             },
             "pattern": {
              "fillmode": "overlay",
              "size": 10,
              "solidity": 0.2
             }
            },
            "type": "barpolar"
           }
          ],
          "carpet": [
           {
            "aaxis": {
             "endlinecolor": "#2a3f5f",
             "gridcolor": "white",
             "linecolor": "white",
             "minorgridcolor": "white",
             "startlinecolor": "#2a3f5f"
            },
            "baxis": {
             "endlinecolor": "#2a3f5f",
             "gridcolor": "white",
             "linecolor": "white",
             "minorgridcolor": "white",
             "startlinecolor": "#2a3f5f"
            },
            "type": "carpet"
           }
          ],
          "choropleth": [
           {
            "colorbar": {
             "outlinewidth": 0,
             "ticks": ""
            },
            "type": "choropleth"
           }
          ],
          "contour": [
           {
            "colorbar": {
             "outlinewidth": 0,
             "ticks": ""
            },
            "colorscale": [
             [
              0,
              "#0d0887"
             ],
             [
              0.1111111111111111,
              "#46039f"
             ],
             [
              0.2222222222222222,
              "#7201a8"
             ],
             [
              0.3333333333333333,
              "#9c179e"
             ],
             [
              0.4444444444444444,
              "#bd3786"
             ],
             [
              0.5555555555555556,
              "#d8576b"
             ],
             [
              0.6666666666666666,
              "#ed7953"
             ],
             [
              0.7777777777777778,
              "#fb9f3a"
             ],
             [
              0.8888888888888888,
              "#fdca26"
             ],
             [
              1,
              "#f0f921"
             ]
            ],
            "type": "contour"
           }
          ],
          "contourcarpet": [
           {
            "colorbar": {
             "outlinewidth": 0,
             "ticks": ""
            },
            "type": "contourcarpet"
           }
          ],
          "heatmap": [
           {
            "colorbar": {
             "outlinewidth": 0,
             "ticks": ""
            },
            "colorscale": [
             [
              0,
              "#0d0887"
             ],
             [
              0.1111111111111111,
              "#46039f"
             ],
             [
              0.2222222222222222,
              "#7201a8"
             ],
             [
              0.3333333333333333,
              "#9c179e"
             ],
             [
              0.4444444444444444,
              "#bd3786"
             ],
             [
              0.5555555555555556,
              "#d8576b"
             ],
             [
              0.6666666666666666,
              "#ed7953"
             ],
             [
              0.7777777777777778,
              "#fb9f3a"
             ],
             [
              0.8888888888888888,
              "#fdca26"
             ],
             [
              1,
              "#f0f921"
             ]
            ],
            "type": "heatmap"
           }
          ],
          "heatmapgl": [
           {
            "colorbar": {
             "outlinewidth": 0,
             "ticks": ""
            },
            "colorscale": [
             [
              0,
              "#0d0887"
             ],
             [
              0.1111111111111111,
              "#46039f"
             ],
             [
              0.2222222222222222,
              "#7201a8"
             ],
             [
              0.3333333333333333,
              "#9c179e"
             ],
             [
              0.4444444444444444,
              "#bd3786"
             ],
             [
              0.5555555555555556,
              "#d8576b"
             ],
             [
              0.6666666666666666,
              "#ed7953"
             ],
             [
              0.7777777777777778,
              "#fb9f3a"
             ],
             [
              0.8888888888888888,
              "#fdca26"
             ],
             [
              1,
              "#f0f921"
             ]
            ],
            "type": "heatmapgl"
           }
          ],
          "histogram": [
           {
            "marker": {
             "pattern": {
              "fillmode": "overlay",
              "size": 10,
              "solidity": 0.2
             }
            },
            "type": "histogram"
           }
          ],
          "histogram2d": [
           {
            "colorbar": {
             "outlinewidth": 0,
             "ticks": ""
            },
            "colorscale": [
             [
              0,
              "#0d0887"
             ],
             [
              0.1111111111111111,
              "#46039f"
             ],
             [
              0.2222222222222222,
              "#7201a8"
             ],
             [
              0.3333333333333333,
              "#9c179e"
             ],
             [
              0.4444444444444444,
              "#bd3786"
             ],
             [
              0.5555555555555556,
              "#d8576b"
             ],
             [
              0.6666666666666666,
              "#ed7953"
             ],
             [
              0.7777777777777778,
              "#fb9f3a"
             ],
             [
              0.8888888888888888,
              "#fdca26"
             ],
             [
              1,
              "#f0f921"
             ]
            ],
            "type": "histogram2d"
           }
          ],
          "histogram2dcontour": [
           {
            "colorbar": {
             "outlinewidth": 0,
             "ticks": ""
            },
            "colorscale": [
             [
              0,
              "#0d0887"
             ],
             [
              0.1111111111111111,
              "#46039f"
             ],
             [
              0.2222222222222222,
              "#7201a8"
             ],
             [
              0.3333333333333333,
              "#9c179e"
             ],
             [
              0.4444444444444444,
              "#bd3786"
             ],
             [
              0.5555555555555556,
              "#d8576b"
             ],
             [
              0.6666666666666666,
              "#ed7953"
             ],
             [
              0.7777777777777778,
              "#fb9f3a"
             ],
             [
              0.8888888888888888,
              "#fdca26"
             ],
             [
              1,
              "#f0f921"
             ]
            ],
            "type": "histogram2dcontour"
           }
          ],
          "mesh3d": [
           {
            "colorbar": {
             "outlinewidth": 0,
             "ticks": ""
            },
            "type": "mesh3d"
           }
          ],
          "parcoords": [
           {
            "line": {
             "colorbar": {
              "outlinewidth": 0,
              "ticks": ""
             }
            },
            "type": "parcoords"
           }
          ],
          "pie": [
           {
            "automargin": true,
            "type": "pie"
           }
          ],
          "scatter": [
           {
            "fillpattern": {
             "fillmode": "overlay",
             "size": 10,
             "solidity": 0.2
            },
            "type": "scatter"
           }
          ],
          "scatter3d": [
           {
            "line": {
             "colorbar": {
              "outlinewidth": 0,
              "ticks": ""
             }
            },
            "marker": {
             "colorbar": {
              "outlinewidth": 0,
              "ticks": ""
             }
            },
            "type": "scatter3d"
           }
          ],
          "scattercarpet": [
           {
            "marker": {
             "colorbar": {
              "outlinewidth": 0,
              "ticks": ""
             }
            },
            "type": "scattercarpet"
           }
          ],
          "scattergeo": [
           {
            "marker": {
             "colorbar": {
              "outlinewidth": 0,
              "ticks": ""
             }
            },
            "type": "scattergeo"
           }
          ],
          "scattergl": [
           {
            "marker": {
             "colorbar": {
              "outlinewidth": 0,
              "ticks": ""
             }
            },
            "type": "scattergl"
           }
          ],
          "scattermapbox": [
           {
            "marker": {
             "colorbar": {
              "outlinewidth": 0,
              "ticks": ""
             }
            },
            "type": "scattermapbox"
           }
          ],
          "scatterpolar": [
           {
            "marker": {
             "colorbar": {
              "outlinewidth": 0,
              "ticks": ""
             }
            },
            "type": "scatterpolar"
           }
          ],
          "scatterpolargl": [
           {
            "marker": {
             "colorbar": {
              "outlinewidth": 0,
              "ticks": ""
             }
            },
            "type": "scatterpolargl"
           }
          ],
          "scatterternary": [
           {
            "marker": {
             "colorbar": {
              "outlinewidth": 0,
              "ticks": ""
             }
            },
            "type": "scatterternary"
           }
          ],
          "surface": [
           {
            "colorbar": {
             "outlinewidth": 0,
             "ticks": ""
            },
            "colorscale": [
             [
              0,
              "#0d0887"
             ],
             [
              0.1111111111111111,
              "#46039f"
             ],
             [
              0.2222222222222222,
              "#7201a8"
             ],
             [
              0.3333333333333333,
              "#9c179e"
             ],
             [
              0.4444444444444444,
              "#bd3786"
             ],
             [
              0.5555555555555556,
              "#d8576b"
             ],
             [
              0.6666666666666666,
              "#ed7953"
             ],
             [
              0.7777777777777778,
              "#fb9f3a"
             ],
             [
              0.8888888888888888,
              "#fdca26"
             ],
             [
              1,
              "#f0f921"
             ]
            ],
            "type": "surface"
           }
          ],
          "table": [
           {
            "cells": {
             "fill": {
              "color": "#EBF0F8"
             },
             "line": {
              "color": "white"
             }
            },
            "header": {
             "fill": {
              "color": "#C8D4E3"
             },
             "line": {
              "color": "white"
             }
            },
            "type": "table"
           }
          ]
         },
         "layout": {
          "annotationdefaults": {
           "arrowcolor": "#2a3f5f",
           "arrowhead": 0,
           "arrowwidth": 1
          },
          "autotypenumbers": "strict",
          "coloraxis": {
           "colorbar": {
            "outlinewidth": 0,
            "ticks": ""
           }
          },
          "colorscale": {
           "diverging": [
            [
             0,
             "#8e0152"
            ],
            [
             0.1,
             "#c51b7d"
            ],
            [
             0.2,
             "#de77ae"
            ],
            [
             0.3,
             "#f1b6da"
            ],
            [
             0.4,
             "#fde0ef"
            ],
            [
             0.5,
             "#f7f7f7"
            ],
            [
             0.6,
             "#e6f5d0"
            ],
            [
             0.7,
             "#b8e186"
            ],
            [
             0.8,
             "#7fbc41"
            ],
            [
             0.9,
             "#4d9221"
            ],
            [
             1,
             "#276419"
            ]
           ],
           "sequential": [
            [
             0,
             "#0d0887"
            ],
            [
             0.1111111111111111,
             "#46039f"
            ],
            [
             0.2222222222222222,
             "#7201a8"
            ],
            [
             0.3333333333333333,
             "#9c179e"
            ],
            [
             0.4444444444444444,
             "#bd3786"
            ],
            [
             0.5555555555555556,
             "#d8576b"
            ],
            [
             0.6666666666666666,
             "#ed7953"
            ],
            [
             0.7777777777777778,
             "#fb9f3a"
            ],
            [
             0.8888888888888888,
             "#fdca26"
            ],
            [
             1,
             "#f0f921"
            ]
           ],
           "sequentialminus": [
            [
             0,
             "#0d0887"
            ],
            [
             0.1111111111111111,
             "#46039f"
            ],
            [
             0.2222222222222222,
             "#7201a8"
            ],
            [
             0.3333333333333333,
             "#9c179e"
            ],
            [
             0.4444444444444444,
             "#bd3786"
            ],
            [
             0.5555555555555556,
             "#d8576b"
            ],
            [
             0.6666666666666666,
             "#ed7953"
            ],
            [
             0.7777777777777778,
             "#fb9f3a"
            ],
            [
             0.8888888888888888,
             "#fdca26"
            ],
            [
             1,
             "#f0f921"
            ]
           ]
          },
          "colorway": [
           "#636efa",
           "#EF553B",
           "#00cc96",
           "#ab63fa",
           "#FFA15A",
           "#19d3f3",
           "#FF6692",
           "#B6E880",
           "#FF97FF",
           "#FECB52"
          ],
          "font": {
           "color": "#2a3f5f"
          },
          "geo": {
           "bgcolor": "white",
           "lakecolor": "white",
           "landcolor": "#E5ECF6",
           "showlakes": true,
           "showland": true,
           "subunitcolor": "white"
          },
          "hoverlabel": {
           "align": "left"
          },
          "hovermode": "closest",
          "mapbox": {
           "style": "light"
          },
          "paper_bgcolor": "white",
          "plot_bgcolor": "#E5ECF6",
          "polar": {
           "angularaxis": {
            "gridcolor": "white",
            "linecolor": "white",
            "ticks": ""
           },
           "bgcolor": "#E5ECF6",
           "radialaxis": {
            "gridcolor": "white",
            "linecolor": "white",
            "ticks": ""
           }
          },
          "scene": {
           "xaxis": {
            "backgroundcolor": "#E5ECF6",
            "gridcolor": "white",
            "gridwidth": 2,
            "linecolor": "white",
            "showbackground": true,
            "ticks": "",
            "zerolinecolor": "white"
           },
           "yaxis": {
            "backgroundcolor": "#E5ECF6",
            "gridcolor": "white",
            "gridwidth": 2,
            "linecolor": "white",
            "showbackground": true,
            "ticks": "",
            "zerolinecolor": "white"
           },
           "zaxis": {
            "backgroundcolor": "#E5ECF6",
            "gridcolor": "white",
            "gridwidth": 2,
            "linecolor": "white",
            "showbackground": true,
            "ticks": "",
            "zerolinecolor": "white"
           }
          },
          "shapedefaults": {
           "line": {
            "color": "#2a3f5f"
           }
          },
          "ternary": {
           "aaxis": {
            "gridcolor": "white",
            "linecolor": "white",
            "ticks": ""
           },
           "baxis": {
            "gridcolor": "white",
            "linecolor": "white",
            "ticks": ""
           },
           "bgcolor": "#E5ECF6",
           "caxis": {
            "gridcolor": "white",
            "linecolor": "white",
            "ticks": ""
           }
          },
          "title": {
           "x": 0.05
          },
          "xaxis": {
           "automargin": true,
           "gridcolor": "white",
           "linecolor": "white",
           "ticks": "",
           "title": {
            "standoff": 15
           },
           "zerolinecolor": "white",
           "zerolinewidth": 2
          },
          "yaxis": {
           "automargin": true,
           "gridcolor": "white",
           "linecolor": "white",
           "ticks": "",
           "title": {
            "standoff": 15
           },
           "zerolinecolor": "white",
           "zerolinewidth": 2
          }
         }
        },
        "xaxis": {
         "anchor": "y",
         "domain": [
          0,
          1
         ],
         "title": {
          "text": "index"
         }
        },
        "yaxis": {
         "anchor": "x",
         "domain": [
          0,
          1
         ],
         "title": {
          "text": "value"
         }
        }
       }
      }
     },
     "metadata": {},
     "output_type": "display_data"
    }
   ],
   "source": [
    "f1 = np.array(history.history['loss']).flatten()\n",
    "valf1 = np.array(history.history['val_loss']).flatten()\n",
    "px.line(pd.DataFrame(np.array([f1, valf1]).T, columns=['loss', 'val_loss'])).show()"
   ]
  }
 ],
 "metadata": {
  "kernelspec": {
   "display_name": "Python 3.10.7 64-bit",
   "language": "python",
   "name": "python3"
  },
  "language_info": {
   "codemirror_mode": {
    "name": "ipython",
    "version": 3
   },
   "file_extension": ".py",
   "mimetype": "text/x-python",
   "name": "python",
   "nbconvert_exporter": "python",
   "pygments_lexer": "ipython3",
   "version": "3.10.7 (tags/v3.10.7:6cc6b13, Sep  5 2022, 14:08:36) [MSC v.1933 64 bit (AMD64)]"
  },
  "orig_nbformat": 4,
  "vscode": {
   "interpreter": {
    "hash": "369f2c481f4da34e4445cda3fffd2e751bd1c4d706f27375911949ba6bb62e1c"
   }
  }
 },
 "nbformat": 4,
 "nbformat_minor": 2
}
