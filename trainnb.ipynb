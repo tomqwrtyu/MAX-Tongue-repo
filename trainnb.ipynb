{
 "cells": [
  {
   "cell_type": "code",
   "execution_count": 1,
   "metadata": {},
   "outputs": [
    {
     "name": "stdout",
     "output_type": "stream",
     "text": [
      "INFO:tensorflow:Mixed precision compatibility check (mixed_float16): OK\n",
      "Your GPU will likely run quickly with dtype policy mixed_float16 as it has compute capability of at least 7.0. Your GPU: NVIDIA GeForce RTX 2080 Ti, compute capability 7.5\n"
     ]
    }
   ],
   "source": [
    "import pandas as pd\n",
    "import numpy as np\n",
    "import tensorflow as tf\n",
    "from sklearn.model_selection import train_test_split\n",
    "tf.keras.mixed_precision.set_global_policy('mixed_float16')\n",
    "\n",
    "BATCH_SIZE = 32\n",
    "CHANNEL_NUMBER = 3\n",
    "WINDOW_SIZE = 750\n",
    "SLIDING_STEP = int(WINDOW_SIZE * 0.4)\n",
    "CLASS_NUMBER = 2\n",
    "if CLASS_NUMBER < 3:\n",
    "        CLASS_NUMBER = 1\n",
    "\n",
    "def slicingAndNormalize(arr):\n",
    "    def normalizer(X):\n",
    "        ret = np.zeros(X.shape)\n",
    "        mean = np.average(X, axis=1)\n",
    "        std = np.std(X, axis=1)\n",
    "        ret = (X - mean) / std\n",
    "        return ret\n",
    "    \n",
    "    totalLength = arr.shape[-1]\n",
    "    if totalLength <= WINDOW_SIZE:\n",
    "        return arr\n",
    "    ret = normalizer((arr[:, :WINDOW_SIZE].T)[np.newaxis, :])\n",
    "    \n",
    "    i = SLIDING_STEP\n",
    "    while (totalLength - i) > WINDOW_SIZE:\n",
    "        new = normalizer((arr[:, i: (i + WINDOW_SIZE)].T)[np.newaxis, :])\n",
    "        ret = np.concatenate([ret, new], axis=0)\n",
    "        i += SLIDING_STEP\n",
    "    return ret\n",
    "\n",
    "def buildModel():\n",
    "    model = tf.keras.Sequential([\n",
    "        tf.keras.layers.Conv1D(8, 6, activation='relu', input_shape=(WINDOW_SIZE, CHANNEL_NUMBER)),\n",
    "        tf.keras.layers.BatchNormalization(axis=1),\n",
    "        tf.keras.layers.MaxPool1D(padding='same'),\n",
    "        tf.keras.layers.Dropout(0.1),\n",
    "        tf.keras.layers.Conv1D(32, 6, strides=4, activation='relu'),\n",
    "        tf.keras.layers.BatchNormalization(axis=1),\n",
    "        tf.keras.layers.MaxPool1D(padding='same'),\n",
    "        tf.keras.layers.Dropout(0.1),\n",
    "        tf.keras.layers.Conv1D(48, 6, strides=2, activation='relu'),\n",
    "        tf.keras.layers.BatchNormalization(axis=1),\n",
    "        tf.keras.layers.MaxPool1D(padding='same'),\n",
    "        tf.keras.layers.Dropout(0.1),\n",
    "        tf.keras.layers.Conv1D(96, 6, activation='relu'),\n",
    "        tf.keras.layers.BatchNormalization(axis=1),\n",
    "        tf.keras.layers.MaxPool1D(padding='same'),\n",
    "        tf.keras.layers.Dropout(0.1),\n",
    "        tf.keras.layers.Flatten(),\n",
    "        tf.keras.layers.Dense(256, activation='relu'),\n",
    "        tf.keras.layers.Dense(CLASS_NUMBER, activation='softmax')]\n",
    "    )\n",
    "    model.compile(optimizer='adam',\n",
    "                loss=tf.keras.losses.BinaryCrossentropy(),\n",
    "                metrics=[tf.keras.metrics.Precision(),\n",
    "                         tf.keras.metrics.Recall()])\n",
    "    model.summary()\n",
    "    return model"
   ]
  },
  {
   "cell_type": "code",
   "execution_count": 2,
   "metadata": {},
   "outputs": [],
   "source": [
    "trainFile = './data/coswave.npy'\n",
    "X = slicingAndNormalize(np.load(trainFile))\n",
    "y = np.array([1] * X.shape[0])\n",
    "X_train, X_test, y_train, y_test = train_test_split(X, y, test_size=0.2, random_state=777)"
   ]
  },
  {
   "cell_type": "code",
   "execution_count": 3,
   "metadata": {},
   "outputs": [
    {
     "data": {
      "text/plain": [
       "(18, 750, 3)"
      ]
     },
     "execution_count": 3,
     "metadata": {},
     "output_type": "execute_result"
    }
   ],
   "source": [
    "X_train.shape"
   ]
  },
  {
   "cell_type": "code",
   "execution_count": 4,
   "metadata": {},
   "outputs": [],
   "source": [
    "a = tf.keras.layers.Conv1D(8, 2, activation='relu', input_shape=(750, 3))(X_train)"
   ]
  },
  {
   "cell_type": "code",
   "execution_count": 5,
   "metadata": {},
   "outputs": [
    {
     "name": "stdout",
     "output_type": "stream",
     "text": [
      "Model: \"sequential\"\n",
      "_________________________________________________________________\n",
      " Layer (type)                Output Shape              Param #   \n",
      "=================================================================\n",
      " conv1d_1 (Conv1D)           (None, 745, 8)            152       \n",
      "                                                                 \n",
      " batch_normalization (BatchN  (None, 745, 8)           2980      \n",
      " ormalization)                                                   \n",
      "                                                                 \n",
      " max_pooling1d (MaxPooling1D  (None, 373, 8)           0         \n",
      " )                                                               \n",
      "                                                                 \n",
      " dropout (Dropout)           (None, 373, 8)            0         \n",
      "                                                                 \n",
      " conv1d_2 (Conv1D)           (None, 92, 32)            1568      \n",
      "                                                                 \n",
      " batch_normalization_1 (Batc  (None, 92, 32)           368       \n",
      " hNormalization)                                                 \n",
      "                                                                 \n",
      " max_pooling1d_1 (MaxPooling  (None, 46, 32)           0         \n",
      " 1D)                                                             \n",
      "                                                                 \n",
      " dropout_1 (Dropout)         (None, 46, 32)            0         \n",
      "                                                                 \n",
      " conv1d_3 (Conv1D)           (None, 21, 48)            9264      \n",
      "                                                                 \n",
      " batch_normalization_2 (Batc  (None, 21, 48)           84        \n",
      " hNormalization)                                                 \n",
      "                                                                 \n",
      " max_pooling1d_2 (MaxPooling  (None, 11, 48)           0         \n",
      " 1D)                                                             \n",
      "                                                                 \n",
      " dropout_2 (Dropout)         (None, 11, 48)            0         \n",
      "                                                                 \n",
      " conv1d_4 (Conv1D)           (None, 6, 96)             27744     \n",
      "                                                                 \n",
      " batch_normalization_3 (Batc  (None, 6, 96)            24        \n",
      " hNormalization)                                                 \n",
      "                                                                 \n",
      " max_pooling1d_3 (MaxPooling  (None, 3, 96)            0         \n",
      " 1D)                                                             \n",
      "                                                                 \n",
      " dropout_3 (Dropout)         (None, 3, 96)             0         \n",
      "                                                                 \n",
      " flatten (Flatten)           (None, 288)               0         \n",
      "                                                                 \n",
      " dense (Dense)               (None, 256)               73984     \n",
      "                                                                 \n",
      " dense_1 (Dense)             (None, 1)                 257       \n",
      "                                                                 \n",
      "=================================================================\n",
      "Total params: 116,425\n",
      "Trainable params: 114,697\n",
      "Non-trainable params: 1,728\n",
      "_________________________________________________________________\n"
     ]
    }
   ],
   "source": [
    "model = buildModel()"
   ]
  },
  {
   "cell_type": "code",
   "execution_count": 6,
   "metadata": {},
   "outputs": [
    {
     "name": "stdout",
     "output_type": "stream",
     "text": [
      "Epoch 1/20\n",
      "1/1 [==============================] - 3s 3s/step - loss: 0.4229 - precision: 1.0000 - recall: 1.0000 - val_loss: 0.5464 - val_precision: 1.0000 - val_recall: 1.0000\n",
      "Epoch 2/20\n",
      "1/1 [==============================] - 0s 44ms/step - loss: 0.0345 - precision: 1.0000 - recall: 1.0000 - val_loss: 0.4624 - val_precision: 1.0000 - val_recall: 1.0000\n",
      "Epoch 3/20\n",
      "1/1 [==============================] - 0s 45ms/step - loss: 0.0048 - precision: 1.0000 - recall: 1.0000 - val_loss: 0.4031 - val_precision: 1.0000 - val_recall: 1.0000\n",
      "Epoch 4/20\n",
      "1/1 [==============================] - 0s 44ms/step - loss: 0.0020 - precision: 1.0000 - recall: 1.0000 - val_loss: 0.3591 - val_precision: 1.0000 - val_recall: 1.0000\n",
      "Epoch 5/20\n",
      "1/1 [==============================] - 0s 45ms/step - loss: 8.3447e-04 - precision: 1.0000 - recall: 1.0000 - val_loss: 0.3267 - val_precision: 1.0000 - val_recall: 1.0000\n",
      "Epoch 6/20\n",
      "1/1 [==============================] - 0s 45ms/step - loss: 2.5392e-04 - precision: 1.0000 - recall: 1.0000 - val_loss: 0.3003 - val_precision: 1.0000 - val_recall: 1.0000\n",
      "Epoch 7/20\n",
      "1/1 [==============================] - 0s 47ms/step - loss: 1.6904e-04 - precision: 1.0000 - recall: 1.0000 - val_loss: 0.2791 - val_precision: 1.0000 - val_recall: 1.0000\n",
      "Epoch 8/20\n",
      "1/1 [==============================] - 0s 48ms/step - loss: 6.3956e-05 - precision: 1.0000 - recall: 1.0000 - val_loss: 0.2622 - val_precision: 1.0000 - val_recall: 1.0000\n",
      "Epoch 9/20\n",
      "1/1 [==============================] - 0s 47ms/step - loss: 1.1158e-04 - precision: 1.0000 - recall: 1.0000 - val_loss: 0.2480 - val_precision: 1.0000 - val_recall: 1.0000\n",
      "Epoch 10/20\n",
      "1/1 [==============================] - 0s 48ms/step - loss: 3.8981e-05 - precision: 1.0000 - recall: 1.0000 - val_loss: 0.2367 - val_precision: 1.0000 - val_recall: 1.0000\n",
      "Epoch 11/20\n",
      "1/1 [==============================] - 0s 47ms/step - loss: 3.5167e-05 - precision: 1.0000 - recall: 1.0000 - val_loss: 0.2272 - val_precision: 1.0000 - val_recall: 1.0000\n",
      "Epoch 12/20\n",
      "1/1 [==============================] - 0s 49ms/step - loss: 3.8981e-05 - precision: 1.0000 - recall: 1.0000 - val_loss: 0.2197 - val_precision: 1.0000 - val_recall: 1.0000\n",
      "Epoch 13/20\n",
      "1/1 [==============================] - 0s 44ms/step - loss: 2.2173e-05 - precision: 1.0000 - recall: 1.0000 - val_loss: 0.2133 - val_precision: 1.0000 - val_recall: 1.0000\n",
      "Epoch 14/20\n",
      "1/1 [==============================] - 0s 48ms/step - loss: 1.8477e-05 - precision: 1.0000 - recall: 1.0000 - val_loss: 0.2084 - val_precision: 1.0000 - val_recall: 1.0000\n",
      "Epoch 15/20\n",
      "1/1 [==============================] - 0s 48ms/step - loss: 1.2100e-05 - precision: 1.0000 - recall: 1.0000 - val_loss: 0.2041 - val_precision: 1.0000 - val_recall: 1.0000\n",
      "Epoch 16/20\n",
      "1/1 [==============================] - 0s 46ms/step - loss: 1.1563e-05 - precision: 1.0000 - recall: 1.0000 - val_loss: 0.2006 - val_precision: 1.0000 - val_recall: 1.0000\n",
      "Epoch 17/20\n",
      "1/1 [==============================] - 0s 47ms/step - loss: 6.6161e-06 - precision: 1.0000 - recall: 1.0000 - val_loss: 0.1980 - val_precision: 1.0000 - val_recall: 1.0000\n",
      "Epoch 18/20\n",
      "1/1 [==============================] - 0s 47ms/step - loss: 5.5432e-06 - precision: 1.0000 - recall: 1.0000 - val_loss: 0.1965 - val_precision: 1.0000 - val_recall: 1.0000\n",
      "Epoch 19/20\n",
      "1/1 [==============================] - 0s 46ms/step - loss: 6.9141e-06 - precision: 1.0000 - recall: 1.0000 - val_loss: 0.1952 - val_precision: 1.0000 - val_recall: 1.0000\n",
      "Epoch 20/20\n",
      "1/1 [==============================] - 0s 47ms/step - loss: 7.6890e-06 - precision: 1.0000 - recall: 1.0000 - val_loss: 0.1943 - val_precision: 1.0000 - val_recall: 1.0000\n"
     ]
    },
    {
     "data": {
      "text/plain": [
       "<keras.callbacks.History at 0x23245b1bee0>"
      ]
     },
     "execution_count": 6,
     "metadata": {},
     "output_type": "execute_result"
    }
   ],
   "source": [
    "model.fit(x=X_train,\n",
    "          y=y_train,\n",
    "          epochs=20,\n",
    "          validation_data=(X_test,y_test))"
   ]
  }
 ],
 "metadata": {
  "kernelspec": {
   "display_name": "Python 3.10.7 64-bit",
   "language": "python",
   "name": "python3"
  },
  "language_info": {
   "codemirror_mode": {
    "name": "ipython",
    "version": 3
   },
   "file_extension": ".py",
   "mimetype": "text/x-python",
   "name": "python",
   "nbconvert_exporter": "python",
   "pygments_lexer": "ipython3",
   "version": "3.10.7"
  },
  "orig_nbformat": 4,
  "vscode": {
   "interpreter": {
    "hash": "369f2c481f4da34e4445cda3fffd2e751bd1c4d706f27375911949ba6bb62e1c"
   }
  }
 },
 "nbformat": 4,
 "nbformat_minor": 2
}
